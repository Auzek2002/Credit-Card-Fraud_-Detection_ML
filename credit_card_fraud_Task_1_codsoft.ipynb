{
  "nbformat": 4,
  "nbformat_minor": 0,
  "metadata": {
    "colab": {
      "provenance": [],
      "authorship_tag": "ABX9TyNSRLBeX4CZWF/zvXWKVb2+",
      "include_colab_link": true
    },
    "kernelspec": {
      "name": "python3",
      "display_name": "Python 3"
    },
    "language_info": {
      "name": "python"
    }
  },
  "cells": [
    {
      "cell_type": "markdown",
      "metadata": {
        "id": "view-in-github",
        "colab_type": "text"
      },
      "source": [
        "<a href=\"https://colab.research.google.com/github/Auzek2002/Credit-Card-Fraud_-Detection_ML/blob/main/credit_card_fraud_Task_1_codsoft.ipynb\" target=\"_parent\"><img src=\"https://colab.research.google.com/assets/colab-badge.svg\" alt=\"Open In Colab\"/></a>"
      ]
    },
    {
      "cell_type": "markdown",
      "source": [
        "## **importing Dependencies**"
      ],
      "metadata": {
        "id": "hmsSR2iFDief"
      }
    },
    {
      "cell_type": "code",
      "source": [
        "import pandas as pd\n",
        "import numpy as np\n",
        "import matplotlib.pyplot as plt\n",
        "from imblearn.over_sampling import SMOTE\n",
        "from sklearn.linear_model import LogisticRegression\n",
        "from sklearn.model_selection import train_test_split\n",
        "from sklearn.metrics import accuracy_score\n",
        "from sklearn.metrics import precision_score\n",
        "from sklearn.metrics import recall_score\n",
        "from sklearn.metrics import f1_score\n",
        "from sklearn.preprocessing import StandardScaler\n",
        "import seaborn as sns\n",
        "from sklearn.tree import DecisionTreeClassifier\n",
        "from sklearn.ensemble import RandomForestClassifier\n",
        "from sklearn.svm import SVC\n",
        "from sklearn.neighbors import KNeighborsClassifier\n",
        "%matplotlib inline"
      ],
      "metadata": {
        "id": "aifybACeeaZ4"
      },
      "execution_count": 557,
      "outputs": []
    },
    {
      "cell_type": "code",
      "source": [
        "df = pd.read_csv(\"/content/fraudTrain.csv\")"
      ],
      "metadata": {
        "id": "JL5qLKvzej96"
      },
      "execution_count": 558,
      "outputs": []
    },
    {
      "cell_type": "code",
      "source": [
        "df.head()"
      ],
      "metadata": {
        "id": "z_Y5ixSIhDr5",
        "colab": {
          "base_uri": "https://localhost:8080/",
          "height": 551
        },
        "outputId": "19afc6be-bf85-4d80-f1e2-060a385c8b31"
      },
      "execution_count": 559,
      "outputs": [
        {
          "output_type": "execute_result",
          "data": {
            "text/plain": [
              "   Unnamed: 0 trans_date_trans_time            cc_num  \\\n",
              "0           0   2019-01-01 00:00:18  2703186189652095   \n",
              "1           1   2019-01-01 00:00:44      630423337322   \n",
              "2           2   2019-01-01 00:00:51    38859492057661   \n",
              "3           3   2019-01-01 00:01:16  3534093764340240   \n",
              "4           4   2019-01-01 00:03:06   375534208663984   \n",
              "\n",
              "                             merchant       category     amt      first  \\\n",
              "0          fraud_Rippin, Kub and Mann       misc_net    4.97   Jennifer   \n",
              "1     fraud_Heller, Gutmann and Zieme    grocery_pos  107.23  Stephanie   \n",
              "2                fraud_Lind-Buckridge  entertainment  220.11     Edward   \n",
              "3  fraud_Kutch, Hermiston and Farrell  gas_transport   45.00     Jeremy   \n",
              "4                 fraud_Keeling-Crist       misc_pos   41.96      Tyler   \n",
              "\n",
              "      last gender                        street  ...      lat      long  \\\n",
              "0    Banks      F                561 Perry Cove  ...  36.0788  -81.1781   \n",
              "1     Gill      F  43039 Riley Greens Suite 393  ...  48.8878 -118.2105   \n",
              "2  Sanchez      M      594 White Dale Suite 530  ...  42.1808 -112.2620   \n",
              "3    White      M   9443 Cynthia Court Apt. 038  ...  46.2306 -112.1138   \n",
              "4   Garcia      M              408 Bradley Rest  ...  38.4207  -79.4629   \n",
              "\n",
              "   city_pop                                job         dob  \\\n",
              "0      3495          Psychologist, counselling  1988-03-09   \n",
              "1       149  Special educational needs teacher  1978-06-21   \n",
              "2      4154        Nature conservation officer  1962-01-19   \n",
              "3      1939                    Patent attorney  1967-01-12   \n",
              "4        99     Dance movement psychotherapist  1986-03-28   \n",
              "\n",
              "                          trans_num   unix_time  merch_lat  merch_long  \\\n",
              "0  0b242abb623afc578575680df30655b9  1325376018  36.011293  -82.048315   \n",
              "1  1f76529f8574734946361c461b024d99  1325376044  49.159047 -118.186462   \n",
              "2  a1a22d70485983eac12b5b88dad1cf95  1325376051  43.150704 -112.154481   \n",
              "3  6b849c168bdad6f867558c3793159a81  1325376076  47.034331 -112.561071   \n",
              "4  a41d7549acf90789359a9aa5346dcb46  1325376186  38.674999  -78.632459   \n",
              "\n",
              "   is_fraud  \n",
              "0       0.0  \n",
              "1       0.0  \n",
              "2       0.0  \n",
              "3       0.0  \n",
              "4       0.0  \n",
              "\n",
              "[5 rows x 23 columns]"
            ],
            "text/html": [
              "\n",
              "  <div id=\"df-f5afeaa2-0412-4175-bbfb-13c49216ff5c\" class=\"colab-df-container\">\n",
              "    <div>\n",
              "<style scoped>\n",
              "    .dataframe tbody tr th:only-of-type {\n",
              "        vertical-align: middle;\n",
              "    }\n",
              "\n",
              "    .dataframe tbody tr th {\n",
              "        vertical-align: top;\n",
              "    }\n",
              "\n",
              "    .dataframe thead th {\n",
              "        text-align: right;\n",
              "    }\n",
              "</style>\n",
              "<table border=\"1\" class=\"dataframe\">\n",
              "  <thead>\n",
              "    <tr style=\"text-align: right;\">\n",
              "      <th></th>\n",
              "      <th>Unnamed: 0</th>\n",
              "      <th>trans_date_trans_time</th>\n",
              "      <th>cc_num</th>\n",
              "      <th>merchant</th>\n",
              "      <th>category</th>\n",
              "      <th>amt</th>\n",
              "      <th>first</th>\n",
              "      <th>last</th>\n",
              "      <th>gender</th>\n",
              "      <th>street</th>\n",
              "      <th>...</th>\n",
              "      <th>lat</th>\n",
              "      <th>long</th>\n",
              "      <th>city_pop</th>\n",
              "      <th>job</th>\n",
              "      <th>dob</th>\n",
              "      <th>trans_num</th>\n",
              "      <th>unix_time</th>\n",
              "      <th>merch_lat</th>\n",
              "      <th>merch_long</th>\n",
              "      <th>is_fraud</th>\n",
              "    </tr>\n",
              "  </thead>\n",
              "  <tbody>\n",
              "    <tr>\n",
              "      <th>0</th>\n",
              "      <td>0</td>\n",
              "      <td>2019-01-01 00:00:18</td>\n",
              "      <td>2703186189652095</td>\n",
              "      <td>fraud_Rippin, Kub and Mann</td>\n",
              "      <td>misc_net</td>\n",
              "      <td>4.97</td>\n",
              "      <td>Jennifer</td>\n",
              "      <td>Banks</td>\n",
              "      <td>F</td>\n",
              "      <td>561 Perry Cove</td>\n",
              "      <td>...</td>\n",
              "      <td>36.0788</td>\n",
              "      <td>-81.1781</td>\n",
              "      <td>3495</td>\n",
              "      <td>Psychologist, counselling</td>\n",
              "      <td>1988-03-09</td>\n",
              "      <td>0b242abb623afc578575680df30655b9</td>\n",
              "      <td>1325376018</td>\n",
              "      <td>36.011293</td>\n",
              "      <td>-82.048315</td>\n",
              "      <td>0.0</td>\n",
              "    </tr>\n",
              "    <tr>\n",
              "      <th>1</th>\n",
              "      <td>1</td>\n",
              "      <td>2019-01-01 00:00:44</td>\n",
              "      <td>630423337322</td>\n",
              "      <td>fraud_Heller, Gutmann and Zieme</td>\n",
              "      <td>grocery_pos</td>\n",
              "      <td>107.23</td>\n",
              "      <td>Stephanie</td>\n",
              "      <td>Gill</td>\n",
              "      <td>F</td>\n",
              "      <td>43039 Riley Greens Suite 393</td>\n",
              "      <td>...</td>\n",
              "      <td>48.8878</td>\n",
              "      <td>-118.2105</td>\n",
              "      <td>149</td>\n",
              "      <td>Special educational needs teacher</td>\n",
              "      <td>1978-06-21</td>\n",
              "      <td>1f76529f8574734946361c461b024d99</td>\n",
              "      <td>1325376044</td>\n",
              "      <td>49.159047</td>\n",
              "      <td>-118.186462</td>\n",
              "      <td>0.0</td>\n",
              "    </tr>\n",
              "    <tr>\n",
              "      <th>2</th>\n",
              "      <td>2</td>\n",
              "      <td>2019-01-01 00:00:51</td>\n",
              "      <td>38859492057661</td>\n",
              "      <td>fraud_Lind-Buckridge</td>\n",
              "      <td>entertainment</td>\n",
              "      <td>220.11</td>\n",
              "      <td>Edward</td>\n",
              "      <td>Sanchez</td>\n",
              "      <td>M</td>\n",
              "      <td>594 White Dale Suite 530</td>\n",
              "      <td>...</td>\n",
              "      <td>42.1808</td>\n",
              "      <td>-112.2620</td>\n",
              "      <td>4154</td>\n",
              "      <td>Nature conservation officer</td>\n",
              "      <td>1962-01-19</td>\n",
              "      <td>a1a22d70485983eac12b5b88dad1cf95</td>\n",
              "      <td>1325376051</td>\n",
              "      <td>43.150704</td>\n",
              "      <td>-112.154481</td>\n",
              "      <td>0.0</td>\n",
              "    </tr>\n",
              "    <tr>\n",
              "      <th>3</th>\n",
              "      <td>3</td>\n",
              "      <td>2019-01-01 00:01:16</td>\n",
              "      <td>3534093764340240</td>\n",
              "      <td>fraud_Kutch, Hermiston and Farrell</td>\n",
              "      <td>gas_transport</td>\n",
              "      <td>45.00</td>\n",
              "      <td>Jeremy</td>\n",
              "      <td>White</td>\n",
              "      <td>M</td>\n",
              "      <td>9443 Cynthia Court Apt. 038</td>\n",
              "      <td>...</td>\n",
              "      <td>46.2306</td>\n",
              "      <td>-112.1138</td>\n",
              "      <td>1939</td>\n",
              "      <td>Patent attorney</td>\n",
              "      <td>1967-01-12</td>\n",
              "      <td>6b849c168bdad6f867558c3793159a81</td>\n",
              "      <td>1325376076</td>\n",
              "      <td>47.034331</td>\n",
              "      <td>-112.561071</td>\n",
              "      <td>0.0</td>\n",
              "    </tr>\n",
              "    <tr>\n",
              "      <th>4</th>\n",
              "      <td>4</td>\n",
              "      <td>2019-01-01 00:03:06</td>\n",
              "      <td>375534208663984</td>\n",
              "      <td>fraud_Keeling-Crist</td>\n",
              "      <td>misc_pos</td>\n",
              "      <td>41.96</td>\n",
              "      <td>Tyler</td>\n",
              "      <td>Garcia</td>\n",
              "      <td>M</td>\n",
              "      <td>408 Bradley Rest</td>\n",
              "      <td>...</td>\n",
              "      <td>38.4207</td>\n",
              "      <td>-79.4629</td>\n",
              "      <td>99</td>\n",
              "      <td>Dance movement psychotherapist</td>\n",
              "      <td>1986-03-28</td>\n",
              "      <td>a41d7549acf90789359a9aa5346dcb46</td>\n",
              "      <td>1325376186</td>\n",
              "      <td>38.674999</td>\n",
              "      <td>-78.632459</td>\n",
              "      <td>0.0</td>\n",
              "    </tr>\n",
              "  </tbody>\n",
              "</table>\n",
              "<p>5 rows × 23 columns</p>\n",
              "</div>\n",
              "    <div class=\"colab-df-buttons\">\n",
              "\n",
              "  <div class=\"colab-df-container\">\n",
              "    <button class=\"colab-df-convert\" onclick=\"convertToInteractive('df-f5afeaa2-0412-4175-bbfb-13c49216ff5c')\"\n",
              "            title=\"Convert this dataframe to an interactive table.\"\n",
              "            style=\"display:none;\">\n",
              "\n",
              "  <svg xmlns=\"http://www.w3.org/2000/svg\" height=\"24px\" viewBox=\"0 -960 960 960\">\n",
              "    <path d=\"M120-120v-720h720v720H120Zm60-500h600v-160H180v160Zm220 220h160v-160H400v160Zm0 220h160v-160H400v160ZM180-400h160v-160H180v160Zm440 0h160v-160H620v160ZM180-180h160v-160H180v160Zm440 0h160v-160H620v160Z\"/>\n",
              "  </svg>\n",
              "    </button>\n",
              "\n",
              "  <style>\n",
              "    .colab-df-container {\n",
              "      display:flex;\n",
              "      gap: 12px;\n",
              "    }\n",
              "\n",
              "    .colab-df-convert {\n",
              "      background-color: #E8F0FE;\n",
              "      border: none;\n",
              "      border-radius: 50%;\n",
              "      cursor: pointer;\n",
              "      display: none;\n",
              "      fill: #1967D2;\n",
              "      height: 32px;\n",
              "      padding: 0 0 0 0;\n",
              "      width: 32px;\n",
              "    }\n",
              "\n",
              "    .colab-df-convert:hover {\n",
              "      background-color: #E2EBFA;\n",
              "      box-shadow: 0px 1px 2px rgba(60, 64, 67, 0.3), 0px 1px 3px 1px rgba(60, 64, 67, 0.15);\n",
              "      fill: #174EA6;\n",
              "    }\n",
              "\n",
              "    .colab-df-buttons div {\n",
              "      margin-bottom: 4px;\n",
              "    }\n",
              "\n",
              "    [theme=dark] .colab-df-convert {\n",
              "      background-color: #3B4455;\n",
              "      fill: #D2E3FC;\n",
              "    }\n",
              "\n",
              "    [theme=dark] .colab-df-convert:hover {\n",
              "      background-color: #434B5C;\n",
              "      box-shadow: 0px 1px 3px 1px rgba(0, 0, 0, 0.15);\n",
              "      filter: drop-shadow(0px 1px 2px rgba(0, 0, 0, 0.3));\n",
              "      fill: #FFFFFF;\n",
              "    }\n",
              "  </style>\n",
              "\n",
              "    <script>\n",
              "      const buttonEl =\n",
              "        document.querySelector('#df-f5afeaa2-0412-4175-bbfb-13c49216ff5c button.colab-df-convert');\n",
              "      buttonEl.style.display =\n",
              "        google.colab.kernel.accessAllowed ? 'block' : 'none';\n",
              "\n",
              "      async function convertToInteractive(key) {\n",
              "        const element = document.querySelector('#df-f5afeaa2-0412-4175-bbfb-13c49216ff5c');\n",
              "        const dataTable =\n",
              "          await google.colab.kernel.invokeFunction('convertToInteractive',\n",
              "                                                    [key], {});\n",
              "        if (!dataTable) return;\n",
              "\n",
              "        const docLinkHtml = 'Like what you see? Visit the ' +\n",
              "          '<a target=\"_blank\" href=https://colab.research.google.com/notebooks/data_table.ipynb>data table notebook</a>'\n",
              "          + ' to learn more about interactive tables.';\n",
              "        element.innerHTML = '';\n",
              "        dataTable['output_type'] = 'display_data';\n",
              "        await google.colab.output.renderOutput(dataTable, element);\n",
              "        const docLink = document.createElement('div');\n",
              "        docLink.innerHTML = docLinkHtml;\n",
              "        element.appendChild(docLink);\n",
              "      }\n",
              "    </script>\n",
              "  </div>\n",
              "\n",
              "\n",
              "<div id=\"df-e6f0efed-aa2b-4bb6-bad5-b274ea6fa24c\">\n",
              "  <button class=\"colab-df-quickchart\" onclick=\"quickchart('df-e6f0efed-aa2b-4bb6-bad5-b274ea6fa24c')\"\n",
              "            title=\"Suggest charts.\"\n",
              "            style=\"display:none;\">\n",
              "\n",
              "<svg xmlns=\"http://www.w3.org/2000/svg\" height=\"24px\"viewBox=\"0 0 24 24\"\n",
              "     width=\"24px\">\n",
              "    <g>\n",
              "        <path d=\"M19 3H5c-1.1 0-2 .9-2 2v14c0 1.1.9 2 2 2h14c1.1 0 2-.9 2-2V5c0-1.1-.9-2-2-2zM9 17H7v-7h2v7zm4 0h-2V7h2v10zm4 0h-2v-4h2v4z\"/>\n",
              "    </g>\n",
              "</svg>\n",
              "  </button>\n",
              "\n",
              "<style>\n",
              "  .colab-df-quickchart {\n",
              "      --bg-color: #E8F0FE;\n",
              "      --fill-color: #1967D2;\n",
              "      --hover-bg-color: #E2EBFA;\n",
              "      --hover-fill-color: #174EA6;\n",
              "      --disabled-fill-color: #AAA;\n",
              "      --disabled-bg-color: #DDD;\n",
              "  }\n",
              "\n",
              "  [theme=dark] .colab-df-quickchart {\n",
              "      --bg-color: #3B4455;\n",
              "      --fill-color: #D2E3FC;\n",
              "      --hover-bg-color: #434B5C;\n",
              "      --hover-fill-color: #FFFFFF;\n",
              "      --disabled-bg-color: #3B4455;\n",
              "      --disabled-fill-color: #666;\n",
              "  }\n",
              "\n",
              "  .colab-df-quickchart {\n",
              "    background-color: var(--bg-color);\n",
              "    border: none;\n",
              "    border-radius: 50%;\n",
              "    cursor: pointer;\n",
              "    display: none;\n",
              "    fill: var(--fill-color);\n",
              "    height: 32px;\n",
              "    padding: 0;\n",
              "    width: 32px;\n",
              "  }\n",
              "\n",
              "  .colab-df-quickchart:hover {\n",
              "    background-color: var(--hover-bg-color);\n",
              "    box-shadow: 0 1px 2px rgba(60, 64, 67, 0.3), 0 1px 3px 1px rgba(60, 64, 67, 0.15);\n",
              "    fill: var(--button-hover-fill-color);\n",
              "  }\n",
              "\n",
              "  .colab-df-quickchart-complete:disabled,\n",
              "  .colab-df-quickchart-complete:disabled:hover {\n",
              "    background-color: var(--disabled-bg-color);\n",
              "    fill: var(--disabled-fill-color);\n",
              "    box-shadow: none;\n",
              "  }\n",
              "\n",
              "  .colab-df-spinner {\n",
              "    border: 2px solid var(--fill-color);\n",
              "    border-color: transparent;\n",
              "    border-bottom-color: var(--fill-color);\n",
              "    animation:\n",
              "      spin 1s steps(1) infinite;\n",
              "  }\n",
              "\n",
              "  @keyframes spin {\n",
              "    0% {\n",
              "      border-color: transparent;\n",
              "      border-bottom-color: var(--fill-color);\n",
              "      border-left-color: var(--fill-color);\n",
              "    }\n",
              "    20% {\n",
              "      border-color: transparent;\n",
              "      border-left-color: var(--fill-color);\n",
              "      border-top-color: var(--fill-color);\n",
              "    }\n",
              "    30% {\n",
              "      border-color: transparent;\n",
              "      border-left-color: var(--fill-color);\n",
              "      border-top-color: var(--fill-color);\n",
              "      border-right-color: var(--fill-color);\n",
              "    }\n",
              "    40% {\n",
              "      border-color: transparent;\n",
              "      border-right-color: var(--fill-color);\n",
              "      border-top-color: var(--fill-color);\n",
              "    }\n",
              "    60% {\n",
              "      border-color: transparent;\n",
              "      border-right-color: var(--fill-color);\n",
              "    }\n",
              "    80% {\n",
              "      border-color: transparent;\n",
              "      border-right-color: var(--fill-color);\n",
              "      border-bottom-color: var(--fill-color);\n",
              "    }\n",
              "    90% {\n",
              "      border-color: transparent;\n",
              "      border-bottom-color: var(--fill-color);\n",
              "    }\n",
              "  }\n",
              "</style>\n",
              "\n",
              "  <script>\n",
              "    async function quickchart(key) {\n",
              "      const quickchartButtonEl =\n",
              "        document.querySelector('#' + key + ' button');\n",
              "      quickchartButtonEl.disabled = true;  // To prevent multiple clicks.\n",
              "      quickchartButtonEl.classList.add('colab-df-spinner');\n",
              "      try {\n",
              "        const charts = await google.colab.kernel.invokeFunction(\n",
              "            'suggestCharts', [key], {});\n",
              "      } catch (error) {\n",
              "        console.error('Error during call to suggestCharts:', error);\n",
              "      }\n",
              "      quickchartButtonEl.classList.remove('colab-df-spinner');\n",
              "      quickchartButtonEl.classList.add('colab-df-quickchart-complete');\n",
              "    }\n",
              "    (() => {\n",
              "      let quickchartButtonEl =\n",
              "        document.querySelector('#df-e6f0efed-aa2b-4bb6-bad5-b274ea6fa24c button');\n",
              "      quickchartButtonEl.style.display =\n",
              "        google.colab.kernel.accessAllowed ? 'block' : 'none';\n",
              "    })();\n",
              "  </script>\n",
              "</div>\n",
              "    </div>\n",
              "  </div>\n"
            ]
          },
          "metadata": {},
          "execution_count": 559
        }
      ]
    },
    {
      "cell_type": "code",
      "source": [
        "df.shape"
      ],
      "metadata": {
        "id": "3RHYOn17hGZo",
        "colab": {
          "base_uri": "https://localhost:8080/"
        },
        "outputId": "3016caf2-2543-4d45-9c5d-7c2c8a5eaaf4"
      },
      "execution_count": 560,
      "outputs": [
        {
          "output_type": "execute_result",
          "data": {
            "text/plain": [
              "(35041, 23)"
            ]
          },
          "metadata": {},
          "execution_count": 560
        }
      ]
    },
    {
      "cell_type": "code",
      "source": [
        "df.columns"
      ],
      "metadata": {
        "id": "GOMwtpp-hL8R",
        "colab": {
          "base_uri": "https://localhost:8080/"
        },
        "outputId": "a9acaf7a-795b-4e8f-e3ed-b36b01e425e4"
      },
      "execution_count": 561,
      "outputs": [
        {
          "output_type": "execute_result",
          "data": {
            "text/plain": [
              "Index(['Unnamed: 0', 'trans_date_trans_time', 'cc_num', 'merchant', 'category',\n",
              "       'amt', 'first', 'last', 'gender', 'street', 'city', 'state', 'zip',\n",
              "       'lat', 'long', 'city_pop', 'job', 'dob', 'trans_num', 'unix_time',\n",
              "       'merch_lat', 'merch_long', 'is_fraud'],\n",
              "      dtype='object')"
            ]
          },
          "metadata": {},
          "execution_count": 561
        }
      ]
    },
    {
      "cell_type": "code",
      "source": [
        "df.info()"
      ],
      "metadata": {
        "id": "-94WHDFShO-W",
        "colab": {
          "base_uri": "https://localhost:8080/"
        },
        "outputId": "666e0865-b2de-4552-b561-e1b92e32b044"
      },
      "execution_count": 562,
      "outputs": [
        {
          "output_type": "stream",
          "name": "stdout",
          "text": [
            "<class 'pandas.core.frame.DataFrame'>\n",
            "RangeIndex: 35041 entries, 0 to 35040\n",
            "Data columns (total 23 columns):\n",
            " #   Column                 Non-Null Count  Dtype  \n",
            "---  ------                 --------------  -----  \n",
            " 0   Unnamed: 0             35041 non-null  int64  \n",
            " 1   trans_date_trans_time  35041 non-null  object \n",
            " 2   cc_num                 35041 non-null  int64  \n",
            " 3   merchant               35041 non-null  object \n",
            " 4   category               35041 non-null  object \n",
            " 5   amt                    35041 non-null  float64\n",
            " 6   first                  35041 non-null  object \n",
            " 7   last                   35041 non-null  object \n",
            " 8   gender                 35041 non-null  object \n",
            " 9   street                 35041 non-null  object \n",
            " 10  city                   35041 non-null  object \n",
            " 11  state                  35041 non-null  object \n",
            " 12  zip                    35041 non-null  int64  \n",
            " 13  lat                    35041 non-null  float64\n",
            " 14  long                   35041 non-null  float64\n",
            " 15  city_pop               35041 non-null  int64  \n",
            " 16  job                    35041 non-null  object \n",
            " 17  dob                    35041 non-null  object \n",
            " 18  trans_num              35041 non-null  object \n",
            " 19  unix_time              35041 non-null  int64  \n",
            " 20  merch_lat              35041 non-null  float64\n",
            " 21  merch_long             35041 non-null  float64\n",
            " 22  is_fraud               35040 non-null  float64\n",
            "dtypes: float64(6), int64(5), object(12)\n",
            "memory usage: 6.1+ MB\n"
          ]
        }
      ]
    },
    {
      "cell_type": "code",
      "source": [
        "df.isnull().sum()"
      ],
      "metadata": {
        "id": "RMtGGUzShUv5",
        "colab": {
          "base_uri": "https://localhost:8080/"
        },
        "outputId": "11f598bf-8b39-44fc-d5d7-f31b53c29704"
      },
      "execution_count": 563,
      "outputs": [
        {
          "output_type": "execute_result",
          "data": {
            "text/plain": [
              "Unnamed: 0               0\n",
              "trans_date_trans_time    0\n",
              "cc_num                   0\n",
              "merchant                 0\n",
              "category                 0\n",
              "amt                      0\n",
              "first                    0\n",
              "last                     0\n",
              "gender                   0\n",
              "street                   0\n",
              "city                     0\n",
              "state                    0\n",
              "zip                      0\n",
              "lat                      0\n",
              "long                     0\n",
              "city_pop                 0\n",
              "job                      0\n",
              "dob                      0\n",
              "trans_num                0\n",
              "unix_time                0\n",
              "merch_lat                0\n",
              "merch_long               0\n",
              "is_fraud                 1\n",
              "dtype: int64"
            ]
          },
          "metadata": {},
          "execution_count": 563
        }
      ]
    },
    {
      "cell_type": "code",
      "source": [
        "df.fillna(method='ffill')\n",
        "mean_long = df['long'].mean()\n",
        "df['long'].fillna(value=mean_long,inplace = True)"
      ],
      "metadata": {
        "id": "Cgk055LMhh8J"
      },
      "execution_count": 564,
      "outputs": []
    },
    {
      "cell_type": "code",
      "source": [
        "df.isnull().sum()"
      ],
      "metadata": {
        "id": "7-66gjqzlffU",
        "colab": {
          "base_uri": "https://localhost:8080/"
        },
        "outputId": "54b46078-95b4-48a6-cc09-f14e35567d30"
      },
      "execution_count": 565,
      "outputs": [
        {
          "output_type": "execute_result",
          "data": {
            "text/plain": [
              "Unnamed: 0               0\n",
              "trans_date_trans_time    0\n",
              "cc_num                   0\n",
              "merchant                 0\n",
              "category                 0\n",
              "amt                      0\n",
              "first                    0\n",
              "last                     0\n",
              "gender                   0\n",
              "street                   0\n",
              "city                     0\n",
              "state                    0\n",
              "zip                      0\n",
              "lat                      0\n",
              "long                     0\n",
              "city_pop                 0\n",
              "job                      0\n",
              "dob                      0\n",
              "trans_num                0\n",
              "unix_time                0\n",
              "merch_lat                0\n",
              "merch_long               0\n",
              "is_fraud                 1\n",
              "dtype: int64"
            ]
          },
          "metadata": {},
          "execution_count": 565
        }
      ]
    },
    {
      "cell_type": "code",
      "source": [
        "df.info()"
      ],
      "metadata": {
        "id": "rGzuRD5viQSh",
        "colab": {
          "base_uri": "https://localhost:8080/"
        },
        "outputId": "380726c3-c801-4c33-8abf-6d1c9174ad35"
      },
      "execution_count": 566,
      "outputs": [
        {
          "output_type": "stream",
          "name": "stdout",
          "text": [
            "<class 'pandas.core.frame.DataFrame'>\n",
            "RangeIndex: 35041 entries, 0 to 35040\n",
            "Data columns (total 23 columns):\n",
            " #   Column                 Non-Null Count  Dtype  \n",
            "---  ------                 --------------  -----  \n",
            " 0   Unnamed: 0             35041 non-null  int64  \n",
            " 1   trans_date_trans_time  35041 non-null  object \n",
            " 2   cc_num                 35041 non-null  int64  \n",
            " 3   merchant               35041 non-null  object \n",
            " 4   category               35041 non-null  object \n",
            " 5   amt                    35041 non-null  float64\n",
            " 6   first                  35041 non-null  object \n",
            " 7   last                   35041 non-null  object \n",
            " 8   gender                 35041 non-null  object \n",
            " 9   street                 35041 non-null  object \n",
            " 10  city                   35041 non-null  object \n",
            " 11  state                  35041 non-null  object \n",
            " 12  zip                    35041 non-null  int64  \n",
            " 13  lat                    35041 non-null  float64\n",
            " 14  long                   35041 non-null  float64\n",
            " 15  city_pop               35041 non-null  int64  \n",
            " 16  job                    35041 non-null  object \n",
            " 17  dob                    35041 non-null  object \n",
            " 18  trans_num              35041 non-null  object \n",
            " 19  unix_time              35041 non-null  int64  \n",
            " 20  merch_lat              35041 non-null  float64\n",
            " 21  merch_long             35041 non-null  float64\n",
            " 22  is_fraud               35040 non-null  float64\n",
            "dtypes: float64(6), int64(5), object(12)\n",
            "memory usage: 6.1+ MB\n"
          ]
        }
      ]
    },
    {
      "cell_type": "code",
      "source": [
        "df.isnull().sum()"
      ],
      "metadata": {
        "id": "Kza8Ov1biTFH",
        "colab": {
          "base_uri": "https://localhost:8080/"
        },
        "outputId": "a559ec81-d9cf-48e9-caec-3eb233f55e3d"
      },
      "execution_count": 567,
      "outputs": [
        {
          "output_type": "execute_result",
          "data": {
            "text/plain": [
              "Unnamed: 0               0\n",
              "trans_date_trans_time    0\n",
              "cc_num                   0\n",
              "merchant                 0\n",
              "category                 0\n",
              "amt                      0\n",
              "first                    0\n",
              "last                     0\n",
              "gender                   0\n",
              "street                   0\n",
              "city                     0\n",
              "state                    0\n",
              "zip                      0\n",
              "lat                      0\n",
              "long                     0\n",
              "city_pop                 0\n",
              "job                      0\n",
              "dob                      0\n",
              "trans_num                0\n",
              "unix_time                0\n",
              "merch_lat                0\n",
              "merch_long               0\n",
              "is_fraud                 1\n",
              "dtype: int64"
            ]
          },
          "metadata": {},
          "execution_count": 567
        }
      ]
    },
    {
      "cell_type": "code",
      "source": [
        "df['is_fraud'].value_counts()"
      ],
      "metadata": {
        "id": "HYSyZp-hiWUG",
        "colab": {
          "base_uri": "https://localhost:8080/"
        },
        "outputId": "cfb91237-454f-4d91-baa3-c8169f3b05ec"
      },
      "execution_count": 568,
      "outputs": [
        {
          "output_type": "execute_result",
          "data": {
            "text/plain": [
              "0.0    34687\n",
              "1.0      353\n",
              "Name: is_fraud, dtype: int64"
            ]
          },
          "metadata": {},
          "execution_count": 568
        }
      ]
    },
    {
      "cell_type": "code",
      "source": [
        "corr = df.corr()\n",
        "print(df.corr())\n",
        "plt.figure(figsize=(10,10))\n",
        "sns.heatmap(corr,annot = True , cmap = \"coolwarm\")"
      ],
      "metadata": {
        "id": "1YeVWNeKihfB",
        "colab": {
          "base_uri": "https://localhost:8080/",
          "height": 1000
        },
        "outputId": "74a78136-cc4a-4c38-e5b9-4f9960aefb7c"
      },
      "execution_count": 569,
      "outputs": [
        {
          "output_type": "stream",
          "name": "stdout",
          "text": [
            "            Unnamed: 0    cc_num       amt       zip       lat      long  \\\n",
            "Unnamed: 0    1.000000 -0.005540  0.013426 -0.012179 -0.000238  0.010912   \n",
            "cc_num       -0.005540  1.000000 -0.011944  0.048994 -0.064023 -0.054857   \n",
            "amt           0.013426 -0.011944  1.000000 -0.016063  0.018531  0.008910   \n",
            "zip          -0.012179  0.048994 -0.016063  1.000000 -0.111240 -0.906488   \n",
            "lat          -0.000238 -0.064023  0.018531 -0.111240  1.000000 -0.024703   \n",
            "long          0.010912 -0.054857  0.008910 -0.906488 -0.024703  1.000000   \n",
            "city_pop     -0.005075 -0.006538  0.007383  0.080713 -0.160174 -0.053396   \n",
            "unix_time     0.998881 -0.005269  0.013065 -0.012403 -0.000353  0.010867   \n",
            "merch_lat    -0.000506 -0.063887  0.018289 -0.110516  0.993622 -0.024552   \n",
            "merch_long    0.010496 -0.055119  0.009120 -0.905782 -0.024798  0.999135   \n",
            "is_fraud      0.034742 -0.020660  0.309736 -0.036691  0.031730  0.013623   \n",
            "\n",
            "            city_pop  unix_time  merch_lat  merch_long  is_fraud  \n",
            "Unnamed: 0 -0.005075   0.998881  -0.000506    0.010496  0.034742  \n",
            "cc_num     -0.006538  -0.005269  -0.063887   -0.055119 -0.020660  \n",
            "amt         0.007383   0.013065   0.018289    0.009120  0.309736  \n",
            "zip         0.080713  -0.012403  -0.110516   -0.905782 -0.036691  \n",
            "lat        -0.160174  -0.000353   0.993622   -0.024798  0.031730  \n",
            "long       -0.053396   0.010867  -0.024552    0.999135  0.013623  \n",
            "city_pop    1.000000  -0.004931  -0.159177   -0.053472  0.001083  \n",
            "unix_time  -0.004931   1.000000  -0.000618    0.010441  0.033871  \n",
            "merch_lat  -0.159177  -0.000618   1.000000   -0.024660  0.031971  \n",
            "merch_long -0.053472   0.010441  -0.024660    1.000000  0.013496  \n",
            "is_fraud    0.001083   0.033871   0.031971    0.013496  1.000000  \n"
          ]
        },
        {
          "output_type": "stream",
          "name": "stderr",
          "text": [
            "<ipython-input-569-e57bd33c1388>:1: FutureWarning: The default value of numeric_only in DataFrame.corr is deprecated. In a future version, it will default to False. Select only valid columns or specify the value of numeric_only to silence this warning.\n",
            "  corr = df.corr()\n",
            "<ipython-input-569-e57bd33c1388>:2: FutureWarning: The default value of numeric_only in DataFrame.corr is deprecated. In a future version, it will default to False. Select only valid columns or specify the value of numeric_only to silence this warning.\n",
            "  print(df.corr())\n"
          ]
        },
        {
          "output_type": "execute_result",
          "data": {
            "text/plain": [
              "<Axes: >"
            ]
          },
          "metadata": {},
          "execution_count": 569
        },
        {
          "output_type": "display_data",
          "data": {
            "text/plain": [
              "<Figure size 1000x1000 with 2 Axes>"
            ],
            "image/png": "[encoded data removed]"
          },
          "metadata": {}
        }
      ]
    },
    {
      "cell_type": "code",
      "source": [
        "df['gender'] = pd.get_dummies(df['gender'],drop_first = True)"
      ],
      "metadata": {
        "id": "14ICG3j7iEjo"
      },
      "execution_count": 570,
      "outputs": []
    },
    {
      "cell_type": "code",
      "source": [
        "df.head()"
      ],
      "metadata": {
        "id": "AERnWxSvhwHy",
        "colab": {
          "base_uri": "https://localhost:8080/",
          "height": 551
        },
        "outputId": "e193a413-20f3-4c82-a85f-7295376312b9"
      },
      "execution_count": 571,
      "outputs": [
        {
          "output_type": "execute_result",
          "data": {
            "text/plain": [
              "   Unnamed: 0 trans_date_trans_time            cc_num  \\\n",
              "0           0   2019-01-01 00:00:18  2703186189652095   \n",
              "1           1   2019-01-01 00:00:44      630423337322   \n",
              "2           2   2019-01-01 00:00:51    38859492057661   \n",
              "3           3   2019-01-01 00:01:16  3534093764340240   \n",
              "4           4   2019-01-01 00:03:06   375534208663984   \n",
              "\n",
              "                             merchant       category     amt      first  \\\n",
              "0          fraud_Rippin, Kub and Mann       misc_net    4.97   Jennifer   \n",
              "1     fraud_Heller, Gutmann and Zieme    grocery_pos  107.23  Stephanie   \n",
              "2                fraud_Lind-Buckridge  entertainment  220.11     Edward   \n",
              "3  fraud_Kutch, Hermiston and Farrell  gas_transport   45.00     Jeremy   \n",
              "4                 fraud_Keeling-Crist       misc_pos   41.96      Tyler   \n",
              "\n",
              "      last  gender                        street  ...      lat      long  \\\n",
              "0    Banks       0                561 Perry Cove  ...  36.0788  -81.1781   \n",
              "1     Gill       0  43039 Riley Greens Suite 393  ...  48.8878 -118.2105   \n",
              "2  Sanchez       1      594 White Dale Suite 530  ...  42.1808 -112.2620   \n",
              "3    White       1   9443 Cynthia Court Apt. 038  ...  46.2306 -112.1138   \n",
              "4   Garcia       1              408 Bradley Rest  ...  38.4207  -79.4629   \n",
              "\n",
              "   city_pop                                job         dob  \\\n",
              "0      3495          Psychologist, counselling  1988-03-09   \n",
              "1       149  Special educational needs teacher  1978-06-21   \n",
              "2      4154        Nature conservation officer  1962-01-19   \n",
              "3      1939                    Patent attorney  1967-01-12   \n",
              "4        99     Dance movement psychotherapist  1986-03-28   \n",
              "\n",
              "                          trans_num   unix_time  merch_lat  merch_long  \\\n",
              "0  0b242abb623afc578575680df30655b9  1325376018  36.011293  -82.048315   \n",
              "1  1f76529f8574734946361c461b024d99  1325376044  49.159047 -118.186462   \n",
              "2  a1a22d70485983eac12b5b88dad1cf95  1325376051  43.150704 -112.154481   \n",
              "3  6b849c168bdad6f867558c3793159a81  1325376076  47.034331 -112.561071   \n",
              "4  a41d7549acf90789359a9aa5346dcb46  1325376186  38.674999  -78.632459   \n",
              "\n",
              "   is_fraud  \n",
              "0       0.0  \n",
              "1       0.0  \n",
              "2       0.0  \n",
              "3       0.0  \n",
              "4       0.0  \n",
              "\n",
              "[5 rows x 23 columns]"
            ],
            "text/html": [
              "\n",
              "  <div id=\"df-d00df7c8-0b8e-40fb-b12f-85e67724ad59\" class=\"colab-df-container\">\n",
              "    <div>\n",
              "<style scoped>\n",
              "    .dataframe tbody tr th:only-of-type {\n",
              "        vertical-align: middle;\n",
              "    }\n",
              "\n",
              "    .dataframe tbody tr th {\n",
              "        vertical-align: top;\n",
              "    }\n",
              "\n",
              "    .dataframe thead th {\n",
              "        text-align: right;\n",
              "    }\n",
              "</style>\n",
              "<table border=\"1\" class=\"dataframe\">\n",
              "  <thead>\n",
              "    <tr style=\"text-align: right;\">\n",
              "      <th></th>\n",
              "      <th>Unnamed: 0</th>\n",
              "      <th>trans_date_trans_time</th>\n",
              "      <th>cc_num</th>\n",
              "      <th>merchant</th>\n",
              "      <th>category</th>\n",
              "      <th>amt</th>\n",
              "      <th>first</th>\n",
              "      <th>last</th>\n",
              "      <th>gender</th>\n",
              "      <th>street</th>\n",
              "      <th>...</th>\n",
              "      <th>lat</th>\n",
              "      <th>long</th>\n",
              "      <th>city_pop</th>\n",
              "      <th>job</th>\n",
              "      <th>dob</th>\n",
              "      <th>trans_num</th>\n",
              "      <th>unix_time</th>\n",
              "      <th>merch_lat</th>\n",
              "      <th>merch_long</th>\n",
              "      <th>is_fraud</th>\n",
              "    </tr>\n",
              "  </thead>\n",
              "  <tbody>\n",
              "    <tr>\n",
              "      <th>0</th>\n",
              "      <td>0</td>\n",
              "      <td>2019-01-01 00:00:18</td>\n",
              "      <td>2703186189652095</td>\n",
              "      <td>fraud_Rippin, Kub and Mann</td>\n",
              "      <td>misc_net</td>\n",
              "      <td>4.97</td>\n",
              "      <td>Jennifer</td>\n",
              "      <td>Banks</td>\n",
              "      <td>0</td>\n",
              "      <td>561 Perry Cove</td>\n",
              "      <td>...</td>\n",
              "      <td>36.0788</td>\n",
              "      <td>-81.1781</td>\n",
              "      <td>3495</td>\n",
              "      <td>Psychologist, counselling</td>\n",
              "      <td>1988-03-09</td>\n",
              "      <td>0b242abb623afc578575680df30655b9</td>\n",
              "      <td>1325376018</td>\n",
              "      <td>36.011293</td>\n",
              "      <td>-82.048315</td>\n",
              "      <td>0.0</td>\n",
              "    </tr>\n",
              "    <tr>\n",
              "      <th>1</th>\n",
              "      <td>1</td>\n",
              "      <td>2019-01-01 00:00:44</td>\n",
              "      <td>630423337322</td>\n",
              "      <td>fraud_Heller, Gutmann and Zieme</td>\n",
              "      <td>grocery_pos</td>\n",
              "      <td>107.23</td>\n",
              "      <td>Stephanie</td>\n",
              "      <td>Gill</td>\n",
              "      <td>0</td>\n",
              "      <td>43039 Riley Greens Suite 393</td>\n",
              "      <td>...</td>\n",
              "      <td>48.8878</td>\n",
              "      <td>-118.2105</td>\n",
              "      <td>149</td>\n",
              "      <td>Special educational needs teacher</td>\n",
              "      <td>1978-06-21</td>\n",
              "      <td>1f76529f8574734946361c461b024d99</td>\n",
              "      <td>1325376044</td>\n",
              "      <td>49.159047</td>\n",
              "      <td>-118.186462</td>\n",
              "      <td>0.0</td>\n",
              "    </tr>\n",
              "    <tr>\n",
              "      <th>2</th>\n",
              "      <td>2</td>\n",
              "      <td>2019-01-01 00:00:51</td>\n",
              "      <td>38859492057661</td>\n",
              "      <td>fraud_Lind-Buckridge</td>\n",
              "      <td>entertainment</td>\n",
              "      <td>220.11</td>\n",
              "      <td>Edward</td>\n",
              "      <td>Sanchez</td>\n",
              "      <td>1</td>\n",
              "      <td>594 White Dale Suite 530</td>\n",
              "      <td>...</td>\n",
              "      <td>42.1808</td>\n",
              "      <td>-112.2620</td>\n",
              "      <td>4154</td>\n",
              "      <td>Nature conservation officer</td>\n",
              "      <td>1962-01-19</td>\n",
              "      <td>a1a22d70485983eac12b5b88dad1cf95</td>\n",
              "      <td>1325376051</td>\n",
              "      <td>43.150704</td>\n",
              "      <td>-112.154481</td>\n",
              "      <td>0.0</td>\n",
              "    </tr>\n",
              "    <tr>\n",
              "      <th>3</th>\n",
              "      <td>3</td>\n",
              "      <td>2019-01-01 00:01:16</td>\n",
              "      <td>3534093764340240</td>\n",
              "      <td>fraud_Kutch, Hermiston and Farrell</td>\n",
              "      <td>gas_transport</td>\n",
              "      <td>45.00</td>\n",
              "      <td>Jeremy</td>\n",
              "      <td>White</td>\n",
              "      <td>1</td>\n",
              "      <td>9443 Cynthia Court Apt. 038</td>\n",
              "      <td>...</td>\n",
              "      <td>46.2306</td>\n",
              "      <td>-112.1138</td>\n",
              "      <td>1939</td>\n",
              "      <td>Patent attorney</td>\n",
              "      <td>1967-01-12</td>\n",
              "      <td>6b849c168bdad6f867558c3793159a81</td>\n",
              "      <td>1325376076</td>\n",
              "      <td>47.034331</td>\n",
              "      <td>-112.561071</td>\n",
              "      <td>0.0</td>\n",
              "    </tr>\n",
              "    <tr>\n",
              "      <th>4</th>\n",
              "      <td>4</td>\n",
              "      <td>2019-01-01 00:03:06</td>\n",
              "      <td>375534208663984</td>\n",
              "      <td>fraud_Keeling-Crist</td>\n",
              "      <td>misc_pos</td>\n",
              "      <td>41.96</td>\n",
              "      <td>Tyler</td>\n",
              "      <td>Garcia</td>\n",
              "      <td>1</td>\n",
              "      <td>408 Bradley Rest</td>\n",
              "      <td>...</td>\n",
              "      <td>38.4207</td>\n",
              "      <td>-79.4629</td>\n",
              "      <td>99</td>\n",
              "      <td>Dance movement psychotherapist</td>\n",
              "      <td>1986-03-28</td>\n",
              "      <td>a41d7549acf90789359a9aa5346dcb46</td>\n",
              "      <td>1325376186</td>\n",
              "      <td>38.674999</td>\n",
              "      <td>-78.632459</td>\n",
              "      <td>0.0</td>\n",
              "    </tr>\n",
              "  </tbody>\n",
              "</table>\n",
              "<p>5 rows × 23 columns</p>\n",
              "</div>\n",
              "    <div class=\"colab-df-buttons\">\n",
              "\n",
              "  <div class=\"colab-df-container\">\n",
              "    <button class=\"colab-df-convert\" onclick=\"convertToInteractive('df-d00df7c8-0b8e-40fb-b12f-85e67724ad59')\"\n",
              "            title=\"Convert this dataframe to an interactive table.\"\n",
              "            style=\"display:none;\">\n",
              "\n",
              "  <svg xmlns=\"http://www.w3.org/2000/svg\" height=\"24px\" viewBox=\"0 -960 960 960\">\n",
              "    <path d=\"M120-120v-720h720v720H120Zm60-500h600v-160H180v160Zm220 220h160v-160H400v160Zm0 220h160v-160H400v160ZM180-400h160v-160H180v160Zm440 0h160v-160H620v160ZM180-180h160v-160H180v160Zm440 0h160v-160H620v160Z\"/>\n",
              "  </svg>\n",
              "    </button>\n",
              "\n",
              "  <style>\n",
              "    .colab-df-container {\n",
              "      display:flex;\n",
              "      gap: 12px;\n",
              "    }\n",
              "\n",
              "    .colab-df-convert {\n",
              "      background-color: #E8F0FE;\n",
              "      border: none;\n",
              "      border-radius: 50%;\n",
              "      cursor: pointer;\n",
              "      display: none;\n",
              "      fill: #1967D2;\n",
              "      height: 32px;\n",
              "      padding: 0 0 0 0;\n",
              "      width: 32px;\n",
              "    }\n",
              "\n",
              "    .colab-df-convert:hover {\n",
              "      background-color: #E2EBFA;\n",
              "      box-shadow: 0px 1px 2px rgba(60, 64, 67, 0.3), 0px 1px 3px 1px rgba(60, 64, 67, 0.15);\n",
              "      fill: #174EA6;\n",
              "    }\n",
              "\n",
              "    .colab-df-buttons div {\n",
              "      margin-bottom: 4px;\n",
              "    }\n",
              "\n",
              "    [theme=dark] .colab-df-convert {\n",
              "      background-color: #3B4455;\n",
              "      fill: #D2E3FC;\n",
              "    }\n",
              "\n",
              "    [theme=dark] .colab-df-convert:hover {\n",
              "      background-color: #434B5C;\n",
              "      box-shadow: 0px 1px 3px 1px rgba(0, 0, 0, 0.15);\n",
              "      filter: drop-shadow(0px 1px 2px rgba(0, 0, 0, 0.3));\n",
              "      fill: #FFFFFF;\n",
              "    }\n",
              "  </style>\n",
              "\n",
              "    <script>\n",
              "      const buttonEl =\n",
              "        document.querySelector('#df-d00df7c8-0b8e-40fb-b12f-85e67724ad59 button.colab-df-convert');\n",
              "      buttonEl.style.display =\n",
              "        google.colab.kernel.accessAllowed ? 'block' : 'none';\n",
              "\n",
              "      async function convertToInteractive(key) {\n",
              "        const element = document.querySelector('#df-d00df7c8-0b8e-40fb-b12f-85e67724ad59');\n",
              "        const dataTable =\n",
              "          await google.colab.kernel.invokeFunction('convertToInteractive',\n",
              "                                                    [key], {});\n",
              "        if (!dataTable) return;\n",
              "\n",
              "        const docLinkHtml = 'Like what you see? Visit the ' +\n",
              "          '<a target=\"_blank\" href=https://colab.research.google.com/notebooks/data_table.ipynb>data table notebook</a>'\n",
              "          + ' to learn more about interactive tables.';\n",
              "        element.innerHTML = '';\n",
              "        dataTable['output_type'] = 'display_data';\n",
              "        await google.colab.output.renderOutput(dataTable, element);\n",
              "        const docLink = document.createElement('div');\n",
              "        docLink.innerHTML = docLinkHtml;\n",
              "        element.appendChild(docLink);\n",
              "      }\n",
              "    </script>\n",
              "  </div>\n",
              "\n",
              "\n",
              "<div id=\"df-cd660130-6118-4c34-adab-f34ea2140eb6\">\n",
              "  <button class=\"colab-df-quickchart\" onclick=\"quickchart('df-cd660130-6118-4c34-adab-f34ea2140eb6')\"\n",
              "            title=\"Suggest charts.\"\n",
              "            style=\"display:none;\">\n",
              "\n",
              "<svg xmlns=\"http://www.w3.org/2000/svg\" height=\"24px\"viewBox=\"0 0 24 24\"\n",
              "     width=\"24px\">\n",
              "    <g>\n",
              "        <path d=\"M19 3H5c-1.1 0-2 .9-2 2v14c0 1.1.9 2 2 2h14c1.1 0 2-.9 2-2V5c0-1.1-.9-2-2-2zM9 17H7v-7h2v7zm4 0h-2V7h2v10zm4 0h-2v-4h2v4z\"/>\n",
              "    </g>\n",
              "</svg>\n",
              "  </button>\n",
              "\n",
              "<style>\n",
              "  .colab-df-quickchart {\n",
              "      --bg-color: #E8F0FE;\n",
              "      --fill-color: #1967D2;\n",
              "      --hover-bg-color: #E2EBFA;\n",
              "      --hover-fill-color: #174EA6;\n",
              "      --disabled-fill-color: #AAA;\n",
              "      --disabled-bg-color: #DDD;\n",
              "  }\n",
              "\n",
              "  [theme=dark] .colab-df-quickchart {\n",
              "      --bg-color: #3B4455;\n",
              "      --fill-color: #D2E3FC;\n",
              "      --hover-bg-color: #434B5C;\n",
              "      --hover-fill-color: #FFFFFF;\n",
              "      --disabled-bg-color: #3B4455;\n",
              "      --disabled-fill-color: #666;\n",
              "  }\n",
              "\n",
              "  .colab-df-quickchart {\n",
              "    background-color: var(--bg-color);\n",
              "    border: none;\n",
              "    border-radius: 50%;\n",
              "    cursor: pointer;\n",
              "    display: none;\n",
              "    fill: var(--fill-color);\n",
              "    height: 32px;\n",
              "    padding: 0;\n",
              "    width: 32px;\n",
              "  }\n",
              "\n",
              "  .colab-df-quickchart:hover {\n",
              "    background-color: var(--hover-bg-color);\n",
              "    box-shadow: 0 1px 2px rgba(60, 64, 67, 0.3), 0 1px 3px 1px rgba(60, 64, 67, 0.15);\n",
              "    fill: var(--button-hover-fill-color);\n",
              "  }\n",
              "\n",
              "  .colab-df-quickchart-complete:disabled,\n",
              "  .colab-df-quickchart-complete:disabled:hover {\n",
              "    background-color: var(--disabled-bg-color);\n",
              "    fill: var(--disabled-fill-color);\n",
              "    box-shadow: none;\n",
              "  }\n",
              "\n",
              "  .colab-df-spinner {\n",
              "    border: 2px solid var(--fill-color);\n",
              "    border-color: transparent;\n",
              "    border-bottom-color: var(--fill-color);\n",
              "    animation:\n",
              "      spin 1s steps(1) infinite;\n",
              "  }\n",
              "\n",
              "  @keyframes spin {\n",
              "    0% {\n",
              "      border-color: transparent;\n",
              "      border-bottom-color: var(--fill-color);\n",
              "      border-left-color: var(--fill-color);\n",
              "    }\n",
              "    20% {\n",
              "      border-color: transparent;\n",
              "      border-left-color: var(--fill-color);\n",
              "      border-top-color: var(--fill-color);\n",
              "    }\n",
              "    30% {\n",
              "      border-color: transparent;\n",
              "      border-left-color: var(--fill-color);\n",
              "      border-top-color: var(--fill-color);\n",
              "      border-right-color: var(--fill-color);\n",
              "    }\n",
              "    40% {\n",
              "      border-color: transparent;\n",
              "      border-right-color: var(--fill-color);\n",
              "      border-top-color: var(--fill-color);\n",
              "    }\n",
              "    60% {\n",
              "      border-color: transparent;\n",
              "      border-right-color: var(--fill-color);\n",
              "    }\n",
              "    80% {\n",
              "      border-color: transparent;\n",
              "      border-right-color: var(--fill-color);\n",
              "      border-bottom-color: var(--fill-color);\n",
              "    }\n",
              "    90% {\n",
              "      border-color: transparent;\n",
              "      border-bottom-color: var(--fill-color);\n",
              "    }\n",
              "  }\n",
              "</style>\n",
              "\n",
              "  <script>\n",
              "    async function quickchart(key) {\n",
              "      const quickchartButtonEl =\n",
              "        document.querySelector('#' + key + ' button');\n",
              "      quickchartButtonEl.disabled = true;  // To prevent multiple clicks.\n",
              "      quickchartButtonEl.classList.add('colab-df-spinner');\n",
              "      try {\n",
              "        const charts = await google.colab.kernel.invokeFunction(\n",
              "            'suggestCharts', [key], {});\n",
              "      } catch (error) {\n",
              "        console.error('Error during call to suggestCharts:', error);\n",
              "      }\n",
              "      quickchartButtonEl.classList.remove('colab-df-spinner');\n",
              "      quickchartButtonEl.classList.add('colab-df-quickchart-complete');\n",
              "    }\n",
              "    (() => {\n",
              "      let quickchartButtonEl =\n",
              "        document.querySelector('#df-cd660130-6118-4c34-adab-f34ea2140eb6 button');\n",
              "      quickchartButtonEl.style.display =\n",
              "        google.colab.kernel.accessAllowed ? 'block' : 'none';\n",
              "    })();\n",
              "  </script>\n",
              "</div>\n",
              "    </div>\n",
              "  </div>\n"
            ]
          },
          "metadata": {},
          "execution_count": 571
        }
      ]
    },
    {
      "cell_type": "code",
      "source": [
        "df['category'].unique()"
      ],
      "metadata": {
        "id": "eZxMLa_QecxN",
        "colab": {
          "base_uri": "https://localhost:8080/"
        },
        "outputId": "3261f6f8-55a1-4ed7-a957-a8acfe99c60a"
      },
      "execution_count": 572,
      "outputs": [
        {
          "output_type": "execute_result",
          "data": {
            "text/plain": [
              "array(['misc_net', 'grocery_pos', 'entertainment', 'gas_transport',\n",
              "       'misc_pos', 'grocery_net', 'shopping_net', 'shopping_pos',\n",
              "       'food_dining', 'personal_care', 'health_fitness', 'travel',\n",
              "       'kids_pets', 'home'], dtype=object)"
            ]
          },
          "metadata": {},
          "execution_count": 572
        }
      ]
    },
    {
      "cell_type": "code",
      "source": [
        "df['merchant'].unique()"
      ],
      "metadata": {
        "id": "TFSbv8eEelb8",
        "colab": {
          "base_uri": "https://localhost:8080/"
        },
        "outputId": "1657be68-5650-4cd2-dada-d26e2e4d90a9"
      },
      "execution_count": 573,
      "outputs": [
        {
          "output_type": "execute_result",
          "data": {
            "text/plain": [
              "array(['fraud_Rippin, Kub and Mann', 'fraud_Heller, Gutmann and Zieme',\n",
              "       'fraud_Lind-Buckridge', 'fraud_Kutch, Hermiston and Farrell',\n",
              "       'fraud_Keeling-Crist', 'fraud_Stroman, Hudson and Erdman',\n",
              "       'fraud_Rowe-Vandervort', 'fraud_Corwin-Collins',\n",
              "       'fraud_Herzog Ltd', 'fraud_Schoen, Kuphal and Nitzsche',\n",
              "       'fraud_Rutherford-Mertz', 'fraud_Kerluke-Abshire',\n",
              "       'fraud_Lockman Ltd', 'fraud_Kiehn Inc', 'fraud_Beier-Hyatt',\n",
              "       'fraud_Schmidt and Sons', 'fraud_Lebsack and Sons',\n",
              "       'fraud_Mayert Group', 'fraud_Konopelski, Schneider and Hartmann',\n",
              "       'fraud_Schultz, Simonis and Little', 'fraud_Bauch-Raynor',\n",
              "       'fraud_Harris Inc', 'fraud_Kling-Grant', 'fraud_Pacocha-Bauch',\n",
              "       'fraud_Lesch Ltd', 'fraud_Kunde-Sanford', \"fraud_Deckow-O'Conner\",\n",
              "       'fraud_Bruen-Yost', 'fraud_Kunze Inc',\n",
              "       'fraud_Nitzsche, Kessler and Wolff',\n",
              "       'fraud_Kihn, Abernathy and Douglas', 'fraud_Torphy-Goyette',\n",
              "       'fraud_Balistreri-Nader', 'fraud_Bahringer, Schoen and Corkery',\n",
              "       'fraud_Hudson-Ratke', 'fraud_Heidenreich PLC',\n",
              "       'fraud_Halvorson Group', 'fraud_Harber Inc',\n",
              "       'fraud_Mosciski, Gislason and Mertz',\n",
              "       'fraud_Christiansen, Goyette and Schamberger', 'fraud_Howe Ltd',\n",
              "       'fraud_Ledner-Pfannerstill', 'fraud_Koepp-Witting',\n",
              "       'fraud_Doyle Ltd', 'fraud_Schaefer, Maggio and Daugherty',\n",
              "       'fraud_Stracke-Lemke', 'fraud_Mosciski, Ziemann and Farrell',\n",
              "       'fraud_Cartwright-Harris', \"fraud_Pacocha-O'Reilly\",\n",
              "       'fraud_Pfeffer LLC', 'fraud_Huels-Hahn', 'fraud_Volkman PLC',\n",
              "       'fraud_Kiehn-Emmerich', 'fraud_Kemmer-Buckridge',\n",
              "       'fraud_Cummerata-Jones', 'fraud_Goldner, Kovacek and Abbott',\n",
              "       'fraud_Spinka-Welch', 'fraud_Huel-Langworth',\n",
              "       'fraud_Macejkovic-Lesch', 'fraud_Morar Inc',\n",
              "       'fraud_Eichmann, Bogan and Rodriguez',\n",
              "       'fraud_Huel, Hammes and Witting', 'fraud_Ferry, Lynch and Kautzer',\n",
              "       'fraud_Heathcote LLC', 'fraud_Little, Gutmann and Lynch',\n",
              "       'fraud_Jaskolski-Dibbert', 'fraud_Hackett-Lueilwitz',\n",
              "       'fraud_Cummings LLC', 'fraud_Swaniawski, Lowe and Robel',\n",
              "       'fraud_Osinski, Ledner and Leuschke',\n",
              "       'fraud_Reichert, Huels and Hoppe', 'fraud_Ankunding LLC',\n",
              "       'fraud_Pfeffer and Sons', 'fraud_Greenholt, Jacobi and Gleason',\n",
              "       'fraud_Connelly, Reichert and Fritsch', 'fraud_Torp-Labadie',\n",
              "       'fraud_Wolf Inc', 'fraud_VonRueden Group', 'fraud_Vandervort-Funk',\n",
              "       'fraud_Bernhard Inc', 'fraud_Morissette, Weber and Wiegand',\n",
              "       'fraud_Brekke and Sons', 'fraud_Mraz-Herzog',\n",
              "       'fraud_Padberg-Welch', 'fraud_Kutch-Hegmann',\n",
              "       'fraud_Corwin-Gorczany', 'fraud_Huels-Nolan', 'fraud_DuBuque LLC',\n",
              "       'fraud_Schmeler Inc', 'fraud_Schaefer, McGlynn and Bosco',\n",
              "       'fraud_Williamson LLC', 'fraud_Pouros-Conroy',\n",
              "       'fraud_Erdman-Kertzmann', 'fraud_Kuhn LLC',\n",
              "       'fraud_Fisher-Schowalter', 'fraud_Medhurst PLC',\n",
              "       'fraud_Kerluke Inc', 'fraud_Stark-Batz',\n",
              "       'fraud_Gottlieb, Considine and Schultz',\n",
              "       'fraud_Adams, Kovacek and Kuhlman', 'fraud_Grimes LLC',\n",
              "       'fraud_Rodriguez Group', 'fraud_Wuckert-Walter',\n",
              "       'fraud_Weber and Sons', 'fraud_Herman, Treutel and Dickens',\n",
              "       'fraud_Rau and Sons', 'fraud_Koss and Sons',\n",
              "       'fraud_Smitham-Schiller', 'fraud_Hills-Olson', 'fraud_Durgan-Auer',\n",
              "       'fraud_McDermott-Rice', 'fraud_Raynor, Reinger and Hagenes',\n",
              "       'fraud_Powlowski-Weimann', 'fraud_Langosh, Wintheiser and Hyatt',\n",
              "       'fraud_Baumbach, Hodkiewicz and Walsh', 'fraud_Rempel Inc',\n",
              "       'fraud_Bins-Rice', 'fraud_Emard Inc', 'fraud_Kutch and Sons',\n",
              "       'fraud_Fisher Inc', 'fraud_Olson, Becker and Koch',\n",
              "       \"fraud_Friesen-D'Amore\", 'fraud_Reilly, Heaney and Cole',\n",
              "       'fraud_Boyer PLC', 'fraud_Luettgen PLC', 'fraud_Cassin-Harvey',\n",
              "       'fraud_Funk Group', 'fraud_Goodwin-Nitzsche',\n",
              "       'fraud_Parisian, Schiller and Altenwerth', 'fraud_Metz-Boehm',\n",
              "       'fraud_Monahan, Bogisich and Ledner', 'fraud_Koelpin and Sons',\n",
              "       'fraud_Kuhic LLC', 'fraud_Koepp-Parker',\n",
              "       'fraud_Stehr, Jewess and Schimmel',\n",
              "       'fraud_Quitzon, Green and Bashirian',\n",
              "       'fraud_Nicolas, Hills and McGlynn', 'fraud_Leannon-Ward',\n",
              "       'fraud_Friesen-Stamm', 'fraud_Botsford Ltd', 'fraud_Bradtke PLC',\n",
              "       'fraud_Zieme, Bode and Dooley', 'fraud_Hills-Witting',\n",
              "       'fraud_Brown-Greenholt', 'fraud_Bernhard, Grant and Langworth',\n",
              "       'fraud_Wiza, Schaden and Stark', 'fraud_Buckridge PLC',\n",
              "       'fraud_Kilback LLC', 'fraud_Spinka Inc',\n",
              "       'fraud_Kerluke, Kertzmann and Wiza',\n",
              "       'fraud_Ferry, Reichel and DuBuque', 'fraud_Price Inc',\n",
              "       'fraud_Johnston, Nikolaus and Maggio', 'fraud_Berge LLC',\n",
              "       'fraud_Conroy-Cruickshank', 'fraud_Abshire PLC',\n",
              "       'fraud_Gleason-Macejkovic', 'fraud_McGlynn-Jaskolski',\n",
              "       'fraud_Bartoletti-Wunsch', 'fraud_Cole PLC',\n",
              "       'fraud_Lehner, Reichert and Mills', 'fraud_McCullough LLC',\n",
              "       'fraud_Schmitt Ltd', 'fraud_Pouros-Haag',\n",
              "       'fraud_Strosin-Cruickshank', 'fraud_Weimann, Kuhic and Beahan',\n",
              "       'fraud_Donnelly PLC', 'fraud_Lockman, West and Runte',\n",
              "       'fraud_Torp-Lemke', 'fraud_Kris-Weimann',\n",
              "       'fraud_Rodriguez, Yost and Jenkins', 'fraud_Wiegand-Lowe',\n",
              "       'fraud_Auer-Mosciski', 'fraud_Okuneva, Schneider and Rau',\n",
              "       'fraud_Kassulke PLC', 'fraud_Dach-Nader', 'fraud_Cummings Group',\n",
              "       'fraud_Reichert, Shanahan and Hayes',\n",
              "       'fraud_Tromp, Kerluke and Glover',\n",
              "       'fraud_Bins, Balistreri and Beatty', 'fraud_Trantow PLC',\n",
              "       'fraud_Miller-Hauck', 'fraud_Kuvalis Ltd', 'fraud_Dickinson Ltd',\n",
              "       'fraud_Stanton, Jakubowski and Baumbach',\n",
              "       'fraud_Rohan, White and Aufderhar',\n",
              "       'fraud_Cormier, Stracke and Thiel',\n",
              "       'fraud_Tillman, Fritsch and Schmitt',\n",
              "       'fraud_Christiansen-Gusikowski',\n",
              "       'fraud_Jenkins, Hauck and Friesen', 'fraud_Reichel Inc',\n",
              "       'fraud_Prohaska-Murray', 'fraud_Parker, Nolan and Trantow',\n",
              "       'fraud_Volkman Ltd', 'fraud_Streich, Hansen and Veum',\n",
              "       'fraud_Kutch LLC', 'fraud_Barton Inc', 'fraud_Dooley-Thompson',\n",
              "       'fraud_Flatley Group', 'fraud_Turcotte-Halvorson',\n",
              "       'fraud_Lynch Ltd', 'fraud_Romaguera, Cruickshank and Greenholt',\n",
              "       'fraud_Gutmann Ltd', 'fraud_Sporer Inc',\n",
              "       'fraud_Runolfsson and Sons', 'fraud_Block Group',\n",
              "       'fraud_Bahringer-Larson', 'fraud_Rowe, Batz and Goodwin',\n",
              "       'fraud_Schmitt Inc', 'fraud_Maggio-Fahey',\n",
              "       'fraud_Haley, Jewess and Bechtelar',\n",
              "       'fraud_Ruecker, Beer and Collier',\n",
              "       'fraud_Robel, Cummerata and Prosacco', 'fraud_Jast-McDermott',\n",
              "       'fraud_Bernier, Volkman and Hoeger', 'fraud_Heaney-Marquardt',\n",
              "       'fraud_Hudson-Grady', 'fraud_Towne, Walker and Borer',\n",
              "       'fraud_Terry-Huel', 'fraud_Kihn-Fritsch', 'fraud_Eichmann-Russel',\n",
              "       'fraud_Miller-Harris', 'fraud_Schumm PLC',\n",
              "       'fraud_Greenfelder, Bartoletti and Davis',\n",
              "       'fraud_Kovacek, Dibbert and Ondricka', 'fraud_Hermann-Gaylord',\n",
              "       'fraud_Bailey-Morar', 'fraud_McDermott-Weimann', 'fraud_Welch Inc',\n",
              "       'fraud_Auer-West', 'fraud_Boehm, Predovic and Reinger',\n",
              "       'fraud_Dibbert and Sons', 'fraud_Lind, Huel and McClure',\n",
              "       'fraud_Casper, Hand and Zulauf', 'fraud_McCullough Group',\n",
              "       'fraud_Streich, Dietrich and Barton', \"fraud_O'Keefe-Hudson\",\n",
              "       'fraud_Pagac LLC', 'fraud_Bernier, Streich and Jewess',\n",
              "       \"fraud_Greenholt, O'Hara and Balistreri\", 'fraud_Dickinson-Rempel',\n",
              "       'fraud_Dare-Marvin', 'fraud_Spencer PLC', 'fraud_Stamm-Rodriguez',\n",
              "       'fraud_Langworth, Boehm and Gulgowski',\n",
              "       'fraud_Larkin, Stracke and Greenfelder',\n",
              "       'fraud_Yost, Block and Koepp',\n",
              "       'fraud_Douglas, Schneider and Turner', 'fraud_Kuphal-Predovic',\n",
              "       'fraud_Parisian and Sons', 'fraud_Flatley-Durgan',\n",
              "       'fraud_Gislason Group', 'fraud_Bednar Group',\n",
              "       'fraud_Heller-Langosh', 'fraud_Zboncak Ltd', 'fraud_Gerlach Inc',\n",
              "       'fraud_Wilkinson Ltd', 'fraud_Moen, Reinger and Murphy',\n",
              "       'fraud_Kerluke, Considine and Macejkovic', 'fraud_Upton PLC',\n",
              "       'fraud_Bogisich Inc', 'fraud_Marks Inc', 'fraud_Murray-Smitham',\n",
              "       'fraud_Frami Group', 'fraud_Ortiz Group', 'fraud_Goldner-Lemke',\n",
              "       'fraud_Hickle Group', 'fraud_Conroy Ltd',\n",
              "       'fraud_Schumm, Bauch and Ondricka', 'fraud_McGlynn-Heathcote',\n",
              "       'fraud_Herman Inc', 'fraud_Gutmann-Upton',\n",
              "       'fraud_Volkman-Predovic',\n",
              "       'fraud_Wintheiser, Dietrich and Schimmel',\n",
              "       'fraud_Raynor, Feest and Miller', 'fraud_Bogisich-Homenick',\n",
              "       'fraud_Jast and Sons', 'fraud_Baumbach, Strosin and Nicolas',\n",
              "       'fraud_Towne, Greenholt and Koepp', \"fraud_Schamberger-O'Keefe\",\n",
              "       'fraud_Nienow PLC', 'fraud_Emmerich-Luettgen', 'fraud_Mante Group',\n",
              "       'fraud_Baumbach, Feeney and Morar', 'fraud_Thiel PLC',\n",
              "       'fraud_Mohr Inc', 'fraud_Hagenes, Kohler and Hoppe',\n",
              "       'fraud_Block-Parisian', 'fraud_Dooley Inc',\n",
              "       'fraud_Bashirian Group', 'fraud_Cremin, Hamill and Reichel',\n",
              "       'fraud_Sawayn PLC', 'fraud_Jewess LLC', 'fraud_Roberts-Beahan',\n",
              "       'fraud_Brown PLC', 'fraud_Tillman, Dickinson and Labadie',\n",
              "       'fraud_Reichert, Rowe and Mraz', 'fraud_Kilback Group',\n",
              "       'fraud_Spencer-Runolfsson', 'fraud_Labadie, Treutel and Bode',\n",
              "       'fraud_Dach-Borer', 'fraud_Johnson, Runolfsdottir and Mayer',\n",
              "       'fraud_Smitham-Boehm', 'fraud_Moore, Dibbert and Koepp',\n",
              "       'fraud_Hamill-Daugherty', 'fraud_Watsica, Haag and Considine',\n",
              "       'fraud_Smith-Stokes', 'fraud_Kuhic, Bins and Pfeffer',\n",
              "       'fraud_Nader-Heller', 'fraud_Kozey-Boehm', 'fraud_Stiedemann Inc',\n",
              "       'fraud_Lehner, Mosciski and King', 'fraud_Reynolds-Schinner',\n",
              "       'fraud_Koss, McLaughlin and Mayer', 'fraud_Terry, Johns and Bins',\n",
              "       'fraud_Kemmer-Reinger', 'fraud_Larson-Moen', 'fraud_Kuhic Inc',\n",
              "       'fraud_Kris-Padberg', 'fraud_Schmeler, Bashirian and Price',\n",
              "       'fraud_Klocko LLC', 'fraud_Schaefer, Fay and Hilll',\n",
              "       'fraud_Kling Inc', 'fraud_Turner and Sons', 'fraud_Mohr-Bayer',\n",
              "       'fraud_Wiza LLC', 'fraud_Skiles-Ankunding',\n",
              "       'fraud_Jaskolski-Vandervort', 'fraud_Kerluke PLC',\n",
              "       'fraud_Ernser-Lynch', 'fraud_Zboncak, Rowe and Murazik',\n",
              "       'fraud_Stoltenberg-Beatty', 'fraud_Kuphal-Bartoletti',\n",
              "       'fraud_Rempel PLC', 'fraud_Denesik and Sons', 'fraud_Goyette Inc',\n",
              "       'fraud_Dicki Ltd', 'fraud_Stokes, Christiansen and Sipes',\n",
              "       'fraud_Hermann and Sons', 'fraud_Gibson-Deckow',\n",
              "       'fraud_Douglas-White', 'fraud_Murray Ltd', 'fraud_McKenzie-Huels',\n",
              "       'fraud_Runte-Mohr', 'fraud_Roob, Conn and Tremblay',\n",
              "       'fraud_Boyer-Reichert', 'fraud_Shanahan-Lehner',\n",
              "       'fraud_Greenholt Ltd', 'fraud_Kulas Group',\n",
              "       'fraud_Dare, Fritsch and Zboncak', 'fraud_Waters-Cruickshank',\n",
              "       'fraud_Kunze, Larkin and Mayert', 'fraud_Bednar Inc',\n",
              "       'fraud_Schimmel-Olson', 'fraud_Lubowitz, Terry and Stracke',\n",
              "       'fraud_Schoen-Quigley', 'fraud_Kihn-Schuster',\n",
              "       'fraud_Padberg-Rogahn', 'fraud_Lynch-Mohr', 'fraud_Hilpert-Conroy',\n",
              "       'fraud_Jacobi Inc', 'fraud_Berge, Kautzer and Harris',\n",
              "       'fraud_Hammes-Beatty', 'fraud_Gulgowski LLC',\n",
              "       'fraud_Schuppe, Nolan and Hoeger', 'fraud_Pollich LLC',\n",
              "       'fraud_Bernier and Sons', 'fraud_Wilkinson PLC',\n",
              "       'fraud_Kling-Ernser', \"fraud_O'Connell, Botsford and Hand\",\n",
              "       'fraud_Little-Gleichner', 'fraud_Champlin and Sons',\n",
              "       'fraud_Hoppe-Parisian', 'fraud_Schuppe LLC', 'fraud_Emmerich-Rau',\n",
              "       'fraud_Beier LLC', 'fraud_Champlin-Casper', 'fraud_Gerhold LLC',\n",
              "       'fraud_Renner Ltd', 'fraud_Gaylord-Powlowski',\n",
              "       'fraud_Prosacco, Kreiger and Kovacek', 'fraud_Eichmann-Kilback',\n",
              "       \"fraud_O'Hara-Wilderman\", 'fraud_Terry Ltd',\n",
              "       'fraud_Beier and Sons', \"fraud_O'Keefe-Wisoky\",\n",
              "       'fraud_Simonis-Prohaska', 'fraud_Breitenberg-Hermiston',\n",
              "       'fraud_Brown Inc', 'fraud_Fahey Inc',\n",
              "       'fraud_Boehm, Block and Jakubowski',\n",
              "       'fraud_Mante, Luettgen and Hackett', 'fraud_Thompson-Gleason',\n",
              "       'fraud_Turcotte, Batz and Buckridge',\n",
              "       'fraud_Goyette, Howell and Collier',\n",
              "       'fraud_Jones, Sawayn and Romaguera', 'fraud_Medhurst Inc',\n",
              "       'fraud_Bode-Schuster', 'fraud_Connelly-Carter',\n",
              "       'fraud_Gottlieb-Hansen', 'fraud_Schroeder, Wolff and Hermiston',\n",
              "       'fraud_Hettinger, McCullough and Fay',\n",
              "       'fraud_Pouros, Walker and Spencer', 'fraud_Kub PLC',\n",
              "       'fraud_Watsica LLC', 'fraud_Stiedemann Ltd',\n",
              "       'fraud_Hauck, Dietrich and Funk', 'fraud_Labadie LLC',\n",
              "       'fraud_Friesen Inc', 'fraud_Crist, Jakubowski and Littel',\n",
              "       'fraud_Hodkiewicz, Prohaska and Paucek',\n",
              "       'fraud_McDermott, Osinski and Morar', 'fraud_Fritsch and Sons',\n",
              "       'fraud_Swaniawski, Nitzsche and Welch',\n",
              "       'fraud_Windler, Goodwin and Kovacek',\n",
              "       'fraud_Yost, Schamberger and Windler',\n",
              "       'fraud_Metz, Russel and Metz', 'fraud_Erdman-Durgan',\n",
              "       'fraud_Bahringer, Bergnaum and Quitzon', 'fraud_Veum-Koelpin',\n",
              "       'fraud_Becker, Harris and Harvey', 'fraud_Monahan-Morar',\n",
              "       'fraud_Johns Inc', 'fraud_Mosciski Group', 'fraud_Abbott-Steuber',\n",
              "       'fraud_Schaefer Ltd', 'fraud_Dibbert-Green',\n",
              "       'fraud_Weimann-Lockman', 'fraud_Kub-Heaney', 'fraud_Zulauf LLC',\n",
              "       'fraud_Ratke and Sons', 'fraud_Jakubowski Inc', 'fraud_Beer-Jast',\n",
              "       'fraud_Kautzer and Sons', 'fraud_Feil-Morar',\n",
              "       'fraud_Johnston-Casper', 'fraud_Medhurst, Labadie and Gottlieb',\n",
              "       \"fraud_Lesch, D'Amore and Brown\", 'fraud_Botsford PLC',\n",
              "       'fraud_Bins-Howell', 'fraud_Kihn Inc',\n",
              "       'fraud_Hartmann, Rowe and Hermann', 'fraud_Towne LLC',\n",
              "       'fraud_Lynch-Wisozk', 'fraud_Kutch-Ferry', 'fraud_Goyette-Gerhold',\n",
              "       'fraud_Bradtke, Torp and Bahringer', 'fraud_Homenick LLC',\n",
              "       'fraud_Zemlak, Tillman and Cremin',\n",
              "       'fraud_Schneider, Hayes and Nikolaus',\n",
              "       'fraud_Schumm, McLaughlin and Carter', 'fraud_Nader-Maggio',\n",
              "       'fraud_Haley, Batz and Auer', 'fraud_Yost-Rogahn',\n",
              "       'fraud_Schoen, Nienow and Bauch',\n",
              "       'fraud_Ledner, Hartmann and Feest', 'fraud_Collier LLC',\n",
              "       'fraud_Schuppe-Schuppe', 'fraud_Walter, Hettinger and Kessler',\n",
              "       'fraud_Bechtelar-Rippin', \"fraud_Hamill-D'Amore\",\n",
              "       'fraud_Swift PLC', 'fraud_Cronin, Kshlerin and Weber',\n",
              "       'fraud_Romaguera, Wehner and Tromp',\n",
              "       'fraud_Feil, Hilpert and Koss', 'fraud_White and Sons',\n",
              "       'fraud_Mueller, Gerhold and Mueller', 'fraud_Botsford and Sons',\n",
              "       'fraud_Kirlin and Sons', 'fraud_Bednar PLC',\n",
              "       'fraud_Runolfsdottir, Mueller and Hand', 'fraud_Kuphal-Toy',\n",
              "       'fraud_Bahringer-Streich', 'fraud_Wuckert, Wintheiser and Friesen',\n",
              "       'fraud_Crona and Sons', 'fraud_Prosacco LLC', 'fraud_Schiller Ltd',\n",
              "       'fraud_Waelchi-Wolf', 'fraud_Torphy-Kertzmann',\n",
              "       'fraud_McCullough, Hudson and Schuster', 'fraud_Baumbach Ltd',\n",
              "       'fraud_Schiller, Blanda and Johnson', 'fraud_Cartwright PLC',\n",
              "       'fraud_Reilly LLC', 'fraud_Cruickshank-Mills',\n",
              "       'fraud_Altenwerth, Cartwright and Koss',\n",
              "       'fraud_Effertz, Welch and Schowalter',\n",
              "       'fraud_Klocko, Runolfsdottir and Breitenberg',\n",
              "       'fraud_Ruecker-Mayert', 'fraud_Schroeder, Hauck and Treutel',\n",
              "       'fraud_Lemke-Gutmann', 'fraud_Graham, Hegmann and Hammes',\n",
              "       'fraud_Reilly and Sons', 'fraud_Stark-Koss', 'fraud_Daugherty LLC',\n",
              "       'fraud_Denesik, Powlowski and Pouros', 'fraud_Rippin-VonRueden',\n",
              "       'fraud_Heller PLC', 'fraud_Hills-Boyer', 'fraud_Cormier LLC',\n",
              "       'fraud_Erdman-Ebert', 'fraud_Bogisich-Weimann',\n",
              "       'fraud_Gutmann, McLaughlin and Wiza', 'fraud_Little Ltd',\n",
              "       'fraud_Bode-Rempel', 'fraud_Kutch, Steuber and Gerhold',\n",
              "       'fraud_Kessler Inc', 'fraud_Deckow-Dare', 'fraud_Rolfson-Kunde',\n",
              "       'fraud_Marvin-Lind', 'fraud_Barrows PLC', 'fraud_Abbott-Rogahn',\n",
              "       'fraud_Ziemann-Waters', 'fraud_Reinger, Weissnat and Strosin',\n",
              "       'fraud_Heathcote, Yost and Kertzmann', 'fraud_Will Ltd',\n",
              "       'fraud_Kutch-Wilderman', 'fraud_Hermiston, Russel and Price',\n",
              "       'fraud_Schmidt-Larkin', 'fraud_Lang, Towne and Schuppe',\n",
              "       'fraud_Weber, Thiel and Hammes',\n",
              "       'fraud_Hahn, Bahringer and McLaughlin',\n",
              "       'fraud_Koss, Hansen and Lueilwitz',\n",
              "       'fraud_Roberts, Ryan and Smith', 'fraud_Hintz, Bauch and Smith',\n",
              "       'fraud_Monahan, Hermann and Johns',\n",
              "       'fraud_Bahringer, Osinski and Block',\n",
              "       'fraud_Douglas, DuBuque and McKenzie', 'fraud_Hackett Group',\n",
              "       'fraud_Schmeler-Howe', 'fraud_Predovic Inc', 'fraud_Langworth LLC',\n",
              "       'fraud_Bartoletti and Sons', 'fraud_Bernhard-Lesch',\n",
              "       'fraud_Satterfield-Lowe', 'fraud_Runte, Green and Emard',\n",
              "       'fraud_Lowe, Dietrich and Erdman', 'fraud_Jast Ltd',\n",
              "       'fraud_Welch, Rath and Koepp', 'fraud_Skiles LLC',\n",
              "       'fraud_Ernser-Feest', 'fraud_Klein Group',\n",
              "       'fraud_Torp, Muller and Borer', 'fraud_Kuhn Group',\n",
              "       'fraud_Streich, Rolfson and Wilderman', 'fraud_Bins-Tillman',\n",
              "       'fraud_Ankunding-Carroll', 'fraud_Hahn, Douglas and Schowalter',\n",
              "       'fraud_Witting, Beer and Ernser', 'fraud_Morissette LLC',\n",
              "       'fraud_Berge-Hills', 'fraud_Donnelly LLC', 'fraud_Zboncak LLC',\n",
              "       'fraud_Turner, Ziemann and Lehner', 'fraud_Padberg-Sauer',\n",
              "       'fraud_Schulist Ltd', 'fraud_Rau-Grant', 'fraud_Osinski Inc',\n",
              "       'fraud_Berge-Ullrich', 'fraud_Wuckert-Goldner',\n",
              "       'fraud_Kertzmann LLC', 'fraud_Daugherty, Pouros and Beahan',\n",
              "       'fraud_Armstrong, Walter and Gottlieb', 'fraud_Conroy-Emard',\n",
              "       'fraud_Moore, Williamson and Emmerich', 'fraud_Gleason and Sons',\n",
              "       'fraud_Roberts, Daniel and Macejkovic', 'fraud_Turner LLC',\n",
              "       'fraud_Crooks and Sons', 'fraud_Waelchi Inc',\n",
              "       'fraud_Hoppe, Harris and Bednar', 'fraud_Effertz LLC',\n",
              "       'fraud_Lubowitz-Walter', 'fraud_Hyatt-Blick', 'fraud_Carroll PLC',\n",
              "       'fraud_Lemke and Sons', 'fraud_Treutel-King',\n",
              "       'fraud_Fadel-Hilpert', 'fraud_Altenwerth-Kilback',\n",
              "       'fraud_Bauch-Blanda', 'fraud_Sporer-Keebler', 'fraud_Hirthe-Beier',\n",
              "       'fraud_Wisozk and Sons', 'fraud_Streich Ltd', 'fraud_Schoen Ltd',\n",
              "       'fraud_Windler LLC', 'fraud_Nolan-Williamson',\n",
              "       'fraud_Roob-Okuneva', 'fraud_Lakin, Ferry and Beatty',\n",
              "       'fraud_Gottlieb Group', 'fraud_Harris Group', 'fraud_Fritsch LLC',\n",
              "       'fraud_Corwin-Romaguera', 'fraud_Dietrich-Fadel',\n",
              "       'fraud_Kling, Howe and Schneider', 'fraud_Kozey-Kuhlman',\n",
              "       'fraud_Graham and Sons', 'fraud_Jacobi and Sons',\n",
              "       'fraud_Eichmann, Hayes and Treutel',\n",
              "       'fraud_Brown, Homenick and Lesch', 'fraud_Erdman-Schaden',\n",
              "       'fraud_Durgan, Gislason and Spencer', 'fraud_Friesen-Ortiz',\n",
              "       'fraud_Morissette-Schaefer', 'fraud_Nienow, Ankunding and Collier',\n",
              "       'fraud_Cole, Hills and Jewess',\n",
              "       'fraud_Conroy, Balistreri and Gorczany',\n",
              "       'fraud_Reichel, Bradtke and Blanda',\n",
              "       \"fraud_O'Reilly, Mohr and Purdy\", 'fraud_Ullrich Ltd',\n",
              "       'fraud_Schroeder Group', 'fraud_Boyer-Haley',\n",
              "       'fraud_Dare, Casper and Bartoletti',\n",
              "       'fraud_Medhurst, Cartwright and Ebert', 'fraud_Quitzon-Goyette',\n",
              "       'fraud_Wilkinson LLC', 'fraud_Romaguera and Sons',\n",
              "       'fraud_Larkin Ltd', 'fraud_Fadel, Mertz and Rippin',\n",
              "       'fraud_Huel Ltd', 'fraud_Cummerata-Hilpert', 'fraud_Zemlak Group',\n",
              "       'fraud_Dare-Gibson', 'fraud_Adams-Barrows', 'fraud_Block-Hauck',\n",
              "       'fraud_Howe PLC', 'fraud_Leffler-Goldner', 'fraud_Tillman LLC',\n",
              "       'fraud_Pacocha-Weissnat', 'fraud_Morissette PLC',\n",
              "       'fraud_Jerde-Hermann', 'fraud_Kihn, Brakus and Goyette',\n",
              "       'fraud_Hills, Hegmann and Schaefer', 'fraud_Friesen Ltd',\n",
              "       'fraud_Kilback and Sons', 'fraud_Ebert-Daugherty',\n",
              "       'fraud_Hermiston, Pacocha and Smith', 'fraud_Auer LLC',\n",
              "       'fraud_Fadel Inc', 'fraud_Daugherty-Thompson',\n",
              "       'fraud_Romaguera Ltd', 'fraud_Parker-Kunde', 'fraud_Barton LLC',\n",
              "       'fraud_Kassulke Inc', 'fraud_McLaughlin, Armstrong and Koepp',\n",
              "       'fraud_Abernathy and Sons', 'fraud_Bahringer Group',\n",
              "       'fraud_Connelly PLC', 'fraud_Willms, Kris and Bergnaum',\n",
              "       'fraud_Thiel Ltd', 'fraud_Kris-Kertzmann',\n",
              "       \"fraud_O'Connell-Ullrich\", 'fraud_Kozey-McDermott',\n",
              "       'fraud_Reichel LLC', 'fraud_Thiel-Thiel', 'fraud_Rau-Robel',\n",
              "       'fraud_Haley Group', 'fraud_Turcotte, McKenzie and Koss',\n",
              "       'fraud_Stamm-Witting', 'fraud_Ritchie, Bradtke and Stiedemann',\n",
              "       'fraud_Nienow, Barrows and Romaguera', 'fraud_Shields-Wunsch',\n",
              "       'fraud_Goyette-Herzog', 'fraud_Shields Inc',\n",
              "       'fraud_Hayes, Marquardt and Dibbert',\n",
              "       'fraud_Swaniawski, Bahringer and Ledner', 'fraud_Roob LLC',\n",
              "       'fraud_Rutherford, Homenick and Bergstrom',\n",
              "       'fraud_Harris, Gusikowski and Heaney', 'fraud_Hintz-Bruen',\n",
              "       'fraud_Turner, Ruecker and Parisian', 'fraud_Ruecker Group',\n",
              "       'fraud_Johns-Hoeger', 'fraud_Ritchie, Oberbrunner and Cremin',\n",
              "       'fraud_Haag-Blanda', 'fraud_Hagenes, Hermann and Stroman',\n",
              "       'fraud_Reichert-Weissnat', 'fraud_Hyatt, Russel and Gleichner',\n",
              "       'fraud_Champlin, Rolfson and Connelly', 'fraud_Leannon-Nikolaus',\n",
              "       'fraud_Tromp Group', 'fraud_Kovacek Ltd', 'fraud_Kutch Group',\n",
              "       'fraud_Kohler, Lindgren and Koelpin', 'fraud_Heller-Abshire',\n",
              "       'fraud_Swift, Bradtke and Marquardt',\n",
              "       'fraud_Larson, Quitzon and Spencer',\n",
              "       'fraud_Kilback, Nitzsche and Leffler', 'fraud_Jakubowski Group',\n",
              "       'fraud_Breitenberg LLC', 'fraud_Collier Inc', 'fraud_Paucek-Wiza',\n",
              "       'fraud_Kessler Group'], dtype=object)"
            ]
          },
          "metadata": {},
          "execution_count": 573
        }
      ]
    },
    {
      "cell_type": "code",
      "source": [
        "df['city'].unique()"
      ],
      "metadata": {
        "id": "kKgVWMUeeuHP",
        "colab": {
          "base_uri": "https://localhost:8080/"
        },
        "outputId": "1c1cb5e0-cbb1-4408-f766-4a67f283129c"
      },
      "execution_count": 574,
      "outputs": [
        {
          "output_type": "execute_result",
          "data": {
            "text/plain": [
              "array(['Moravian Falls', 'Orient', 'Malad City', 'Boulder', 'Doe Hill',\n",
              "       'Dublin', 'Holcomb', 'Edinburg', 'Manor', 'Clarksville',\n",
              "       'Clarinda', 'Shenandoah Junction', 'Saint Petersburg', 'Grenada',\n",
              "       'High Rolls Mountain Park', 'Harrington Park', 'Lahoma',\n",
              "       'Carlisle', 'Harborcreek', 'Elizabeth', 'Methuen', 'Moulton',\n",
              "       'Plainfield', 'May', 'Waukesha', 'Bailey', 'Romulus', 'Freedom',\n",
              "       'Honokaa', 'Valentine', 'Westfir', 'Tiptonville', 'Republic',\n",
              "       'Baton Rouge', 'Washington', 'Big Creek', 'Bellmore', 'Florence',\n",
              "       'Allentown', 'Moriches', 'Esbon', 'Chatham', 'Thompson',\n",
              "       'North Prairie', 'Laredo', 'Grant', 'Conway', 'New Goshen',\n",
              "       'Sunflower', 'Enola', 'Roosevelt', 'Pointe Aux Pins', 'Dallas',\n",
              "       'Jay', 'North Tonawanda', 'Athena', 'Chester', 'Elkhart',\n",
              "       'Surrency', 'Arcadia', 'Gaithersburg', 'Bowdoin', 'Heart Butte',\n",
              "       'San Jose', 'Rumely', 'Cranks', 'Ravenna', 'Utica', 'Uledi',\n",
              "       'Naples', 'Thida', 'Parks', 'Central', 'Fort Washakie', 'Etlan',\n",
              "       'Brinson', 'Shrewsbury', 'Bigelow', 'North Washington', 'Holloway',\n",
              "       'Littleton', 'Hinesburg', 'Meadville', 'Elberta', 'Moab',\n",
              "       'Diamond', 'Bradley', 'Hopewell', 'Hawthorne', 'Kensington',\n",
              "       'Ruth', 'Avoca', 'Princeton', 'Sherman', 'Loxahatchee',\n",
              "       'Smackover', 'Cokeburg', 'Leetsdale', 'Manville',\n",
              "       'Westhampton Beach', 'New York City', 'Halstad', 'Allenhurst',\n",
              "       'June Lake', 'Sixes', 'Holstein', 'Brantley', 'Paxton',\n",
              "       'Westerville', 'Timberville', 'Dunlevy', 'Coyle', 'Elizabethtown',\n",
              "       'Garrattsville', 'Lomax', 'Egan', 'Brownville', 'Drakes Branch',\n",
              "       'Ballwin', 'Fields Landing', 'West Palm Beach', 'West Chazy',\n",
              "       'Lebanon', 'Jones', 'Burke', 'Webster City', 'Ozawkie',\n",
              "       'Blackville', 'Damascus', 'Sea Island', 'Rule', 'Jefferson',\n",
              "       'Huntsville', 'Hinckley', 'Acworth', 'Camden', 'Smiths Grove',\n",
              "       'Philadelphia', 'Murrayville', 'Melbourne', 'Palmyra', 'Jermyn',\n",
              "       'Belfast', 'West Sayville', 'Sturgis', 'Lohrville', 'Arlington',\n",
              "       'Saint Paul', 'Girard', 'Fairview', 'Farmington', 'Kilgore',\n",
              "       'Springfield', 'Lepanto', 'Karnack', 'Louisiana', 'Kansas City',\n",
              "       'Mesa', 'Pomona', 'Lonetree', 'Port Saint Lucie', 'Centerview',\n",
              "       'Colorado Springs', 'Easton', 'West Columbia', 'Maysville',\n",
              "       'Muskegon', 'Johns Island', 'Metairie', 'Blairsden-Graeagle',\n",
              "       'Hampton', 'Viola', 'Paulding', 'Sontag', 'Clutier', 'Reno',\n",
              "       'Barnstable', 'Cardwell', 'Kingsford Heights', 'Phoenix',\n",
              "       'Newhall', 'Norwalk', 'Mc Nabb', 'Tulsa', 'Barnard', 'San Antonio',\n",
              "       'Bridger', 'Tomales', 'Mallie', 'Oxford', 'Turner', 'Eureka',\n",
              "       'Marietta', 'Redford', 'Weeping Water', 'Waynesfield', 'Portland',\n",
              "       'Greenwood', 'Boonton', 'Murfreesboro', 'Warren', 'Meridian',\n",
              "       'Cherokee Village', 'Bristow', 'Ash Flat', 'Iliff', 'Deadwood',\n",
              "       'Burlington', 'Wales', 'Churubusco', 'Afton', 'Cochranton',\n",
              "       'Mound City', 'West Harrison', 'Pembroke Township', 'Joliet',\n",
              "       'Fulton', 'Saint Bonaventure', 'Keisterville', 'Greenview',\n",
              "       'Lakeport', 'Rock Tavern', 'Llano', 'Altair', 'Harrodsburg',\n",
              "       'Carlotta', 'Wittenberg', 'Des Moines', 'Auburn', 'Dadeville',\n",
              "       'Wilton', 'Ollie', 'Mifflin', 'Amsterdam', 'Manderson', 'Holliday',\n",
              "       'Dumont', 'Payson', 'Birmingham', 'Creola', 'Texarkana',\n",
              "       'Fullerton', 'Ruckersville', 'Blooming Grove', 'Comfort',\n",
              "       'Louisville', 'Atglen', 'North Loup', 'Grassflat', 'Mill Creek',\n",
              "       'Moores Hill', 'Browning', 'Smithfield', 'Cromona', 'Kent',\n",
              "       'Harwood', 'Delhi', 'Gadsden', 'Brooklin', 'Bay Minette',\n",
              "       'Higganum', 'Ashfield', 'Fiddletown', 'Andrews',\n",
              "       'Huntington Beach', 'Westport', 'Comfrey', 'Heidelberg', 'Powell',\n",
              "       'De Witt', 'Howes Cave', 'Oolitic', 'Belmond', 'Mooresville',\n",
              "       'Steuben', 'Armagh', 'Edisto Island', 'Marathon', 'Port Gibson',\n",
              "       'Brandon', 'Tallmansville', 'Glendale', 'El Paso', 'Lamberton',\n",
              "       'Manchester', 'Emporium', 'Alva', 'Roma', 'Prairie Hill',\n",
              "       'Blairstown', 'Bridgeport', 'Grand Junction', 'Tamaroa',\n",
              "       'Great Mills', 'Laguna Hills', 'West Decatur', 'Aledo', 'Pelham',\n",
              "       'Albuquerque', 'Scotland', 'Azusa', 'Lanark Village',\n",
              "       'Cuyahoga Falls', 'Manistique', 'Mountain Park', 'University',\n",
              "       'Breesport', 'Harper', 'Bagley', 'Fenelton', 'Gardiner',\n",
              "       'Greendale', 'Bay City', 'Minneapolis', 'Gregory', 'Tuscarora',\n",
              "       'Northport', 'Rock Springs', 'Altona', 'Paauilo', 'Ratcliff',\n",
              "       'Mount Morris', 'Pembroke', 'Pittsburgh', 'West Henrietta',\n",
              "       'Tickfaw', 'Rhame', 'Eugene', 'Seneca', 'Daly City', 'Logan',\n",
              "       'Coleman', 'Norman', 'Cape Coral', 'Summerfield', 'Daniels',\n",
              "       'Tampa', 'Gainesville', 'East Canaan', 'Dresden', 'Luzerne',\n",
              "       'Parkers Lake', 'Olmsted', 'Mendon', 'Fayetteville', 'Notrees',\n",
              "       'Pecos', 'Brunson', 'Belgrade', 'Kenner', 'Stillwater', 'Cadiz',\n",
              "       'Avera', 'Annapolis', 'Powell Butte', 'Rosewood', 'Lima', 'Thrall',\n",
              "       'Union', 'Riverview', 'Hannawa Falls', 'Cazenovia', 'North Judson',\n",
              "       'Fordoche', 'Bauxite', 'Cisco', 'Apison', 'Cass', 'Santa Monica',\n",
              "       'Amorita', 'Laramie', 'Hudson', 'Center Point', 'Lagrange',\n",
              "       'Dexter', 'Brainard', 'Winger', 'Thomas', 'Shelter Island',\n",
              "       'Tupper Lake', 'Humboldt', 'Winter', 'Corona', 'Lakeland',\n",
              "       'Vienna', 'Goreville', 'Yellowstone National Park', 'Shedd',\n",
              "       'Wilmington', 'Mc Cracken', 'Milner', 'Noonan', 'Falconer',\n",
              "       'Desdemona', 'Bethel Springs', 'Burns Flat', 'Glen Rock', 'Basye',\n",
              "       'Lowville', 'Du Pont', 'Burrton', 'Lubbock', 'Independence',\n",
              "       'Creedmoor', 'Wichita', 'Houston', 'Clay Center', 'Sebring',\n",
              "       'Whittemore', 'Ogdensburg', 'Spearsville', 'Oaks',\n",
              "       'Paradise Valley', 'Burbank', 'New Holstein', 'Schaefferstown',\n",
              "       'Washington Court House', 'Eldridge', 'San Diego', 'Marienville',\n",
              "       'Fort Myers', 'Kissee Mills', 'Bronx', 'Montandon', 'Espanola',\n",
              "       'Campbell', 'Indian Wells', 'Hewitt', 'Leo', 'Mulberry Grove',\n",
              "       'Mountain Center', 'Helm', 'Detroit', 'Moundsville', 'Falmouth',\n",
              "       'Zaleski', 'Lowell', 'Henderson', 'Corsica', 'Wilmette',\n",
              "       'Mayersville', 'Pearlington', 'Cleveland', 'Whigham', 'Kirby',\n",
              "       'Knoxville', 'Highland', 'Hazel', 'Alexandria', 'Port Ewen',\n",
              "       'Lamy', 'Mount Clemens', 'North Wilkesboro', 'Morrisdale', 'Cord',\n",
              "       'Sauk Rapids', 'Center Tuftonboro', 'Hatch', 'Margaretville',\n",
              "       'Goodrich', 'Ford', 'South Londonderry', 'Cross Plains',\n",
              "       'Lake Jackson', 'Orangeburg', 'Walnut Ridge', 'Tower Hill',\n",
              "       'Oakland', 'Montrose', 'Parker Dam', 'Rocky Mount', 'Coleharbor',\n",
              "       'Falls City', 'Moriarty', 'Southfield', 'Glade Spring', 'Slayden',\n",
              "       'O Brien', 'Bristol', 'Umatilla', 'Hooper', 'Saint Amant',\n",
              "       'Clayton', 'Cascade Locks', 'Saint James City', 'Vinton',\n",
              "       'Christine', 'Alder', 'Roseland', 'Tyaskin', 'Lake Oswego',\n",
              "       'Parker', 'Wauchula', 'Colton', 'Juliette', 'River',\n",
              "       'Beaver Falls', 'Elk Rapids', 'Lonsdale', 'West Hartford',\n",
              "       'Kirtland Afb', 'Shields', 'Riverton', 'Whaleyville', 'Sacramento',\n",
              "       'Marion', 'Adams', 'Zavalla', 'Cottekill', 'Shippingport',\n",
              "       'Montgomery', 'Sun City', 'Grover', 'Newport',\n",
              "       'South Richmond Hill', 'Parsonsfield', 'Garfield', 'Jelm',\n",
              "       'Meredith', 'Battle Creek', 'Woodville', 'Luray', 'Cowlesville',\n",
              "       'Haw River', 'Falls Church', 'Topeka', 'Haynes', 'Grimesland',\n",
              "       'Smith River', 'Moorhead', 'White Sulphur Springs', 'East Andover',\n",
              "       'Superior', 'Hurricane', 'Bowersville', 'Mount Saint Joseph',\n",
              "       'Hancock', 'Dubre', 'Collettsville', 'Rossville', 'Red River',\n",
              "       'Benton', 'Monmouth Beach', 'Bessemer', 'Greenbush', 'Reynolds',\n",
              "       'Nazareth', 'Hovland', 'Alpharetta', 'Canton', 'Catawba',\n",
              "       'Scarborough', 'Hopkins', 'Norman Park', 'Sachse', 'Arvada',\n",
              "       'Winthrop', 'De Soto', 'Sutherland', 'Grandview', 'Manquin',\n",
              "       'Owensville', 'Altonah', 'Titusville', 'Paris', 'Humble', 'Mounds',\n",
              "       'Lolita', 'Wetmore', 'Keller', 'Amanda', 'Scotia', 'Pueblo',\n",
              "       'Purmela', 'Chester Heights', 'Clarks Mills', 'Mount Hope',\n",
              "       'West Eaton', 'Beaverdam', 'Randolph', 'Greenwich', 'Ragland',\n",
              "       'Phenix City', 'Coffeeville', 'Stirling', 'Issaquah',\n",
              "       'Old Hickory', 'West Long Branch', 'Ronceverte', 'Sula',\n",
              "       'Belle Fourche', 'Vero Beach', 'Curlew', 'Tyler', 'Miamisburg',\n",
              "       'Providence', 'Saint Louis', 'Duncan', 'De Lancey', 'Lawn',\n",
              "       'Tryon', 'Milwaukee', 'New Ellenton', 'East Troy', 'Saxon',\n",
              "       'West Green', 'Atlantic', 'Mc Veytown', 'Ferney', 'Corriganville',\n",
              "       'Pikesville', 'Cecilton', 'Wheaton', 'Palmdale', 'New Memphis',\n",
              "       'Newton', 'Valdosta', 'Jordan Valley', 'Edmond', 'Hills',\n",
              "       'Waupaca', 'Darien', 'Milford', 'De Queen', 'Newberg', 'Plymouth',\n",
              "       'Columbia', 'Belmont', 'Quanah', 'Barneveld', 'Newark Valley',\n",
              "       'Downsville', 'American Fork', 'Clifton', 'Stayton', 'Bonfield',\n",
              "       'Napa', 'West Monroe', 'Dayton', 'Hawley', 'Kingsport', 'Moro',\n",
              "       'Livonia', 'Sheffield', 'Gretna', 'Haines City', 'Key West',\n",
              "       'Stanchfield', 'Rockwood', 'Hahira', 'Munith', 'Minnesota Lake',\n",
              "       'New Waverly', 'Sprague', 'Dieterich', 'Mansfield', 'Winfield',\n",
              "       'Rochester', 'Oran', 'Orr', 'Crownpoint', 'Putnam', 'San Angelo',\n",
              "       'Eagarville', 'Leonard', 'Claremont', 'Spencer', 'Nelson',\n",
              "       'Rockwell', 'Ringwood', 'Oakdale', 'Nokomis', 'Bethel', 'Cedar',\n",
              "       'Loami', 'Spring Church', 'Brashear', 'Tekoa', 'Kingsville',\n",
              "       'Galatia', 'Dell City', 'Emmons', 'Norwich', 'Maria Stein',\n",
              "       'Georgetown', 'Clearwater', 'Albany', 'Indianapolis', 'Red Cliff',\n",
              "       'Omaha', 'Brooklyn', 'Richland', 'Arnold', 'Odessa', 'Iselin',\n",
              "       'Washoe Valley', 'Denham Springs', 'Mobile', 'Vanderbilt',\n",
              "       'Varnell', 'Halma', 'Oriskany Falls', 'Ranier', 'Lawrence',\n",
              "       'Hurley', 'Grand Bay', 'Sardis', 'Woods Cross', 'Broomfield',\n",
              "       'Schaumburg', 'Saint Francis', 'Heiskell', 'Unionville',\n",
              "       'Nobleboro', 'South Hero', 'Carroll', 'Achille', 'Lithopolis',\n",
              "       'Manley', 'Graniteville', 'Plantersville', 'Jaffrey',\n",
              "       'Liberty Mills', 'Stephensport', 'Matawan', 'Grantham', 'Tomahawk',\n",
              "       'Lakeview', 'Lane', 'Pewee Valley', 'Bolton', 'Matthews',\n",
              "       'Jordanville', 'Syracuse', 'Ruidoso', 'Oak Hill', 'Cressona',\n",
              "       'Early', 'Bryant', 'Bynum', 'Palermo', 'Fairhope', 'Remer',\n",
              "       'Baroda', 'Howells', 'Beasley', 'Phil Campbell', 'Deane',\n",
              "       'North Haverhill', 'Mount Perry', 'Prairie Creek', 'Grand Ridge',\n",
              "       'Oklahoma City', 'Ashford', 'Huslia', 'Irvine', 'Ehrhardt',\n",
              "       'Prosperity', 'Dongola', 'Paint Rock', 'Dalton', 'Smock',\n",
              "       'Bolivar', 'Spring', 'Ridgeland', 'West Finley', 'Lorenzo',\n",
              "       'Clune', 'Port Costa', 'Oconto Falls', 'Preston', 'Bonita Springs',\n",
              "       'Hartford', 'Hedrick', 'Boyd', 'Big Indian', 'Cuthbert',\n",
              "       'Sterling City', 'Queenstown', 'Trenton', 'Kirk', 'Gibsonville',\n",
              "       'North Brookfield', 'Akron', 'Monitor', 'New Boston', 'Monetta',\n",
              "       'Mc Intosh', 'Watertown', 'Alton', 'Rock Glen', 'East Rochester',\n",
              "       'Armonk', 'Stoneham', 'Winslow', 'Williamsburg', 'Mc Clellandtown',\n",
              "       'Hedley', 'Skytop', 'Cross', 'Deltona', 'Irwinton',\n",
              "       'North Augusta', 'Collegeville', 'Knowlesville', 'Oakford',\n",
              "       'Aurora', 'Heislerville', 'Scotts Mills', 'Moscow', 'Williams',\n",
              "       'Premier', 'Port Charlotte', 'Wendel', 'Harmony',\n",
              "       'Springfield Gardens', 'North Las Vegas', 'Port Richey',\n",
              "       'Linthicum Heights', 'Veedersburg', 'Loving', 'Stittville',\n",
              "       'Kittery Point', 'Greenville', 'Los Angeles', 'Ironton',\n",
              "       'Vancouver', 'Jackson', 'Kings Bay', 'Thornville', 'Cassatt',\n",
              "       'Michigan', 'Spirit Lake', 'Pea Ridge', 'West Bethel',\n",
              "       'New Franken'], dtype=object)"
            ]
          },
          "metadata": {},
          "execution_count": 574
        }
      ]
    },
    {
      "cell_type": "code",
      "source": [
        "df['state'].unique()"
      ],
      "metadata": {
        "id": "qQuJBoRle3Jg",
        "colab": {
          "base_uri": "https://localhost:8080/"
        },
        "outputId": "6b1f831a-7f7c-427c-a544-2e3d7b641d7d"
      },
      "execution_count": 575,
      "outputs": [
        {
          "output_type": "execute_result",
          "data": {
            "text/plain": [
              "array(['NC', 'WA', 'ID', 'MT', 'VA', 'PA', 'KS', 'TN', 'IA', 'WV', 'FL',\n",
              "       'CA', 'NM', 'NJ', 'OK', 'IN', 'MA', 'TX', 'WI', 'MI', 'WY', 'HI',\n",
              "       'NE', 'OR', 'LA', 'DC', 'KY', 'NY', 'MS', 'UT', 'AL', 'AR', 'MD',\n",
              "       'GA', 'ME', 'AZ', 'MN', 'OH', 'CO', 'VT', 'MO', 'SC', 'NV', 'IL',\n",
              "       'NH', 'SD', 'AK', 'ND', 'CT', 'RI'], dtype=object)"
            ]
          },
          "metadata": {},
          "execution_count": 575
        }
      ]
    },
    {
      "cell_type": "code",
      "source": [
        "df['zip'].unique()"
      ],
      "metadata": {
        "id": "YiafXnPke8fM",
        "colab": {
          "base_uri": "https://localhost:8080/"
        },
        "outputId": "7e693a67-ba1e-45ca-cca6-0eed69227655"
      },
      "execution_count": 576,
      "outputs": [
        {
          "output_type": "execute_result",
          "data": {
            "text/plain": [
              "array([28654, 99160, 83252, 59632, 24433, 18917, 67851, 22824, 15665,\n",
              "       37040, 51632, 25442, 33710, 96038, 88325,  7640, 73754, 47838,\n",
              "       16421,  7208,  1844, 52572,  7060, 76857, 53186, 27807, 48174,\n",
              "       83120, 96727, 69201, 97492, 38079, 49879, 70808, 20012, 40914,\n",
              "       11710, 39073, 18103, 11955, 66941, 12037, 84540, 53153, 78040,\n",
              "       35747, 98238, 47863, 38778, 72047, 73564, 49775, 75210, 32565,\n",
              "       14120, 97813, 21619, 50073, 31563, 49613, 20882,  4287, 59448,\n",
              "       95148, 49826, 40820, 68869, 67584, 15484, 34112, 72165, 86018,\n",
              "       47110, 82514, 22719, 39825,  1545, 56117, 16048, 43985, 80120,\n",
              "        5461, 64659, 49628, 84532, 44412, 29819, 23860, 90250, 20895,\n",
              "       89319, 51521, 52768, 75092, 33470, 71762, 15324, 15056, 82227,\n",
              "       11978, 10162, 56548,  7711, 93529, 97476, 68950, 36009,  1612,\n",
              "       68881, 22853, 15432, 73027, 42701, 13342, 39653, 61454, 70531,\n",
              "       13615, 23937, 63021, 95537, 33417, 12992, 24266, 36749, 22015,\n",
              "       50595, 66070, 29817, 24236, 31561, 79548, 12093, 35811, 44233,\n",
              "        3601, 13316, 42171, 19149, 62668, 32935, 14522, 18433, 14711,\n",
              "       11796, 39769, 51453, 22213, 55128, 30426,  7022, 14425, 75662,\n",
              "       31329, 72354, 75661, 63353, 64114, 83643, 10970, 82936, 34953,\n",
              "       64019, 80951, 66020, 29170, 41056, 49440, 29455, 70003, 96103,\n",
              "       23666, 72583, 45879, 39665, 52217, 89512,  2630, 63829, 46346,\n",
              "       85020, 91321, 44857, 61335, 74130, 57426, 78214, 59014, 94971,\n",
              "       41836, 48371, 59542, 61530, 29661, 63665, 68463, 45896, 97210,\n",
              "       46143,  7005, 37132, 48088, 76665, 72529, 47515, 72513, 80736,\n",
              "       57732, 98233, 99783, 46723, 49705, 16314, 64470, 10604, 60958,\n",
              "       60432, 43321, 14778, 19154, 15449, 96037, 95453, 12575, 87543,\n",
              "       77412, 47434, 95528, 54499, 50312,  4210, 36853, 58579, 52576,\n",
              "       17058, 43903, 57756, 76366, 80436, 62360, 52535, 45622, 71854,\n",
              "       68638, 22968, 76626, 25049, 40202, 19310, 68859, 16839, 17060,\n",
              "       47032, 64630, 75236, 61477, 41810, 97033, 20776, 71232, 35901,\n",
              "        4616, 36507,  6441,  1330, 95629, 46702, 92648, 40077, 56019,\n",
              "       39439, 37849, 72042, 12092, 47451, 50421, 28117, 78248,  4680,\n",
              "       15920, 29438, 79842, 14537,  5733, 26237, 83646, 91206, 79906,\n",
              "       56152, 21102, 15834, 82711, 78584, 76678, 64726,  8014, 38039,\n",
              "       62888, 20634, 92637, 16878, 76008, 27311, 87116, 20687, 91702,\n",
              "       32323, 28901, 44483, 44223, 49854, 73559, 38677, 14816, 78631,\n",
              "       53801, 16034, 97441, 53129, 48706, 55403, 72059, 21790, 11768,\n",
              "       82901, 12910, 96776, 75858, 14510, 28372, 15217, 14586, 70466,\n",
              "       58651, 97403, 54654, 94015, 62856, 76834, 71960, 29320, 33909,\n",
              "       22151, 79085, 25832, 33620, 76240,  6024, 67635, 48636, 42634,\n",
              "       62970, 84325, 28314, 20036, 79759, 79772, 29911, 59714, 70062,\n",
              "       74074, 42211, 30803, 21405, 97753, 43070, 45801, 76578, 24983,\n",
              "       64686, 48193, 13647, 53924, 46366, 70732, 72011, 61830, 37302,\n",
              "       24927, 90403, 73719, 82072, 12534, 26339, 82221,  3818, 67038,\n",
              "       68626, 56592, 73669, 11964, 12986, 86329, 54896, 85086, 92882,\n",
              "       33809, 31092, 62939, 82190, 97377, 28405, 67556, 30257, 58765,\n",
              "       14733, 76445, 67545, 38315, 73624, 17327, 22810, 13367, 31630,\n",
              "       67020, 79413, 64058, 27522, 67232, 35903, 77026, 14707, 43408,\n",
              "       33811, 33872, 50598,  7439, 71277, 19456, 85253, 74633, 53061,\n",
              "       17088, 64017, 43160, 35554, 92128, 16239, 33967, 65680, 10463,\n",
              "       17850, 87533, 68932, 92210, 54441, 46765, 62262, 26292, 92561,\n",
              "       93627, 48221, 26041, 49632, 45698, 97452, 25106, 15829, 60091,\n",
              "       39113, 39572, 35049, 39897, 43330, 37932, 46322, 42049, 22311,\n",
              "       12466, 87540, 48043, 28659, 16858, 72524, 56379,  3816, 84735,\n",
              "       55001, 12455, 48438, 23850,  5155, 76443, 77566, 10962, 72476,\n",
              "       62571, 94619, 10548, 92267, 65072, 35229, 58531, 78113, 87035,\n",
              "       48034, 24340, 37165, 79539, 19007, 32784, 68031, 70774, 74536,\n",
              "       97014, 33956, 96135, 58015, 59710, 68973, 21865, 97034, 80138,\n",
              "       48206, 33873, 99113, 31046, 41254, 15010, 75218, 49629, 50314,\n",
              "       55046,  5084, 87117, 48214, 58569, 82501, 21872, 95827,  6444,\n",
              "       53910, 75980, 12419, 15077, 36111, 92585, 28073,  4953, 11419,\n",
              "        4047, 67529, 82063, 81642, 51006, 35776, 63453, 14037, 27258,\n",
              "       22046, 66618, 72341, 27837, 95567, 38761, 24986,  4226, 85173,\n",
              "       20017, 25526, 45307, 45051, 21750, 42731, 28611, 60963, 87558,\n",
              "       53803,  7750, 35022, 23357, 58275, 79063, 55606, 30009, 44702,\n",
              "       24070,  4074, 29061, 31771, 75048, 80005,  4364, 66018, 97107,\n",
              "       69165, 76050, 23106, 65066, 57340, 84002, 32780, 38949, 77338,\n",
              "       75238, 74047, 77971, 49895, 76248, 43102, 29939, 81005, 76566,\n",
              "       19017, 16114, 35651, 13484, 45808, 44265,  8323, 10039, 35131,\n",
              "       36869, 38922,  7980, 98027, 37138,  7764, 24970, 59871, 57717,\n",
              "       32960, 50527, 75703, 45342,  2908, 63131, 38740, 13752, 17041,\n",
              "       74875, 53228, 29809, 53120, 77327, 54559, 31567, 23303, 17051,\n",
              "       57439, 21524, 21208, 21913, 64874, 93552, 62266, 99323,  3858,\n",
              "       35803, 31605, 97910, 73034, 56138, 54981, 31305, 45150, 71832,\n",
              "       97132,  6782, 29209, 16362,  3220, 79252, 13304, 13811, 13755,\n",
              "       84003, 29324, 87109, 97383, 60913, 94558, 33510, 67216, 71291,\n",
              "       45415, 56549, 37663, 38060, 62067, 48154,  1257, 70056, 33844,\n",
              "       33040, 55080, 15557, 31632, 10280, 77007, 90650, 49259, 56068,\n",
              "       77358, 68438, 62424, 44902, 95842, 25213, 42273, 50664, 55771,\n",
              "       87313, 61560, 76905, 62023, 75452, 91711, 57374, 68961, 55065,\n",
              "       50469, 60072, 11769, 62075, 45106, 49621, 62661, 15686, 63533,\n",
              "       99033, 21087, 62935, 79837, 56029, 43767, 74131, 45860, 56546,\n",
              "       33760, 11957, 12222, 46254, 81649, 68117, 11217,  8350, 63010,\n",
              "       64076,  8830, 89704, 70726, 36617, 15486, 30756, 56729, 13425,\n",
              "       56668,  1843, 57036, 36541, 36775, 84087, 80021, 60193, 40062,\n",
              "       37754, 63565,  4555,  5486, 68723, 74720, 43136, 68403,  5654,\n",
              "       36758,  3452, 46946, 40170,  7747,  3753, 27358, 54487, 48850,\n",
              "       74555, 40056, 28423, 78208, 63867, 13361, 65354, 88355, 48202,\n",
              "       12460, 17929, 50535, 54418, 76631, 31003, 58769, 36532, 56672,\n",
              "       49101, 68641, 77417, 35581, 41812,  3774, 43760, 47869, 32442,\n",
              "       73134, 98304, 99746, 16329, 32044, 29081, 29127, 62926, 35764,\n",
              "       53926, 15480, 15923, 77379, 39157, 15377, 79343, 15727, 94569,\n",
              "       54154,  6365, 34135, 36344, 52563, 54726, 12410, 39840, 76951,\n",
              "       21658, 33813, 75490, 80824, 27249,  1535, 44307, 98836, 61272,\n",
              "       29105, 44804, 46290, 57641, 55388, 51003, 18246, 14445, 10504,\n",
              "        2180, 72959, 63388, 15458, 79237, 18357, 29436, 66616, 32725,\n",
              "       31042, 29860, 56321, 14479, 62673, 80014, 63336,  8324, 97375,\n",
              "       52760, 47470, 24878, 33981, 34120, 33404, 96136, 16037, 11413,\n",
              "       40336, 89084, 34668, 21090, 47987, 88256, 55428, 13469,  3905,\n",
              "       45331, 90014, 45638, 98665, 39211, 75934, 31547, 43076, 29032,\n",
              "       58259, 40209, 83869, 92101, 72751,  4286, 54229])"
            ]
          },
          "metadata": {},
          "execution_count": 576
        }
      ]
    },
    {
      "cell_type": "code",
      "source": [
        "df['job'].unique()"
      ],
      "metadata": {
        "id": "j8C21uByfmVG",
        "colab": {
          "base_uri": "https://localhost:8080/"
        },
        "outputId": "183c4794-5c3c-45a9-e2d8-2266fbd56171"
      },
      "execution_count": 577,
      "outputs": [
        {
          "output_type": "execute_result",
          "data": {
            "text/plain": [
              "array(['Psychologist, counselling', 'Special educational needs teacher',\n",
              "       'Nature conservation officer', 'Patent attorney',\n",
              "       'Dance movement psychotherapist', 'Transport planner',\n",
              "       'Arboriculturist', 'Designer, multimedia',\n",
              "       'Public affairs consultant', 'Pathologist', 'IT trainer',\n",
              "       'Systems developer', 'Engineer, land', 'Systems analyst',\n",
              "       'Naval architect', 'Radiographer, diagnostic',\n",
              "       'Programme researcher, broadcasting/film/video', 'Energy engineer',\n",
              "       'Event organiser', 'Operational researcher', 'Market researcher',\n",
              "       'Probation officer', 'Leisure centre manager',\n",
              "       'Corporate investment banker', 'Therapist, occupational',\n",
              "       'Call centre manager', 'Police officer',\n",
              "       'Education officer, museum', 'Physiotherapist', 'Network engineer',\n",
              "       'Forensic psychologist', 'Geochemist',\n",
              "       'Armed forces training and education officer',\n",
              "       'Designer, furniture', 'Optician, dispensing',\n",
              "       'Psychologist, forensic', 'Librarian, public', 'Fine artist',\n",
              "       'Scientist, research (maths)', 'Research officer, trade union',\n",
              "       'Tourism officer', 'Human resources officer', 'Surveyor, minerals',\n",
              "       'Applications developer', 'Video editor', 'Curator',\n",
              "       'Research officer, political party', 'Engineer, mining',\n",
              "       'Education officer, community', 'Physicist, medical',\n",
              "       'Amenity horticulturist', 'Electrical engineer',\n",
              "       'Television camera operator', 'Higher education careers adviser',\n",
              "       'Ambulance person', 'Dealer', 'Paediatric nurse',\n",
              "       'Trading standards officer', 'Engineer, technical sales',\n",
              "       'Designer, jewellery', 'Clinical biochemist',\n",
              "       'Engineer, electronics', 'Water engineer', 'Science writer',\n",
              "       'Film/video editor', 'Solicitor, Scotland',\n",
              "       'Product/process development scientist', 'Tree surgeon',\n",
              "       'Careers information officer', 'Geologist, engineering',\n",
              "       'Counsellor', 'Freight forwarder',\n",
              "       'Senior tax professional/tax inspector',\n",
              "       'Engineer, broadcasting (operations)',\n",
              "       'English as a second language teacher', 'Economist',\n",
              "       'Child psychotherapist', 'Claims inspector/assessor',\n",
              "       'Tourist information centre manager',\n",
              "       'Exhibitions officer, museum/gallery', 'Location manager',\n",
              "       'Engineer, biomedical', 'Research scientist (physical sciences)',\n",
              "       'Purchasing manager', 'Editor, magazine features',\n",
              "       'Operations geologist', 'Interpreter', 'Engineering geologist',\n",
              "       'Agricultural consultant', 'Paramedic', 'Financial adviser',\n",
              "       'Administrator, education', 'Educational psychologist',\n",
              "       'Financial trader', 'Audiological scientist',\n",
              "       'Scientist, audiological',\n",
              "       'Administrator, charities/voluntary organisations',\n",
              "       'Health service manager', 'Retail merchandiser',\n",
              "       'Telecommunications researcher', 'Exercise physiologist',\n",
              "       'Accounting technician', 'Product designer',\n",
              "       'Waste management officer', 'Mining engineer', 'Surgeon',\n",
              "       'Therapist, horticultural', 'Environmental consultant',\n",
              "       'Broadcast presenter', 'Producer, radio',\n",
              "       'Engineer, communications',\n",
              "       'Historic buildings inspector/conservation officer',\n",
              "       'Teacher, English as a foreign language', 'Materials engineer',\n",
              "       'Health visitor', 'Medical secretary', 'Theatre director',\n",
              "       'Technical brewer', 'Land/geomatics surveyor',\n",
              "       'Engineer, structural', 'Diagnostic radiographer',\n",
              "       'Television production assistant', 'Medical sales representative',\n",
              "       'Building control surveyor', 'Therapist, sports',\n",
              "       'Structural engineer', 'Commercial/residential surveyor',\n",
              "       'Database administrator', 'Exhibition designer',\n",
              "       'Training and development officer', 'Mechanical engineer',\n",
              "       'Medical physicist', 'Administrator', 'Mudlogger',\n",
              "       'Fisheries officer', 'Conservator, museum/gallery',\n",
              "       'Programmer, multimedia', 'Cytogeneticist',\n",
              "       'Multimedia programmer', 'Counselling psychologist', 'Chiropodist',\n",
              "       'Teacher, early years/pre', 'Cartographer', 'Pensions consultant',\n",
              "       'Primary school teacher', 'Electronics engineer',\n",
              "       'Museum/gallery exhibitions officer', 'Air broker',\n",
              "       'Chemical engineer', 'Advertising account executive',\n",
              "       'Advertising account planner',\n",
              "       'Chartered legal executive (England and Wales)',\n",
              "       'Psychiatric nurse', 'Secondary school teacher',\n",
              "       'Librarian, academic', 'Embryologist, clinical', 'Immunologist',\n",
              "       'Television floor manager', 'Contractor', 'Health physicist',\n",
              "       'Copy', 'Bookseller', 'Land', 'Chartered loss adjuster',\n",
              "       'Occupational psychologist', 'Facilities manager',\n",
              "       'Further education lecturer', 'Archivist', 'Investment analyst',\n",
              "       'Engineer, building services', 'Psychologist, sport and exercise',\n",
              "       'Journalist, newspaper', 'Doctor, hospital', 'Phytotherapist',\n",
              "       'Pharmacologist', 'Horticultural therapist', 'Hydrologist',\n",
              "       'Community arts worker', 'Public house manager', 'Architect',\n",
              "       'Lexicographer', 'Psychotherapist, child',\n",
              "       'Teacher, secondary school', 'Toxicologist',\n",
              "       'Commercial horticulturist', 'Podiatrist', 'Building surveyor',\n",
              "       'Architectural technologist', 'Editor, film/video',\n",
              "       'Social researcher', 'Wellsite geologist', 'Minerals surveyor',\n",
              "       'Designer, ceramics/pottery', 'Mental health nurse',\n",
              "       'Volunteer coordinator', 'Chief Technology Officer',\n",
              "       'Camera operator', 'Copywriter, advertising', 'Surveyor, mining',\n",
              "       'Product manager', \"Nurse, children's\", 'Pension scheme manager',\n",
              "       'Archaeologist', 'Sub', 'Designer, interior/spatial',\n",
              "       'Futures trader', 'Chief Financial Officer',\n",
              "       'Museum education officer', 'Quantity surveyor',\n",
              "       'Physiological scientist', 'Loss adjuster, chartered',\n",
              "       'Pilot, airline', 'Production assistant, radio',\n",
              "       'Immigration officer', 'Retail banker',\n",
              "       'Health and safety adviser', 'Teacher, special educational needs',\n",
              "       'Jewellery designer', 'Community pharmacist',\n",
              "       'Control and instrumentation engineer', 'Make',\n",
              "       'Early years teacher', 'Sales professional, IT',\n",
              "       'Scientist, marine', 'Intelligence analyst',\n",
              "       'Clinical research associate', 'Administrator, local government',\n",
              "       'Barrister', 'Engineer, control and instrumentation',\n",
              "       'Clothing/textile technologist', 'Development worker, community',\n",
              "       'Art therapist', 'Sales executive',\n",
              "       'Armed forces logistics/support/administrative officer',\n",
              "       'Optometrist', 'Insurance underwriter', 'Charity officer',\n",
              "       'Civil Service fast streamer', 'Retail buyer',\n",
              "       'Magazine features editor', 'Equities trader',\n",
              "       'Trade mark attorney', 'Research scientist (life sciences)',\n",
              "       'Psychotherapist', 'Pharmacist, community', 'Risk analyst',\n",
              "       'Engineer, maintenance', 'Logistics and distribution manager',\n",
              "       'Water quality scientist', 'Lecturer, further education',\n",
              "       'Production assistant, television', 'Tour manager',\n",
              "       'Music therapist', 'Surveyor, land/geomatics',\n",
              "       'Engineer, production', 'Acupuncturist', 'Hospital doctor',\n",
              "       'Teacher, primary school', 'Accountant, chartered public finance',\n",
              "       'Illustrator', 'Scientist, physiological', 'Buyer, industrial',\n",
              "       'Scientist, research (physical sciences)', 'Radio producer',\n",
              "       'Manufacturing engineer', 'Animal technologist',\n",
              "       'Production engineer', 'Biochemist, clinical',\n",
              "       'Engineer, manufacturing', 'Comptroller',\n",
              "       'General practice doctor', 'Designer, industrial/product',\n",
              "       'Prison officer', 'Merchandiser, retail', 'Engineer, drilling',\n",
              "       'Engineer, petroleum', 'Cabin crew', 'Commissioning editor',\n",
              "       'Accountant, chartered certified', 'Local government officer',\n",
              "       'Professor Emeritus', 'Press sub',\n",
              "       'Chartered public finance accountant', 'Writer',\n",
              "       'Chief Executive Officer', 'Occupational hygienist',\n",
              "       'Doctor, general practice', 'Community education officer',\n",
              "       'Landscape architect', 'Occupational therapist',\n",
              "       'Special effects artist', 'Civil engineer, contracting',\n",
              "       \"Barrister's clerk\", 'Travel agency manager',\n",
              "       'Associate Professor', 'Neurosurgeon', 'Plant breeder/geneticist',\n",
              "       'Radio broadcast assistant', 'Field seismologist',\n",
              "       'Industrial/product designer', 'Metallurgist',\n",
              "       \"Politician's assistant\", 'Insurance claims handler',\n",
              "       'Theme park manager', 'Gaffer', 'Chief Strategy Officer',\n",
              "       'Heritage manager', 'Ceramics designer', 'Animator',\n",
              "       'Oceanographer', 'Colour technologist', 'Engineer, agricultural',\n",
              "       'Therapist, drama', 'Orthoptist', 'Learning mentor',\n",
              "       'Arts development officer', 'Biomedical engineer',\n",
              "       'Race relations officer', 'Therapist, music', 'Retail manager',\n",
              "       'Furniture designer', 'Building services engineer',\n",
              "       'Maintenance engineer', 'Aid worker', 'Editor, commissioning',\n",
              "       'Private music teacher', 'Scientist, biomedical',\n",
              "       'Public relations account executive', 'Dispensing optician',\n",
              "       'Advice worker', 'Hydrographic surveyor', 'Geoscientist',\n",
              "       'Environmental health practitioner', 'Learning disability nurse',\n",
              "       'Chief Operating Officer', 'Scientific laboratory technician',\n",
              "       'Records manager', 'Barista', 'Marketing executive',\n",
              "       'Tax inspector', 'Musician', 'Therapist, art',\n",
              "       'Engineer, automotive', 'Clinical psychologist', 'Warden/ranger',\n",
              "       'Surveyor, rural practice', 'Sport and exercise psychologist',\n",
              "       'Education administrator', 'Chief of Staff',\n",
              "       'Nurse, mental health', 'Music tutor',\n",
              "       'Planning and development surveyor',\n",
              "       'Teaching laboratory technician', 'Chief Marketing Officer',\n",
              "       'Theatre manager', 'Quarry manager',\n",
              "       'Interior and spatial designer', 'Lecturer, higher education',\n",
              "       'Regulatory affairs officer', 'Secretary/administrator',\n",
              "       'Chemist, analytical', 'Designer, exhibition/display',\n",
              "       'Pharmacist, hospital', 'Site engineer',\n",
              "       'Equality and diversity officer', 'Public librarian',\n",
              "       'Town planner', 'Chartered accountant', 'Programmer, applications',\n",
              "       'Manufacturing systems engineer', 'Web designer',\n",
              "       'Community development worker', 'Animal nutritionist',\n",
              "       'Petroleum engineer', 'Information systems manager',\n",
              "       'Press photographer', 'Insurance risk surveyor', 'Soil scientist',\n",
              "       'Buyer, retail', 'Public relations officer',\n",
              "       'Health promotion specialist', 'Psychiatrist',\n",
              "       'Visual merchandiser', 'Rural practice surveyor', 'Hotel manager',\n",
              "       'Communications engineer', 'Insurance broker',\n",
              "       'Radiographer, therapeutic', 'Set designer', 'Tax adviser',\n",
              "       'Drilling engineer', 'Fitness centre manager', 'Farm manager',\n",
              "       'Management consultant', 'Energy manager',\n",
              "       'Museum/gallery conservator', 'Herbalist', 'Osteopath',\n",
              "       'Statistician', 'Hospital pharmacist', 'Estate manager/land agent',\n",
              "       'Sports development officer', 'Investment banker, corporate',\n",
              "       'Biomedical scientist', 'Television/film/video producer',\n",
              "       'Nutritional therapist', 'Company secretary', 'Production manager',\n",
              "       'Magazine journalist', 'Media buyer', 'Data scientist',\n",
              "       'Engineer, civil (contracting)', 'Herpetologist',\n",
              "       'Garment/textile technologist', 'Scientist, research (medical)',\n",
              "       'Civil Service administrator', 'Airline pilot', 'Textile designer',\n",
              "       'Environmental manager', 'Furniture conservator/restorer',\n",
              "       'Horticultural consultant', 'Firefighter',\n",
              "       'Geophysicist/field seismologist', 'Psychologist, clinical',\n",
              "       'Development worker, international aid', 'Sports administrator',\n",
              "       'IT consultant', 'Presenter, broadcasting',\n",
              "       'Outdoor activities/education manager', 'Field trials officer',\n",
              "       'Social research officer, government',\n",
              "       'English as a foreign language teacher',\n",
              "       'Restaurant manager, fast food', 'Hydrogeologist',\n",
              "       'Research scientist (medical)', 'Designer, television/film set',\n",
              "       'Geneticist, molecular', 'Designer, textile',\n",
              "       'Licensed conveyancer', 'Emergency planning/management officer',\n",
              "       'Geologist, wellsite', 'Air cabin crew', 'Seismic interpreter',\n",
              "       'Surveyor, hydrographic', 'Charity fundraiser', 'Stage manager',\n",
              "       'Aeronautical engineer', 'Glass blower/designer', 'Ecologist',\n",
              "       'Horticulturist, commercial', 'Research scientist (maths)',\n",
              "       'Engineer, aeronautical',\n",
              "       'Conservation officer, historic buildings', 'Art gallery manager',\n",
              "       'Advertising copywriter', 'Engineer, civil (consulting)',\n",
              "       'Oncologist', 'Engineer, materials',\n",
              "       'Scientist, clinical (histocompatibility and immunogenetics)',\n",
              "       'Investment banker, operational', 'Medical technical officer',\n",
              "       'Academic librarian', 'Artist', 'Clinical cytogeneticist',\n",
              "       'TEFL teacher', 'Administrator, arts', 'Teacher, adult education',\n",
              "       'Catering manager', 'Environmental education officer',\n",
              "       'Conservator, furniture', 'Analytical chemist',\n",
              "       'Broadcast engineer', 'Media planner', 'Lawyer',\n",
              "       'Producer, television/film/video'], dtype=object)"
            ]
          },
          "metadata": {},
          "execution_count": 577
        }
      ]
    },
    {
      "cell_type": "code",
      "source": [
        "df['dob'].unique()"
      ],
      "metadata": {
        "id": "OdW__VUhfupr",
        "colab": {
          "base_uri": "https://localhost:8080/"
        },
        "outputId": "67e48520-ab56-40c3-8405-a05926f407a2"
      },
      "execution_count": 578,
      "outputs": [
        {
          "output_type": "execute_result",
          "data": {
            "text/plain": [
              "array(['1988-03-09', '1978-06-21', '1962-01-19', '1967-01-12',\n",
              "       '1986-03-28', '1961-06-19', '1993-08-16', '1947-08-21',\n",
              "       '1941-03-07', '1974-03-28', '1990-07-13', '1966-02-14',\n",
              "       '1989-02-28', '1945-12-21', '1967-08-30', '1965-06-30',\n",
              "       '1952-07-06', '1938-03-15', '1946-02-02', '1980-12-21',\n",
              "       '1980-11-22', '1961-02-14', '1974-07-19', '1965-07-26',\n",
              "       '1946-01-02', '1962-08-13', '1971-11-05', '1967-08-02',\n",
              "       '1966-12-03', '1945-03-15', '1961-05-19', '1964-12-30',\n",
              "       '1964-04-22', '1977-02-22', '1970-07-20', '1984-06-04',\n",
              "       '1970-10-21', '1984-12-24', '1998-10-01', '1988-04-27',\n",
              "       '1987-07-18', '1971-10-14', '1987-04-23', '1942-01-06',\n",
              "       '1971-01-28', '1972-07-25', '1984-09-01', '1960-01-06',\n",
              "       '1986-11-06', '1954-01-05', '1970-09-27', '1994-02-09',\n",
              "       '1942-11-24', '1994-11-05', '1993-10-25', '1976-10-18',\n",
              "       '1981-02-15', '1974-03-13', '1926-07-12', '1966-12-21',\n",
              "       '1936-03-28', '1997-08-22', '1972-05-04', '1955-06-12',\n",
              "       '1990-08-13', '1967-02-04', '1974-06-21', '1962-11-11',\n",
              "       '1983-07-25', '1979-01-02', '2000-06-13', '1957-03-28',\n",
              "       '1955-01-05', '1976-02-26', '1982-01-07', '1935-09-08',\n",
              "       '1975-04-30', '1977-04-28', '1954-05-25', '1946-04-03',\n",
              "       '1975-07-31', '1998-03-19', '1974-12-23', '1995-07-12',\n",
              "       '1989-11-24', '1983-08-25', '1984-06-03', '1935-08-15',\n",
              "       '1995-04-19', '1976-09-08', '1946-08-24', '1971-08-20',\n",
              "       '1957-03-06', '1970-09-11', '1977-01-04', '1986-06-11',\n",
              "       '1989-04-08', '1986-06-20', '1980-12-16', '1978-07-08',\n",
              "       '1957-12-29', '1972-06-14', '1935-04-15', '1927-09-09',\n",
              "       '1928-10-01', '1950-08-19', '1958-06-26', '1926-09-14',\n",
              "       '1935-02-10', '1962-04-12', '1951-02-05', '1985-03-21',\n",
              "       '1990-05-03', '1945-09-20', '1961-01-21', '1972-11-28',\n",
              "       '1972-07-01', '1958-08-14', '1985-09-02', '2001-07-26',\n",
              "       '1929-05-06', '1960-06-14', '1954-06-14', '1977-10-19',\n",
              "       '1971-11-02', '1950-11-27', '1963-05-23', '1948-11-14',\n",
              "       '1966-11-10', '1990-10-15', '1963-04-22', '1954-12-10',\n",
              "       '1968-07-01', '1973-04-01', '1988-09-15', '1988-04-15',\n",
              "       '1959-09-27', '1999-06-06', '1985-01-01', '2003-05-07',\n",
              "       '1957-01-23', '1927-12-11', '1981-06-22', '1962-06-04',\n",
              "       '1990-06-25', '1960-01-16', '1954-07-15', '1984-07-03',\n",
              "       '1971-08-06', '1950-04-05', '1967-05-28', '1952-10-13',\n",
              "       '1983-10-14', '1969-03-02', '1968-10-06', '1931-01-26',\n",
              "       '1940-11-11', '1987-11-18', '1965-12-15', '1962-10-16',\n",
              "       '1981-07-05', '1934-03-19', '1989-07-17', '1992-05-09',\n",
              "       '1982-05-20', '1929-08-23', '1971-03-26', '1995-05-25',\n",
              "       '1997-06-04', '1951-12-04', '1967-05-27', '1939-09-19',\n",
              "       '1986-05-02', '1936-03-27', '1958-06-11', '1953-03-30',\n",
              "       '1997-03-12', '1963-12-29', '1957-04-17', '1998-10-07',\n",
              "       '1981-10-24', '1971-04-25', '1970-02-22', '1956-01-09',\n",
              "       '1968-06-18', '1969-10-30', '1995-10-17', '1978-01-15',\n",
              "       '1954-07-05', '1926-06-26', '1960-01-20', '1964-01-04',\n",
              "       '1945-08-19', '1934-10-06', '1974-10-27', '1951-11-08',\n",
              "       '1963-06-22', '1963-04-04', '1968-02-10', '1993-07-05',\n",
              "       '1978-03-06', '1980-05-18', '1970-11-12', '1977-06-07',\n",
              "       '1982-02-10', '1926-08-27', '1969-09-21', '1970-03-13',\n",
              "       '1974-03-10', '1939-11-09', '1986-12-13', '1958-04-06',\n",
              "       '1973-07-28', '1953-01-20', '1977-08-16', '2004-05-08',\n",
              "       '1992-01-20', '2005-01-29', '1974-02-15', '1972-05-23',\n",
              "       '1945-11-04', '1958-09-20', '1972-10-18', '1937-03-17',\n",
              "       '1961-10-24', '1983-07-24', '1955-05-06', '1951-01-15',\n",
              "       '1954-06-30', '1956-01-24', '1958-09-02', '1948-06-30',\n",
              "       '1969-07-24', '1954-08-22', '1961-09-10', '1980-08-18',\n",
              "       '1964-08-23', '1978-08-27', '1969-08-04', '1988-03-25',\n",
              "       '1979-06-24', '1985-04-15', '1973-05-07', '1975-07-07',\n",
              "       '1978-03-04', '1959-07-30', '1952-04-02', '1928-07-15',\n",
              "       '1980-09-15', '1956-09-15', '1986-12-17', '1969-11-22',\n",
              "       '1954-07-14', '1952-09-27', '1973-02-14', '1960-02-01',\n",
              "       '1942-04-03', '1933-03-15', '1964-02-13', '1963-02-09',\n",
              "       '1974-11-02', '1929-05-30', '1964-11-17', '1934-06-23',\n",
              "       '1960-04-03', '1987-05-19', '1955-07-25', '1976-09-17',\n",
              "       '1996-04-10', '1944-07-26', '1988-02-15', '1969-02-22',\n",
              "       '1993-04-08', '1970-06-09', '1991-03-13', '1964-08-08',\n",
              "       '1953-12-08', '1975-12-28', '1959-05-10', '1972-10-04',\n",
              "       '1997-07-05', '1990-11-23', '1962-09-27', '1975-07-13',\n",
              "       '1967-09-16', '1971-02-11', '1982-07-30', '1973-01-21',\n",
              "       '1993-10-12', '1964-02-15', '1969-11-01', '1973-05-16',\n",
              "       '1990-11-07', '1956-05-30', '1950-05-27', '1980-08-17',\n",
              "       '1974-10-15', '1961-01-31', '1973-06-09', '1969-12-22',\n",
              "       '1962-05-04', '1984-07-05', '1927-10-24', '1967-01-24',\n",
              "       '1976-03-26', '1983-06-23', '1990-01-24', '1965-04-13',\n",
              "       '1957-04-05', '1966-01-04', '1979-04-12', '1983-10-12',\n",
              "       '2001-06-22', '1991-10-13', '1993-11-17', '1974-11-20',\n",
              "       '1963-08-04', '1956-09-01', '1981-05-06', '1995-03-13',\n",
              "       '1976-09-29', '1958-01-01', '1979-12-11', '1976-05-16',\n",
              "       '1984-08-01', '1953-05-23', '1991-04-13', '1949-10-04',\n",
              "       '1958-10-29', '1955-11-07', '1973-10-19', '1968-06-24',\n",
              "       '1951-09-03', '1955-11-10', '1964-04-06', '1962-02-14',\n",
              "       '1991-10-04', '1976-06-15', '1962-04-05', '1999-09-11',\n",
              "       '1989-05-14', '1968-02-09', '1950-11-20', '1992-06-19',\n",
              "       '1936-11-05', '1966-09-16', '1954-01-06', '1987-09-26',\n",
              "       '1953-07-30', '1942-05-04', '1968-07-24', '1982-08-01',\n",
              "       '1963-06-13', '1993-05-14', '1986-03-14', '1969-09-15',\n",
              "       '1987-05-05', '1974-12-05', '1975-06-29', '1941-04-23',\n",
              "       '1948-05-01', '1961-09-03', '1986-04-28', '1943-05-28',\n",
              "       '1953-12-25', '1954-01-29', '1992-07-23', '1976-01-02',\n",
              "       '1941-10-16', '1972-04-18', '1993-11-02', '1991-06-05',\n",
              "       '1984-11-06', '1959-10-07', '1951-06-13', '1975-12-20',\n",
              "       '1960-01-13', '1991-01-28', '1970-03-14', '1961-04-25',\n",
              "       '1958-07-28', '1988-09-02', '1998-07-29', '1971-12-10',\n",
              "       '1973-07-13', '1999-10-25', '1958-10-26', '1967-06-20',\n",
              "       '1966-06-07', '1986-05-01', '1984-03-03', '1976-10-09',\n",
              "       '1955-01-20', '1956-10-08', '1965-04-27', '1999-11-30',\n",
              "       '1966-05-22', '1949-10-13', '1957-01-15', '1942-04-17',\n",
              "       '1941-11-16', '1995-07-08', '1983-02-08', '1961-04-22',\n",
              "       '1969-05-16', '1968-05-13', '1970-10-09', '1978-08-08',\n",
              "       '1968-11-22', '1960-11-19', '1976-06-30', '1952-03-08',\n",
              "       '1972-08-09', '1991-03-29', '1990-10-28', '1997-11-18',\n",
              "       '1952-01-29', '1992-11-27', '1987-09-19', '1985-12-27',\n",
              "       '1970-01-08', '1983-08-24', '1956-05-02', '1989-10-06',\n",
              "       '1965-09-15', '1979-07-03', '1986-01-30', '1968-05-16',\n",
              "       '1994-03-13', '1957-08-08', '1987-04-24', '1935-01-29',\n",
              "       '1941-03-30', '1978-01-22', '1982-07-02', '1959-05-28',\n",
              "       '1939-03-09', '1986-11-12', '1959-08-05', '1962-03-20',\n",
              "       '1985-08-29', '1980-03-18', '1990-11-09', '1974-05-18',\n",
              "       '1972-07-18', '1940-09-13', '1991-08-19', '1994-11-24',\n",
              "       '1974-12-24', '1981-08-29', '1988-09-19', '1973-02-07',\n",
              "       '1967-06-19', '1977-08-12', '1955-07-06', '1978-12-18',\n",
              "       '1965-11-11', '1946-08-30', '1949-03-20', '1986-07-23',\n",
              "       '1979-09-03', '1958-02-17', '1977-06-14', '1950-03-25',\n",
              "       '1957-11-12', '1994-04-22', '1982-02-08', '1974-09-14',\n",
              "       '1966-01-21', '1964-06-22', '1927-05-25', '1984-03-06',\n",
              "       '1973-05-27', '1938-09-08', '1987-02-22', '1971-08-05',\n",
              "       '1961-11-24', '1935-06-29', '1978-05-23', '1985-06-18',\n",
              "       '1976-11-21', '1957-08-30', '1953-04-19', '1999-12-27',\n",
              "       '1971-07-02', '1977-03-23', '1980-01-09', '1974-01-03',\n",
              "       '1992-10-07', '1988-10-26', '1980-07-12', '1930-08-13',\n",
              "       '1967-04-09', '1988-08-04', '1974-12-28', '1987-04-29',\n",
              "       '1956-06-22', '1983-06-14', '1985-05-25', '1986-03-31',\n",
              "       '1973-12-26', '1977-12-16', '1972-01-20', '1936-05-01',\n",
              "       '1976-09-12', '1966-02-21', '1991-05-01', '1989-03-09',\n",
              "       '1948-05-31', '1965-04-07', '1982-05-28', '1932-03-10',\n",
              "       '1946-11-01', '1993-02-26', '1943-06-30', '1990-06-08',\n",
              "       '1931-03-07', '2000-06-09', '1975-04-16', '1986-01-18',\n",
              "       '1981-08-10', '1987-01-27', '1989-10-28', '1978-09-30',\n",
              "       '1983-09-02', '1989-12-17', '1993-09-11', '1985-03-19',\n",
              "       '1979-04-30', '1962-02-13', '1946-08-11', '1985-12-03',\n",
              "       '1990-10-19', '1978-10-26', '1994-10-07', '1972-09-22',\n",
              "       '1973-11-14', '1960-03-01', '1995-12-28', '1937-02-01',\n",
              "       '1956-03-02', '1991-02-03', '1974-04-16', '1939-11-04',\n",
              "       '1997-01-02', '1979-01-21', '1966-02-13', '1983-06-12',\n",
              "       '1984-07-20', '1983-07-10', '2004-12-30', '1963-05-19',\n",
              "       '1993-10-07', '1983-06-13', '1999-03-05', '1993-10-05',\n",
              "       '1970-04-17', '1987-10-28', '1991-02-04', '1980-09-18',\n",
              "       '1986-02-17', '1988-07-28', '1974-05-30', '1984-02-14',\n",
              "       '1932-11-19', '1975-06-02', '1988-09-06', '1958-09-10',\n",
              "       '1978-10-05', '1989-02-08', '1949-11-17', '1994-11-12',\n",
              "       '1980-07-30', '2001-07-05', '1997-12-27', '1963-06-30',\n",
              "       '1940-08-23', '1933-04-02', '1949-11-16', '2003-09-14',\n",
              "       '1985-06-20', '1987-05-23', '1995-04-22', '1978-10-01',\n",
              "       '1966-08-08', '1986-11-24', '1982-02-11', '1992-07-24',\n",
              "       '1999-06-19', '1998-05-20', '1955-06-26', '1990-01-17',\n",
              "       '1987-07-25', '1961-12-14', '1990-12-18', '1959-06-28',\n",
              "       '1982-02-05', '1970-01-18', '1972-06-12', '1987-06-13',\n",
              "       '1992-10-03', '1973-05-04', '1988-01-04', '1943-12-15',\n",
              "       '1945-05-05', '1997-09-22', '1955-02-01', '1963-12-28',\n",
              "       '1978-12-25', '1960-08-05', '1965-03-25', '1998-02-03',\n",
              "       '1984-02-07', '1984-05-19', '1969-09-11', '1984-02-29',\n",
              "       '1994-07-27', '1964-02-18', '1991-10-22', '1995-08-16',\n",
              "       '1940-09-17', '1986-05-07', '1939-04-14', '1984-05-04',\n",
              "       '1941-07-31', '1995-11-29', '1960-03-12', '1955-04-03',\n",
              "       '2000-08-28', '1972-02-15', '1944-11-11', '2004-03-18',\n",
              "       '1986-12-31', '1991-04-11', '1995-09-11', '1986-04-15',\n",
              "       '1982-01-16', '1986-08-17', '1997-07-01', '1990-05-22',\n",
              "       '1960-12-13', '1977-06-12', '1969-01-14', '1985-08-31',\n",
              "       '1963-06-04', '1952-05-07', '1981-11-29', '1952-12-07',\n",
              "       '1959-06-06', '1987-09-08', '1993-11-24', '1993-05-10',\n",
              "       '1995-01-15', '1936-07-22', '1967-05-05', '1996-11-12',\n",
              "       '1957-04-25', '1977-07-17', '1973-04-06', '1968-03-19',\n",
              "       '1989-07-08', '1955-01-13', '1998-03-18', '1994-03-01',\n",
              "       '1994-02-16', '1990-02-25', '1992-12-29', '1988-11-01',\n",
              "       '1976-04-11', '1968-03-24', '1990-04-25', '1985-08-21',\n",
              "       '1978-11-30', '1930-10-21', '1992-11-20', '1970-11-09',\n",
              "       '1949-04-24', '1987-02-14', '1993-03-23', '1972-01-03',\n",
              "       '1965-04-01', '1973-10-14', '1972-09-12', '1991-01-01',\n",
              "       '1987-02-13', '1995-12-04', '1976-01-10', '1997-12-26',\n",
              "       '1961-05-13', '1984-12-16', '1973-09-22', '1988-03-21',\n",
              "       '1963-07-14', '1948-11-30', '1967-08-24', '1962-04-30',\n",
              "       '1968-05-29', '1966-09-19', '1980-03-24', '1947-07-15',\n",
              "       '1972-10-05', '1976-12-10', '1962-05-13', '1962-06-27',\n",
              "       '1962-11-18', '1956-05-15', '1972-03-05', '1956-12-13',\n",
              "       '1979-12-27', '1982-12-27', '1985-05-13', '1953-04-13',\n",
              "       '1985-12-08', '1985-07-08', '1975-10-11', '1991-04-22',\n",
              "       '1997-10-23', '1970-06-27', '1999-05-31', '1961-12-05',\n",
              "       '1971-10-19', '1945-11-26', '1987-10-26', '1968-01-28',\n",
              "       '1962-03-04', '1971-09-01', '1943-12-17', '1976-12-14',\n",
              "       '1979-10-22', '1968-09-19', '1939-06-01', '1975-11-30',\n",
              "       '1985-04-03', '1995-10-10', '1999-09-01', '1991-07-06',\n",
              "       '1985-03-31', '1972-12-31', '1929-03-19', '1989-12-10',\n",
              "       '1994-05-31', '1972-01-05', '1987-08-16', '1944-05-14',\n",
              "       '1949-06-09', '2000-02-20', '1985-04-04', '1972-03-28',\n",
              "       '1957-12-26', '1932-09-17', '1979-08-14', '1967-10-18',\n",
              "       '1969-05-01', '1967-03-17', '1982-04-19', '1950-09-15',\n",
              "       '1976-04-12', '1991-01-31', '1981-01-06', '1975-01-26',\n",
              "       '1993-05-27', '2004-06-19', '1967-10-04', '1993-09-29',\n",
              "       '1970-11-20', '1950-04-17', '1953-03-19', '1967-03-30',\n",
              "       '1993-04-29', '1948-04-11', '1929-04-22', '1997-11-23',\n",
              "       '1976-01-15', '1960-04-08', '1930-02-28', '1945-12-07',\n",
              "       '1960-10-28', '1979-01-26', '1985-09-01', '1961-12-18',\n",
              "       '2000-08-16', '1969-11-20', '1971-12-12', '1966-05-10',\n",
              "       '1949-08-14', '1979-01-08', '1946-03-21', '1965-02-03',\n",
              "       '1983-03-20', '1954-07-21', '1987-10-27', '1981-03-29',\n",
              "       '1928-04-02', '1981-03-04', '1952-12-05', '1997-08-04',\n",
              "       '1947-10-27', '1953-10-18', '1967-03-12', '1948-09-07',\n",
              "       '1966-06-24', '1956-09-14', '1965-11-06', '1972-09-13',\n",
              "       '1983-11-10', '1992-10-08', '1994-07-09', '1984-09-13',\n",
              "       '1966-06-19', '1967-09-30', '1990-06-21', '1994-12-08',\n",
              "       '1990-09-12', '1966-05-29', '1995-08-30', '1982-06-27',\n",
              "       '1978-10-04', '1959-03-31', '1975-09-11', '1977-05-18',\n",
              "       '1991-08-21', '1999-06-28', '1975-12-24', '1931-09-12',\n",
              "       '1947-08-14', '1962-03-19', '1962-12-06', '1961-09-28',\n",
              "       '1987-02-26', '1955-12-04', '1934-02-09', '1986-04-03',\n",
              "       '1964-03-15', '1969-03-20', '1948-03-22', '1966-12-15',\n",
              "       '1933-03-01', '1987-09-22', '1981-01-26', '1959-01-15',\n",
              "       '2001-12-19', '1982-02-19', '1928-06-26', '1964-03-16',\n",
              "       '1964-06-25', '1965-09-27', '1971-01-19', '1976-05-24',\n",
              "       '1927-08-25', '1973-10-09', '1975-06-25', '1988-04-09',\n",
              "       '1975-06-01', '1942-04-02', '1981-02-18', '1964-08-18',\n",
              "       '1967-09-23', '1969-12-12', '1929-04-07', '1940-09-06',\n",
              "       '1937-02-06', '1990-01-13', '1990-06-13', '1986-10-17',\n",
              "       '1984-08-31', '1950-12-14', '1969-09-08', '1989-08-16',\n",
              "       '1956-05-01', '1961-11-07', '1959-06-18', '1997-01-18',\n",
              "       '1975-10-07', '1924-10-30', '1959-10-19', '1952-05-26',\n",
              "       '1967-10-28', '1996-01-11', '1983-01-21', '1971-11-26',\n",
              "       '1959-05-30', '2001-07-10', '1985-01-02', '1972-08-15',\n",
              "       '1965-11-21', '1963-09-11', '1983-01-08', '1961-07-31',\n",
              "       '1972-07-29', '1961-09-13', '1957-06-12', '1987-11-30',\n",
              "       '1967-08-28', '1951-03-31', '1989-10-19'], dtype=object)"
            ]
          },
          "metadata": {},
          "execution_count": 578
        }
      ]
    },
    {
      "cell_type": "code",
      "source": [
        "df.columns"
      ],
      "metadata": {
        "id": "L0xFf4MTkFff",
        "colab": {
          "base_uri": "https://localhost:8080/"
        },
        "outputId": "0e2ac3ca-2b7d-41b3-b341-51a4bab3890b"
      },
      "execution_count": 579,
      "outputs": [
        {
          "output_type": "execute_result",
          "data": {
            "text/plain": [
              "Index(['Unnamed: 0', 'trans_date_trans_time', 'cc_num', 'merchant', 'category',\n",
              "       'amt', 'first', 'last', 'gender', 'street', 'city', 'state', 'zip',\n",
              "       'lat', 'long', 'city_pop', 'job', 'dob', 'trans_num', 'unix_time',\n",
              "       'merch_lat', 'merch_long', 'is_fraud'],\n",
              "      dtype='object')"
            ]
          },
          "metadata": {},
          "execution_count": 579
        }
      ]
    },
    {
      "cell_type": "code",
      "source": [
        "x = df.drop(['Unnamed: 0','trans_date_trans_time','cc_num', 'merchant', 'category','first', 'last', 'street', 'city', 'state', 'zip',\n",
        "             'city_pop', 'job', 'dob', 'trans_num','merch_long','merch_lat','unix_time','is_fraud'],axis=1,inplace=False)\n",
        "y = df['is_fraud']"
      ],
      "metadata": {
        "id": "3P_RBAmBm5Tb"
      },
      "execution_count": 580,
      "outputs": []
    },
    {
      "cell_type": "code",
      "source": [
        "x.head()"
      ],
      "metadata": {
        "id": "gqG9-9G_nOfC",
        "colab": {
          "base_uri": "https://localhost:8080/",
          "height": 206
        },
        "outputId": "082f5249-07a1-4c2f-a1fa-ef0b7856194f"
      },
      "execution_count": 581,
      "outputs": [
        {
          "output_type": "execute_result",
          "data": {
            "text/plain": [
              "      amt  gender      lat      long\n",
              "0    4.97       0  36.0788  -81.1781\n",
              "1  107.23       0  48.8878 -118.2105\n",
              "2  220.11       1  42.1808 -112.2620\n",
              "3   45.00       1  46.2306 -112.1138\n",
              "4   41.96       1  38.4207  -79.4629"
            ],
            "text/html": [
              "\n",
              "  <div id=\"df-a6587c34-f7e6-4173-9da3-3737e0618de9\" class=\"colab-df-container\">\n",
              "    <div>\n",
              "<style scoped>\n",
              "    .dataframe tbody tr th:only-of-type {\n",
              "        vertical-align: middle;\n",
              "    }\n",
              "\n",
              "    .dataframe tbody tr th {\n",
              "        vertical-align: top;\n",
              "    }\n",
              "\n",
              "    .dataframe thead th {\n",
              "        text-align: right;\n",
              "    }\n",
              "</style>\n",
              "<table border=\"1\" class=\"dataframe\">\n",
              "  <thead>\n",
              "    <tr style=\"text-align: right;\">\n",
              "      <th></th>\n",
              "      <th>amt</th>\n",
              "      <th>gender</th>\n",
              "      <th>lat</th>\n",
              "      <th>long</th>\n",
              "    </tr>\n",
              "  </thead>\n",
              "  <tbody>\n",
              "    <tr>\n",
              "      <th>0</th>\n",
              "      <td>4.97</td>\n",
              "      <td>0</td>\n",
              "      <td>36.0788</td>\n",
              "      <td>-81.1781</td>\n",
              "    </tr>\n",
              "    <tr>\n",
              "      <th>1</th>\n",
              "      <td>107.23</td>\n",
              "      <td>0</td>\n",
              "      <td>48.8878</td>\n",
              "      <td>-118.2105</td>\n",
              "    </tr>\n",
              "    <tr>\n",
              "      <th>2</th>\n",
              "      <td>220.11</td>\n",
              "      <td>1</td>\n",
              "      <td>42.1808</td>\n",
              "      <td>-112.2620</td>\n",
              "    </tr>\n",
              "    <tr>\n",
              "      <th>3</th>\n",
              "      <td>45.00</td>\n",
              "      <td>1</td>\n",
              "      <td>46.2306</td>\n",
              "      <td>-112.1138</td>\n",
              "    </tr>\n",
              "    <tr>\n",
              "      <th>4</th>\n",
              "      <td>41.96</td>\n",
              "      <td>1</td>\n",
              "      <td>38.4207</td>\n",
              "      <td>-79.4629</td>\n",
              "    </tr>\n",
              "  </tbody>\n",
              "</table>\n",
              "</div>\n",
              "    <div class=\"colab-df-buttons\">\n",
              "\n",
              "  <div class=\"colab-df-container\">\n",
              "    <button class=\"colab-df-convert\" onclick=\"convertToInteractive('df-a6587c34-f7e6-4173-9da3-3737e0618de9')\"\n",
              "            title=\"Convert this dataframe to an interactive table.\"\n",
              "            style=\"display:none;\">\n",
              "\n",
              "  <svg xmlns=\"http://www.w3.org/2000/svg\" height=\"24px\" viewBox=\"0 -960 960 960\">\n",
              "    <path d=\"M120-120v-720h720v720H120Zm60-500h600v-160H180v160Zm220 220h160v-160H400v160Zm0 220h160v-160H400v160ZM180-400h160v-160H180v160Zm440 0h160v-160H620v160ZM180-180h160v-160H180v160Zm440 0h160v-160H620v160Z\"/>\n",
              "  </svg>\n",
              "    </button>\n",
              "\n",
              "  <style>\n",
              "    .colab-df-container {\n",
              "      display:flex;\n",
              "      gap: 12px;\n",
              "    }\n",
              "\n",
              "    .colab-df-convert {\n",
              "      background-color: #E8F0FE;\n",
              "      border: none;\n",
              "      border-radius: 50%;\n",
              "      cursor: pointer;\n",
              "      display: none;\n",
              "      fill: #1967D2;\n",
              "      height: 32px;\n",
              "      padding: 0 0 0 0;\n",
              "      width: 32px;\n",
              "    }\n",
              "\n",
              "    .colab-df-convert:hover {\n",
              "      background-color: #E2EBFA;\n",
              "      box-shadow: 0px 1px 2px rgba(60, 64, 67, 0.3), 0px 1px 3px 1px rgba(60, 64, 67, 0.15);\n",
              "      fill: #174EA6;\n",
              "    }\n",
              "\n",
              "    .colab-df-buttons div {\n",
              "      margin-bottom: 4px;\n",
              "    }\n",
              "\n",
              "    [theme=dark] .colab-df-convert {\n",
              "      background-color: #3B4455;\n",
              "      fill: #D2E3FC;\n",
              "    }\n",
              "\n",
              "    [theme=dark] .colab-df-convert:hover {\n",
              "      background-color: #434B5C;\n",
              "      box-shadow: 0px 1px 3px 1px rgba(0, 0, 0, 0.15);\n",
              "      filter: drop-shadow(0px 1px 2px rgba(0, 0, 0, 0.3));\n",
              "      fill: #FFFFFF;\n",
              "    }\n",
              "  </style>\n",
              "\n",
              "    <script>\n",
              "      const buttonEl =\n",
              "        document.querySelector('#df-a6587c34-f7e6-4173-9da3-3737e0618de9 button.colab-df-convert');\n",
              "      buttonEl.style.display =\n",
              "        google.colab.kernel.accessAllowed ? 'block' : 'none';\n",
              "\n",
              "      async function convertToInteractive(key) {\n",
              "        const element = document.querySelector('#df-a6587c34-f7e6-4173-9da3-3737e0618de9');\n",
              "        const dataTable =\n",
              "          await google.colab.kernel.invokeFunction('convertToInteractive',\n",
              "                                                    [key], {});\n",
              "        if (!dataTable) return;\n",
              "\n",
              "        const docLinkHtml = 'Like what you see? Visit the ' +\n",
              "          '<a target=\"_blank\" href=https://colab.research.google.com/notebooks/data_table.ipynb>data table notebook</a>'\n",
              "          + ' to learn more about interactive tables.';\n",
              "        element.innerHTML = '';\n",
              "        dataTable['output_type'] = 'display_data';\n",
              "        await google.colab.output.renderOutput(dataTable, element);\n",
              "        const docLink = document.createElement('div');\n",
              "        docLink.innerHTML = docLinkHtml;\n",
              "        element.appendChild(docLink);\n",
              "      }\n",
              "    </script>\n",
              "  </div>\n",
              "\n",
              "\n",
              "<div id=\"df-6855cbc8-d86e-4b4b-81ae-f6c46517439a\">\n",
              "  <button class=\"colab-df-quickchart\" onclick=\"quickchart('df-6855cbc8-d86e-4b4b-81ae-f6c46517439a')\"\n",
              "            title=\"Suggest charts.\"\n",
              "            style=\"display:none;\">\n",
              "\n",
              "<svg xmlns=\"http://www.w3.org/2000/svg\" height=\"24px\"viewBox=\"0 0 24 24\"\n",
              "     width=\"24px\">\n",
              "    <g>\n",
              "        <path d=\"M19 3H5c-1.1 0-2 .9-2 2v14c0 1.1.9 2 2 2h14c1.1 0 2-.9 2-2V5c0-1.1-.9-2-2-2zM9 17H7v-7h2v7zm4 0h-2V7h2v10zm4 0h-2v-4h2v4z\"/>\n",
              "    </g>\n",
              "</svg>\n",
              "  </button>\n",
              "\n",
              "<style>\n",
              "  .colab-df-quickchart {\n",
              "      --bg-color: #E8F0FE;\n",
              "      --fill-color: #1967D2;\n",
              "      --hover-bg-color: #E2EBFA;\n",
              "      --hover-fill-color: #174EA6;\n",
              "      --disabled-fill-color: #AAA;\n",
              "      --disabled-bg-color: #DDD;\n",
              "  }\n",
              "\n",
              "  [theme=dark] .colab-df-quickchart {\n",
              "      --bg-color: #3B4455;\n",
              "      --fill-color: #D2E3FC;\n",
              "      --hover-bg-color: #434B5C;\n",
              "      --hover-fill-color: #FFFFFF;\n",
              "      --disabled-bg-color: #3B4455;\n",
              "      --disabled-fill-color: #666;\n",
              "  }\n",
              "\n",
              "  .colab-df-quickchart {\n",
              "    background-color: var(--bg-color);\n",
              "    border: none;\n",
              "    border-radius: 50%;\n",
              "    cursor: pointer;\n",
              "    display: none;\n",
              "    fill: var(--fill-color);\n",
              "    height: 32px;\n",
              "    padding: 0;\n",
              "    width: 32px;\n",
              "  }\n",
              "\n",
              "  .colab-df-quickchart:hover {\n",
              "    background-color: var(--hover-bg-color);\n",
              "    box-shadow: 0 1px 2px rgba(60, 64, 67, 0.3), 0 1px 3px 1px rgba(60, 64, 67, 0.15);\n",
              "    fill: var(--button-hover-fill-color);\n",
              "  }\n",
              "\n",
              "  .colab-df-quickchart-complete:disabled,\n",
              "  .colab-df-quickchart-complete:disabled:hover {\n",
              "    background-color: var(--disabled-bg-color);\n",
              "    fill: var(--disabled-fill-color);\n",
              "    box-shadow: none;\n",
              "  }\n",
              "\n",
              "  .colab-df-spinner {\n",
              "    border: 2px solid var(--fill-color);\n",
              "    border-color: transparent;\n",
              "    border-bottom-color: var(--fill-color);\n",
              "    animation:\n",
              "      spin 1s steps(1) infinite;\n",
              "  }\n",
              "\n",
              "  @keyframes spin {\n",
              "    0% {\n",
              "      border-color: transparent;\n",
              "      border-bottom-color: var(--fill-color);\n",
              "      border-left-color: var(--fill-color);\n",
              "    }\n",
              "    20% {\n",
              "      border-color: transparent;\n",
              "      border-left-color: var(--fill-color);\n",
              "      border-top-color: var(--fill-color);\n",
              "    }\n",
              "    30% {\n",
              "      border-color: transparent;\n",
              "      border-left-color: var(--fill-color);\n",
              "      border-top-color: var(--fill-color);\n",
              "      border-right-color: var(--fill-color);\n",
              "    }\n",
              "    40% {\n",
              "      border-color: transparent;\n",
              "      border-right-color: var(--fill-color);\n",
              "      border-top-color: var(--fill-color);\n",
              "    }\n",
              "    60% {\n",
              "      border-color: transparent;\n",
              "      border-right-color: var(--fill-color);\n",
              "    }\n",
              "    80% {\n",
              "      border-color: transparent;\n",
              "      border-right-color: var(--fill-color);\n",
              "      border-bottom-color: var(--fill-color);\n",
              "    }\n",
              "    90% {\n",
              "      border-color: transparent;\n",
              "      border-bottom-color: var(--fill-color);\n",
              "    }\n",
              "  }\n",
              "</style>\n",
              "\n",
              "  <script>\n",
              "    async function quickchart(key) {\n",
              "      const quickchartButtonEl =\n",
              "        document.querySelector('#' + key + ' button');\n",
              "      quickchartButtonEl.disabled = true;  // To prevent multiple clicks.\n",
              "      quickchartButtonEl.classList.add('colab-df-spinner');\n",
              "      try {\n",
              "        const charts = await google.colab.kernel.invokeFunction(\n",
              "            'suggestCharts', [key], {});\n",
              "      } catch (error) {\n",
              "        console.error('Error during call to suggestCharts:', error);\n",
              "      }\n",
              "      quickchartButtonEl.classList.remove('colab-df-spinner');\n",
              "      quickchartButtonEl.classList.add('colab-df-quickchart-complete');\n",
              "    }\n",
              "    (() => {\n",
              "      let quickchartButtonEl =\n",
              "        document.querySelector('#df-6855cbc8-d86e-4b4b-81ae-f6c46517439a button');\n",
              "      quickchartButtonEl.style.display =\n",
              "        google.colab.kernel.accessAllowed ? 'block' : 'none';\n",
              "    })();\n",
              "  </script>\n",
              "</div>\n",
              "    </div>\n",
              "  </div>\n"
            ]
          },
          "metadata": {},
          "execution_count": 581
        }
      ]
    },
    {
      "cell_type": "code",
      "source": [
        "y.head()"
      ],
      "metadata": {
        "id": "GaAOpLp_kABg",
        "colab": {
          "base_uri": "https://localhost:8080/"
        },
        "outputId": "130125e9-0426-4d35-db08-6b3ebdee66db"
      },
      "execution_count": 582,
      "outputs": [
        {
          "output_type": "execute_result",
          "data": {
            "text/plain": [
              "0    0.0\n",
              "1    0.0\n",
              "2    0.0\n",
              "3    0.0\n",
              "4    0.0\n",
              "Name: is_fraud, dtype: float64"
            ]
          },
          "metadata": {},
          "execution_count": 582
        }
      ]
    },
    {
      "cell_type": "markdown",
      "source": [
        "**Checking if data is balanced or not**"
      ],
      "metadata": {
        "id": "WVGrvYeEEKLT"
      }
    },
    {
      "cell_type": "code",
      "source": [
        "y.value_counts()"
      ],
      "metadata": {
        "id": "aJhdR54XnQF7",
        "colab": {
          "base_uri": "https://localhost:8080/"
        },
        "outputId": "fa6f4a37-7575-47c5-e5a7-109922432dbf"
      },
      "execution_count": 583,
      "outputs": [
        {
          "output_type": "execute_result",
          "data": {
            "text/plain": [
              "0.0    34687\n",
              "1.0      353\n",
              "Name: is_fraud, dtype: int64"
            ]
          },
          "metadata": {},
          "execution_count": 583
        }
      ]
    },
    {
      "cell_type": "code",
      "source": [
        "y.isnull().sum()"
      ],
      "metadata": {
        "id": "ovGLsq5YkSOH",
        "colab": {
          "base_uri": "https://localhost:8080/"
        },
        "outputId": "fe65051b-b962-452d-c074-34349c02f356"
      },
      "execution_count": 584,
      "outputs": [
        {
          "output_type": "execute_result",
          "data": {
            "text/plain": [
              "1"
            ]
          },
          "metadata": {},
          "execution_count": 584
        }
      ]
    },
    {
      "cell_type": "code",
      "source": [
        "mean = y.mean()\n",
        "y.fillna(value=mean, inplace=True)"
      ],
      "metadata": {
        "id": "wX-8g3w0kV_B"
      },
      "execution_count": 585,
      "outputs": []
    },
    {
      "cell_type": "code",
      "source": [
        "y.isnull().sum()"
      ],
      "metadata": {
        "id": "1C2kc_0HkcTd",
        "colab": {
          "base_uri": "https://localhost:8080/"
        },
        "outputId": "9a49544c-ee0d-43fb-b495-e5ceaa9b9c73"
      },
      "execution_count": 586,
      "outputs": [
        {
          "output_type": "execute_result",
          "data": {
            "text/plain": [
              "0"
            ]
          },
          "metadata": {},
          "execution_count": 586
        }
      ]
    },
    {
      "cell_type": "code",
      "source": [
        "y = y.astype('int')"
      ],
      "metadata": {
        "id": "q_ZIzvD5k-_n"
      },
      "execution_count": 587,
      "outputs": []
    },
    {
      "cell_type": "code",
      "source": [
        "x.isnull().sum()"
      ],
      "metadata": {
        "id": "kZAD67OolqHz",
        "colab": {
          "base_uri": "https://localhost:8080/"
        },
        "outputId": "ab785680-035c-43e4-db14-a14aea8e7b77"
      },
      "execution_count": 588,
      "outputs": [
        {
          "output_type": "execute_result",
          "data": {
            "text/plain": [
              "amt       0\n",
              "gender    0\n",
              "lat       0\n",
              "long      0\n",
              "dtype: int64"
            ]
          },
          "metadata": {},
          "execution_count": 588
        }
      ]
    },
    {
      "cell_type": "code",
      "source": [
        "mean2 = x['long'].mean()\n",
        "x['long'].fillna(value=mean2, inplace=True)"
      ],
      "metadata": {
        "id": "P9q-9--ilxC6"
      },
      "execution_count": 589,
      "outputs": []
    },
    {
      "cell_type": "code",
      "source": [
        "x.isnull().sum()"
      ],
      "metadata": {
        "id": "pRILuDhsl4J0",
        "colab": {
          "base_uri": "https://localhost:8080/"
        },
        "outputId": "c7d213a1-afbf-4b46-830d-fabcada05bb5"
      },
      "execution_count": 590,
      "outputs": [
        {
          "output_type": "execute_result",
          "data": {
            "text/plain": [
              "amt       0\n",
              "gender    0\n",
              "lat       0\n",
              "long      0\n",
              "dtype: int64"
            ]
          },
          "metadata": {},
          "execution_count": 590
        }
      ]
    },
    {
      "cell_type": "markdown",
      "source": [
        "**Solving the problem of unbalanced data by over sampling**"
      ],
      "metadata": {
        "id": "zv1LbWi2jcVY"
      }
    },
    {
      "cell_type": "code",
      "source": [
        "x_sampled , y_sampled = SMOTE().fit_resample(x,y)"
      ],
      "metadata": {
        "id": "hrsRYnpwjnfY"
      },
      "execution_count": 591,
      "outputs": []
    },
    {
      "cell_type": "code",
      "source": [
        "y_sampled.value_counts()"
      ],
      "metadata": {
        "id": "EUbmwRrpmhL1",
        "colab": {
          "base_uri": "https://localhost:8080/"
        },
        "outputId": "7e3cdc6d-baed-468a-e691-09b475431b02"
      },
      "execution_count": 592,
      "outputs": [
        {
          "output_type": "execute_result",
          "data": {
            "text/plain": [
              "0    34688\n",
              "1    34688\n",
              "Name: is_fraud, dtype: int64"
            ]
          },
          "metadata": {},
          "execution_count": 592
        }
      ]
    },
    {
      "cell_type": "code",
      "source": [
        "x_sampled.shape"
      ],
      "metadata": {
        "id": "WgofvcJ5m4Bn",
        "colab": {
          "base_uri": "https://localhost:8080/"
        },
        "outputId": "83cad9cb-f55c-4ebd-94a9-3ef3adb44c5f"
      },
      "execution_count": 593,
      "outputs": [
        {
          "output_type": "execute_result",
          "data": {
            "text/plain": [
              "(69376, 4)"
            ]
          },
          "metadata": {},
          "execution_count": 593
        }
      ]
    },
    {
      "cell_type": "code",
      "source": [
        "y_sampled.shape"
      ],
      "metadata": {
        "id": "_pZz84J6m8h6",
        "colab": {
          "base_uri": "https://localhost:8080/"
        },
        "outputId": "b44e6470-4f26-4908-e96b-ad63761e3dda"
      },
      "execution_count": 594,
      "outputs": [
        {
          "output_type": "execute_result",
          "data": {
            "text/plain": [
              "(69376,)"
            ]
          },
          "metadata": {},
          "execution_count": 594
        }
      ]
    },
    {
      "cell_type": "code",
      "source": [
        "x_sampled.describe()"
      ],
      "metadata": {
        "id": "mJi2joOQnJ8i",
        "colab": {
          "base_uri": "https://localhost:8080/",
          "height": 300
        },
        "outputId": "20ca76ba-926f-4ccc-ec35-42585a1e3c89"
      },
      "execution_count": 595,
      "outputs": [
        {
          "output_type": "execute_result",
          "data": {
            "text/plain": [
              "                amt        gender           lat          long\n",
              "count  69376.000000  69376.000000  69376.000000  69376.000000\n",
              "mean     295.158008      0.350597     39.240218    -88.794530\n",
              "std      369.946829      0.477160      5.504912     16.249350\n",
              "min        1.000000      0.000000     20.027100   -165.672300\n",
              "25%       20.660000      0.000000     36.115000    -95.959600\n",
              "50%       90.785000      0.000000     39.888200    -83.484500\n",
              "75%      379.139815      1.000000     41.954532    -78.235052\n",
              "max    11872.210000      1.000000     65.689900    -67.950300"
            ],
            "text/html": [
              "\n",
              "  <div id=\"df-857b5147-17c8-4ec4-b71a-b775bd5ce879\" class=\"colab-df-container\">\n",
              "    <div>\n",
              "<style scoped>\n",
              "    .dataframe tbody tr th:only-of-type {\n",
              "        vertical-align: middle;\n",
              "    }\n",
              "\n",
              "    .dataframe tbody tr th {\n",
              "        vertical-align: top;\n",
              "    }\n",
              "\n",
              "    .dataframe thead th {\n",
              "        text-align: right;\n",
              "    }\n",
              "</style>\n",
              "<table border=\"1\" class=\"dataframe\">\n",
              "  <thead>\n",
              "    <tr style=\"text-align: right;\">\n",
              "      <th></th>\n",
              "      <th>amt</th>\n",
              "      <th>gender</th>\n",
              "      <th>lat</th>\n",
              "      <th>long</th>\n",
              "    </tr>\n",
              "  </thead>\n",
              "  <tbody>\n",
              "    <tr>\n",
              "      <th>count</th>\n",
              "      <td>69376.000000</td>\n",
              "      <td>69376.000000</td>\n",
              "      <td>69376.000000</td>\n",
              "      <td>69376.000000</td>\n",
              "    </tr>\n",
              "    <tr>\n",
              "      <th>mean</th>\n",
              "      <td>295.158008</td>\n",
              "      <td>0.350597</td>\n",
              "      <td>39.240218</td>\n",
              "      <td>-88.794530</td>\n",
              "    </tr>\n",
              "    <tr>\n",
              "      <th>std</th>\n",
              "      <td>369.946829</td>\n",
              "      <td>0.477160</td>\n",
              "      <td>5.504912</td>\n",
              "      <td>16.249350</td>\n",
              "    </tr>\n",
              "    <tr>\n",
              "      <th>min</th>\n",
              "      <td>1.000000</td>\n",
              "      <td>0.000000</td>\n",
              "      <td>20.027100</td>\n",
              "      <td>-165.672300</td>\n",
              "    </tr>\n",
              "    <tr>\n",
              "      <th>25%</th>\n",
              "      <td>20.660000</td>\n",
              "      <td>0.000000</td>\n",
              "      <td>36.115000</td>\n",
              "      <td>-95.959600</td>\n",
              "    </tr>\n",
              "    <tr>\n",
              "      <th>50%</th>\n",
              "      <td>90.785000</td>\n",
              "      <td>0.000000</td>\n",
              "      <td>39.888200</td>\n",
              "      <td>-83.484500</td>\n",
              "    </tr>\n",
              "    <tr>\n",
              "      <th>75%</th>\n",
              "      <td>379.139815</td>\n",
              "      <td>1.000000</td>\n",
              "      <td>41.954532</td>\n",
              "      <td>-78.235052</td>\n",
              "    </tr>\n",
              "    <tr>\n",
              "      <th>max</th>\n",
              "      <td>11872.210000</td>\n",
              "      <td>1.000000</td>\n",
              "      <td>65.689900</td>\n",
              "      <td>-67.950300</td>\n",
              "    </tr>\n",
              "  </tbody>\n",
              "</table>\n",
              "</div>\n",
              "    <div class=\"colab-df-buttons\">\n",
              "\n",
              "  <div class=\"colab-df-container\">\n",
              "    <button class=\"colab-df-convert\" onclick=\"convertToInteractive('df-857b5147-17c8-4ec4-b71a-b775bd5ce879')\"\n",
              "            title=\"Convert this dataframe to an interactive table.\"\n",
              "            style=\"display:none;\">\n",
              "\n",
              "  <svg xmlns=\"http://www.w3.org/2000/svg\" height=\"24px\" viewBox=\"0 -960 960 960\">\n",
              "    <path d=\"M120-120v-720h720v720H120Zm60-500h600v-160H180v160Zm220 220h160v-160H400v160Zm0 220h160v-160H400v160ZM180-400h160v-160H180v160Zm440 0h160v-160H620v160ZM180-180h160v-160H180v160Zm440 0h160v-160H620v160Z\"/>\n",
              "  </svg>\n",
              "    </button>\n",
              "\n",
              "  <style>\n",
              "    .colab-df-container {\n",
              "      display:flex;\n",
              "      gap: 12px;\n",
              "    }\n",
              "\n",
              "    .colab-df-convert {\n",
              "      background-color: #E8F0FE;\n",
              "      border: none;\n",
              "      border-radius: 50%;\n",
              "      cursor: pointer;\n",
              "      display: none;\n",
              "      fill: #1967D2;\n",
              "      height: 32px;\n",
              "      padding: 0 0 0 0;\n",
              "      width: 32px;\n",
              "    }\n",
              "\n",
              "    .colab-df-convert:hover {\n",
              "      background-color: #E2EBFA;\n",
              "      box-shadow: 0px 1px 2px rgba(60, 64, 67, 0.3), 0px 1px 3px 1px rgba(60, 64, 67, 0.15);\n",
              "      fill: #174EA6;\n",
              "    }\n",
              "\n",
              "    .colab-df-buttons div {\n",
              "      margin-bottom: 4px;\n",
              "    }\n",
              "\n",
              "    [theme=dark] .colab-df-convert {\n",
              "      background-color: #3B4455;\n",
              "      fill: #D2E3FC;\n",
              "    }\n",
              "\n",
              "    [theme=dark] .colab-df-convert:hover {\n",
              "      background-color: #434B5C;\n",
              "      box-shadow: 0px 1px 3px 1px rgba(0, 0, 0, 0.15);\n",
              "      filter: drop-shadow(0px 1px 2px rgba(0, 0, 0, 0.3));\n",
              "      fill: #FFFFFF;\n",
              "    }\n",
              "  </style>\n",
              "\n",
              "    <script>\n",
              "      const buttonEl =\n",
              "        document.querySelector('#df-857b5147-17c8-4ec4-b71a-b775bd5ce879 button.colab-df-convert');\n",
              "      buttonEl.style.display =\n",
              "        google.colab.kernel.accessAllowed ? 'block' : 'none';\n",
              "\n",
              "      async function convertToInteractive(key) {\n",
              "        const element = document.querySelector('#df-857b5147-17c8-4ec4-b71a-b775bd5ce879');\n",
              "        const dataTable =\n",
              "          await google.colab.kernel.invokeFunction('convertToInteractive',\n",
              "                                                    [key], {});\n",
              "        if (!dataTable) return;\n",
              "\n",
              "        const docLinkHtml = 'Like what you see? Visit the ' +\n",
              "          '<a target=\"_blank\" href=https://colab.research.google.com/notebooks/data_table.ipynb>data table notebook</a>'\n",
              "          + ' to learn more about interactive tables.';\n",
              "        element.innerHTML = '';\n",
              "        dataTable['output_type'] = 'display_data';\n",
              "        await google.colab.output.renderOutput(dataTable, element);\n",
              "        const docLink = document.createElement('div');\n",
              "        docLink.innerHTML = docLinkHtml;\n",
              "        element.appendChild(docLink);\n",
              "      }\n",
              "    </script>\n",
              "  </div>\n",
              "\n",
              "\n",
              "<div id=\"df-1b6266bd-acb3-4f97-a26c-4c9b9be6663f\">\n",
              "  <button class=\"colab-df-quickchart\" onclick=\"quickchart('df-1b6266bd-acb3-4f97-a26c-4c9b9be6663f')\"\n",
              "            title=\"Suggest charts.\"\n",
              "            style=\"display:none;\">\n",
              "\n",
              "<svg xmlns=\"http://www.w3.org/2000/svg\" height=\"24px\"viewBox=\"0 0 24 24\"\n",
              "     width=\"24px\">\n",
              "    <g>\n",
              "        <path d=\"M19 3H5c-1.1 0-2 .9-2 2v14c0 1.1.9 2 2 2h14c1.1 0 2-.9 2-2V5c0-1.1-.9-2-2-2zM9 17H7v-7h2v7zm4 0h-2V7h2v10zm4 0h-2v-4h2v4z\"/>\n",
              "    </g>\n",
              "</svg>\n",
              "  </button>\n",
              "\n",
              "<style>\n",
              "  .colab-df-quickchart {\n",
              "      --bg-color: #E8F0FE;\n",
              "      --fill-color: #1967D2;\n",
              "      --hover-bg-color: #E2EBFA;\n",
              "      --hover-fill-color: #174EA6;\n",
              "      --disabled-fill-color: #AAA;\n",
              "      --disabled-bg-color: #DDD;\n",
              "  }\n",
              "\n",
              "  [theme=dark] .colab-df-quickchart {\n",
              "      --bg-color: #3B4455;\n",
              "      --fill-color: #D2E3FC;\n",
              "      --hover-bg-color: #434B5C;\n",
              "      --hover-fill-color: #FFFFFF;\n",
              "      --disabled-bg-color: #3B4455;\n",
              "      --disabled-fill-color: #666;\n",
              "  }\n",
              "\n",
              "  .colab-df-quickchart {\n",
              "    background-color: var(--bg-color);\n",
              "    border: none;\n",
              "    border-radius: 50%;\n",
              "    cursor: pointer;\n",
              "    display: none;\n",
              "    fill: var(--fill-color);\n",
              "    height: 32px;\n",
              "    padding: 0;\n",
              "    width: 32px;\n",
              "  }\n",
              "\n",
              "  .colab-df-quickchart:hover {\n",
              "    background-color: var(--hover-bg-color);\n",
              "    box-shadow: 0 1px 2px rgba(60, 64, 67, 0.3), 0 1px 3px 1px rgba(60, 64, 67, 0.15);\n",
              "    fill: var(--button-hover-fill-color);\n",
              "  }\n",
              "\n",
              "  .colab-df-quickchart-complete:disabled,\n",
              "  .colab-df-quickchart-complete:disabled:hover {\n",
              "    background-color: var(--disabled-bg-color);\n",
              "    fill: var(--disabled-fill-color);\n",
              "    box-shadow: none;\n",
              "  }\n",
              "\n",
              "  .colab-df-spinner {\n",
              "    border: 2px solid var(--fill-color);\n",
              "    border-color: transparent;\n",
              "    border-bottom-color: var(--fill-color);\n",
              "    animation:\n",
              "      spin 1s steps(1) infinite;\n",
              "  }\n",
              "\n",
              "  @keyframes spin {\n",
              "    0% {\n",
              "      border-color: transparent;\n",
              "      border-bottom-color: var(--fill-color);\n",
              "      border-left-color: var(--fill-color);\n",
              "    }\n",
              "    20% {\n",
              "      border-color: transparent;\n",
              "      border-left-color: var(--fill-color);\n",
              "      border-top-color: var(--fill-color);\n",
              "    }\n",
              "    30% {\n",
              "      border-color: transparent;\n",
              "      border-left-color: var(--fill-color);\n",
              "      border-top-color: var(--fill-color);\n",
              "      border-right-color: var(--fill-color);\n",
              "    }\n",
              "    40% {\n",
              "      border-color: transparent;\n",
              "      border-right-color: var(--fill-color);\n",
              "      border-top-color: var(--fill-color);\n",
              "    }\n",
              "    60% {\n",
              "      border-color: transparent;\n",
              "      border-right-color: var(--fill-color);\n",
              "    }\n",
              "    80% {\n",
              "      border-color: transparent;\n",
              "      border-right-color: var(--fill-color);\n",
              "      border-bottom-color: var(--fill-color);\n",
              "    }\n",
              "    90% {\n",
              "      border-color: transparent;\n",
              "      border-bottom-color: var(--fill-color);\n",
              "    }\n",
              "  }\n",
              "</style>\n",
              "\n",
              "  <script>\n",
              "    async function quickchart(key) {\n",
              "      const quickchartButtonEl =\n",
              "        document.querySelector('#' + key + ' button');\n",
              "      quickchartButtonEl.disabled = true;  // To prevent multiple clicks.\n",
              "      quickchartButtonEl.classList.add('colab-df-spinner');\n",
              "      try {\n",
              "        const charts = await google.colab.kernel.invokeFunction(\n",
              "            'suggestCharts', [key], {});\n",
              "      } catch (error) {\n",
              "        console.error('Error during call to suggestCharts:', error);\n",
              "      }\n",
              "      quickchartButtonEl.classList.remove('colab-df-spinner');\n",
              "      quickchartButtonEl.classList.add('colab-df-quickchart-complete');\n",
              "    }\n",
              "    (() => {\n",
              "      let quickchartButtonEl =\n",
              "        document.querySelector('#df-1b6266bd-acb3-4f97-a26c-4c9b9be6663f button');\n",
              "      quickchartButtonEl.style.display =\n",
              "        google.colab.kernel.accessAllowed ? 'block' : 'none';\n",
              "    })();\n",
              "  </script>\n",
              "</div>\n",
              "    </div>\n",
              "  </div>\n"
            ]
          },
          "metadata": {},
          "execution_count": 595
        }
      ]
    },
    {
      "cell_type": "code",
      "source": [
        "x_train,x_test,y_train,y_test = train_test_split(x_sampled,y_sampled,test_size=0.2,random_state=2)"
      ],
      "metadata": {
        "id": "hviv_PULqJXz"
      },
      "execution_count": 596,
      "outputs": []
    },
    {
      "cell_type": "code",
      "source": [
        "print(x_train.shape,x_test.shape,y_train.shape,y_test.shape)"
      ],
      "metadata": {
        "id": "57VXVw7fqoNb",
        "colab": {
          "base_uri": "https://localhost:8080/"
        },
        "outputId": "ed734002-2de6-48df-deb5-c7c7393aea62"
      },
      "execution_count": 597,
      "outputs": [
        {
          "output_type": "stream",
          "name": "stdout",
          "text": [
            "(55500, 4) (13876, 4) (55500,) (13876,)\n"
          ]
        }
      ]
    },
    {
      "cell_type": "markdown",
      "source": [
        "**Scaling The input features**"
      ],
      "metadata": {
        "id": "pVnDwDN6oE9D"
      }
    },
    {
      "cell_type": "markdown",
      "source": [
        "Before Scaling:"
      ],
      "metadata": {
        "id": "peNXMyN-oJWC"
      }
    },
    {
      "cell_type": "code",
      "source": [
        "print(x_train)"
      ],
      "metadata": {
        "id": "qTFZ1Z0roLcP",
        "colab": {
          "base_uri": "https://localhost:8080/"
        },
        "outputId": "fbdfba72-2e98-4ac6-a3d6-5a41e4fb2241"
      },
      "execution_count": 598,
      "outputs": [
        {
          "output_type": "stream",
          "name": "stdout",
          "text": [
            "               amt  gender        lat        long\n",
            "53016  1101.575158       0  39.561766  -75.266105\n",
            "62605     9.826693       0  36.224132  -77.484131\n",
            "56526   991.238812       0  45.432355 -103.704655\n",
            "48885    11.480366       1  42.175740  -79.941769\n",
            "17882     1.950000       1  39.885400 -105.113900\n",
            "...            ...     ...        ...         ...\n",
            "53922   927.255437       1  41.452786  -82.528838\n",
            "44295   368.306084       0  43.652408  -72.056552\n",
            "33867    48.590000       1  44.155400  -72.484700\n",
            "31019    67.480000       1  35.859600  -86.421000\n",
            "44566   343.777964       0  43.736588  -97.825461\n",
            "\n",
            "[55500 rows x 4 columns]\n"
          ]
        }
      ]
    },
    {
      "cell_type": "code",
      "source": [
        "print(x_test)"
      ],
      "metadata": {
        "id": "JSFIsZFIoQhT",
        "colab": {
          "base_uri": "https://localhost:8080/"
        },
        "outputId": "be027429-680b-46f1-fb18-6185b03d578d"
      },
      "execution_count": 599,
      "outputs": [
        {
          "output_type": "stream",
          "name": "stdout",
          "text": [
            "              amt  gender        lat        long\n",
            "37112  931.707457       1  41.030717  -83.025195\n",
            "68483  275.935637       0  31.666122  -98.544541\n",
            "64136  305.348315       0  39.547577  -87.312255\n",
            "35700   20.906736       0  41.481206  -80.207254\n",
            "3706    32.620000       0  38.242700 -122.914500\n",
            "...           ...     ...        ...         ...\n",
            "22334    8.940000       1  31.645300  -90.180100\n",
            "25699   35.390000       0  40.454200  -98.653800\n",
            "24230   49.060000       0  31.957100  -98.965600\n",
            "11854   73.850000       0  41.480200  -86.691900\n",
            "37520  298.666978       1  40.337180  -79.700341\n",
            "\n",
            "[13876 rows x 4 columns]\n"
          ]
        }
      ]
    },
    {
      "cell_type": "markdown",
      "source": [
        "After Scaling:"
      ],
      "metadata": {
        "id": "e9MbqRo1oThS"
      }
    },
    {
      "cell_type": "code",
      "source": [
        "scaler = StandardScaler()"
      ],
      "metadata": {
        "id": "U46rJzfLoWuy"
      },
      "execution_count": 600,
      "outputs": []
    },
    {
      "cell_type": "code",
      "source": [
        "x_train = scaler.fit_transform(x_train)\n",
        "x_test = scaler.transform(x_test)"
      ],
      "metadata": {
        "id": "Ejr-qPm5oYKw"
      },
      "execution_count": 601,
      "outputs": []
    },
    {
      "cell_type": "code",
      "source": [
        "print(x_train)"
      ],
      "metadata": {
        "id": "GMDUCowGonnn",
        "colab": {
          "base_uri": "https://localhost:8080/"
        },
        "outputId": "8e30ac7e-e353-486c-bff6-1c0ad7eca185"
      },
      "execution_count": 602,
      "outputs": [
        {
          "output_type": "stream",
          "name": "stdout",
          "text": [
            "[[ 2.17834899 -0.73272454  0.05898786  0.83214888]\n",
            " [-0.76892908 -0.73272454 -0.54797333  0.69523942]\n",
            " [ 1.88048561 -0.73272454  1.12657677 -0.92324398]\n",
            " ...\n",
            " [-0.66428387  1.36476937  0.89435761  1.0038334 ]\n",
            " [-0.61328854  1.36476937 -0.61426494  0.14360384]\n",
            " [ 0.13260391 -0.73272454  0.81819505 -0.56034586]]\n"
          ]
        }
      ]
    },
    {
      "cell_type": "code",
      "source": [
        "print(x_test)"
      ],
      "metadata": {
        "id": "UuzALxq_oqTD",
        "colab": {
          "base_uri": "https://localhost:8080/"
        },
        "outputId": "3f9aeb8e-d6a0-4881-ccea-6db1d64b3399"
      },
      "execution_count": 603,
      "outputs": [
        {
          "output_type": "stream",
          "name": "stdout",
          "text": [
            "[[ 1.71977509  1.36476937  0.32612214  0.3532127 ]\n",
            " [-0.05054286 -0.73272454 -1.37686469 -0.60473169]\n",
            " [ 0.02885944 -0.73272454  0.05640757  0.0885904 ]\n",
            " ...\n",
            " [-0.66301506 -0.73272454 -1.32394929 -0.6307219 ]\n",
            " [-0.59609212 -0.73272454  0.40786239  0.12688231]\n",
            " [ 0.01082254  1.36476937  0.19999997  0.55844201]]\n"
          ]
        }
      ]
    },
    {
      "cell_type": "markdown",
      "source": [
        "# **Model training using Logistic Regression**"
      ],
      "metadata": {
        "id": "aOvqkkQKq0gJ"
      }
    },
    {
      "cell_type": "code",
      "source": [
        "model = LogisticRegression()"
      ],
      "metadata": {
        "id": "ClwX9USHqugA"
      },
      "execution_count": 604,
      "outputs": []
    },
    {
      "cell_type": "code",
      "source": [
        "model.fit(x_train,y_train)\n"
      ],
      "metadata": {
        "id": "ko7wUEPkq5ca",
        "colab": {
          "base_uri": "https://localhost:8080/",
          "height": 75
        },
        "outputId": "0f59645d-00e0-4aaf-80a2-558e41619dd2"
      },
      "execution_count": 605,
      "outputs": [
        {
          "output_type": "execute_result",
          "data": {
            "text/plain": [
              "LogisticRegression()"
            ],
            "text/html": [
              "<style>#sk-container-id-22 {color: black;background-color: white;}#sk-container-id-22 pre{padding: 0;}#sk-container-id-22 div.sk-toggleable {background-color: white;}#sk-container-id-22 label.sk-toggleable__label {cursor: pointer;display: block;width: 100%;margin-bottom: 0;padding: 0.3em;box-sizing: border-box;text-align: center;}#sk-container-id-22 label.sk-toggleable__label-arrow:before {content: \"▸\";float: left;margin-right: 0.25em;color: #696969;}#sk-container-id-22 label.sk-toggleable__label-arrow:hover:before {color: black;}#sk-container-id-22 div.sk-estimator:hover label.sk-toggleable__label-arrow:before {color: black;}#sk-container-id-22 div.sk-toggleable__content {max-height: 0;max-width: 0;overflow: hidden;text-align: left;background-color: #f0f8ff;}#sk-container-id-22 div.sk-toggleable__content pre {margin: 0.2em;color: black;border-radius: 0.25em;background-color: #f0f8ff;}#sk-container-id-22 input.sk-toggleable__control:checked~div.sk-toggleable__content {max-height: 200px;max-width: 100%;overflow: auto;}#sk-container-id-22 input.sk-toggleable__control:checked~label.sk-toggleable__label-arrow:before {content: \"▾\";}#sk-container-id-22 div.sk-estimator input.sk-toggleable__control:checked~label.sk-toggleable__label {background-color: #d4ebff;}#sk-container-id-22 div.sk-label input.sk-toggleable__control:checked~label.sk-toggleable__label {background-color: #d4ebff;}#sk-container-id-22 input.sk-hidden--visually {border: 0;clip: rect(1px 1px 1px 1px);clip: rect(1px, 1px, 1px, 1px);height: 1px;margin: -1px;overflow: hidden;padding: 0;position: absolute;width: 1px;}#sk-container-id-22 div.sk-estimator {font-family: monospace;background-color: #f0f8ff;border: 1px dotted black;border-radius: 0.25em;box-sizing: border-box;margin-bottom: 0.5em;}#sk-container-id-22 div.sk-estimator:hover {background-color: #d4ebff;}#sk-container-id-22 div.sk-parallel-item::after {content: \"\";width: 100%;border-bottom: 1px solid gray;flex-grow: 1;}#sk-container-id-22 div.sk-label:hover label.sk-toggleable__label {background-color: #d4ebff;}#sk-container-id-22 div.sk-serial::before {content: \"\";position: absolute;border-left: 1px solid gray;box-sizing: border-box;top: 0;bottom: 0;left: 50%;z-index: 0;}#sk-container-id-22 div.sk-serial {display: flex;flex-direction: column;align-items: center;background-color: white;padding-right: 0.2em;padding-left: 0.2em;position: relative;}#sk-container-id-22 div.sk-item {position: relative;z-index: 1;}#sk-container-id-22 div.sk-parallel {display: flex;align-items: stretch;justify-content: center;background-color: white;position: relative;}#sk-container-id-22 div.sk-item::before, #sk-container-id-22 div.sk-parallel-item::before {content: \"\";position: absolute;border-left: 1px solid gray;box-sizing: border-box;top: 0;bottom: 0;left: 50%;z-index: -1;}#sk-container-id-22 div.sk-parallel-item {display: flex;flex-direction: column;z-index: 1;position: relative;background-color: white;}#sk-container-id-22 div.sk-parallel-item:first-child::after {align-self: flex-end;width: 50%;}#sk-container-id-22 div.sk-parallel-item:last-child::after {align-self: flex-start;width: 50%;}#sk-container-id-22 div.sk-parallel-item:only-child::after {width: 0;}#sk-container-id-22 div.sk-dashed-wrapped {border: 1px dashed gray;margin: 0 0.4em 0.5em 0.4em;box-sizing: border-box;padding-bottom: 0.4em;background-color: white;}#sk-container-id-22 div.sk-label label {font-family: monospace;font-weight: bold;display: inline-block;line-height: 1.2em;}#sk-container-id-22 div.sk-label-container {text-align: center;}#sk-container-id-22 div.sk-container {/* jupyter's `normalize.less` sets `[hidden] { display: none; }` but bootstrap.min.css set `[hidden] { display: none !important; }` so we also need the `!important` here to be able to override the default hidden behavior on the sphinx rendered scikit-learn.org. See: https://github.com/scikit-learn/scikit-learn/issues/21755 */display: inline-block !important;position: relative;}#sk-container-id-22 div.sk-text-repr-fallback {display: none;}</style><div id=\"sk-container-id-22\" class=\"sk-top-container\"><div class=\"sk-text-repr-fallback\"><pre>LogisticRegression()</pre><b>In a Jupyter environment, please rerun this cell to show the HTML representation or trust the notebook. <br />On GitHub, the HTML representation is unable to render, please try loading this page with nbviewer.org.</b></div><div class=\"sk-container\" hidden><div class=\"sk-item\"><div class=\"sk-estimator sk-toggleable\"><input class=\"sk-toggleable__control sk-hidden--visually\" id=\"sk-estimator-id-22\" type=\"checkbox\" checked><label for=\"sk-estimator-id-22\" class=\"sk-toggleable__label sk-toggleable__label-arrow\">LogisticRegression</label><div class=\"sk-toggleable__content\"><pre>LogisticRegression()</pre></div></div></div></div></div>"
            ]
          },
          "metadata": {},
          "execution_count": 605
        }
      ]
    },
    {
      "cell_type": "markdown",
      "source": [
        "**Evaluating the model on Training Data:**"
      ],
      "metadata": {
        "id": "7BO2qlvBrDy7"
      }
    },
    {
      "cell_type": "code",
      "source": [
        "x_train_pred = model.predict(x_train)"
      ],
      "metadata": {
        "id": "X3pjfyJyrDLS"
      },
      "execution_count": 606,
      "outputs": []
    },
    {
      "cell_type": "code",
      "source": [
        "print(f\"Accuracy Score for Training data: {accuracy_score(y_train,x_train_pred)}\")\n",
        "print(f\"Precision Score for Training data: {precision_score(y_train,x_train_pred)}\")\n",
        "print(f\"Recall Score for Training data: {recall_score(y_train,x_train_pred)}\")\n",
        "print(f\"F1 Score for Training data: {f1_score(y_train,x_train_pred)}\")"
      ],
      "metadata": {
        "id": "sGaIiAMwqKI8",
        "colab": {
          "base_uri": "https://localhost:8080/"
        },
        "outputId": "265ba310-e240-4df5-92a2-200573ff3a08"
      },
      "execution_count": 607,
      "outputs": [
        {
          "output_type": "stream",
          "name": "stdout",
          "text": [
            "Accuracy Score for Training data: 0.8408828828828829\n",
            "Precision Score for Training data: 0.9052298752350025\n",
            "Recall Score for Training data: 0.7621137450987445\n",
            "F1 Score for Training data: 0.8275296369353358\n"
          ]
        }
      ]
    },
    {
      "cell_type": "markdown",
      "source": [
        "**Evaluating the model on Testing Data:**"
      ],
      "metadata": {
        "id": "lKv4rN5aquM4"
      }
    },
    {
      "cell_type": "code",
      "source": [
        "x_test_pred = model.predict(x_test)"
      ],
      "metadata": {
        "id": "_SWXMaX4rfvz"
      },
      "execution_count": 608,
      "outputs": []
    },
    {
      "cell_type": "code",
      "source": [
        "print(f\"Accuracy Score for Training data: {accuracy_score(y_test,x_test_pred)}\")\n",
        "print(f\"Precision Score for Training data: {precision_score(y_test,x_test_pred)}\")\n",
        "print(f\"Recall Score for Training data: {recall_score(y_test,x_test_pred)}\")\n",
        "print(f\"F1 Score for Training data: {f1_score(y_test,x_test_pred)}\")"
      ],
      "metadata": {
        "id": "HrmAehjAqvsV",
        "colab": {
          "base_uri": "https://localhost:8080/"
        },
        "outputId": "df2beccb-7071-4572-95ae-f96aec65a569"
      },
      "execution_count": 609,
      "outputs": [
        {
          "output_type": "stream",
          "name": "stdout",
          "text": [
            "Accuracy Score for Training data: 0.8456327471893917\n",
            "Precision Score for Training data: 0.904965023033612\n",
            "Recall Score for Training data: 0.7699230657570039\n",
            "F1 Score for Training data: 0.832\n"
          ]
        }
      ]
    },
    {
      "cell_type": "markdown",
      "source": [
        "# **Model training using Decision Trees**"
      ],
      "metadata": {
        "id": "yJbcExBo1Ux1"
      }
    },
    {
      "cell_type": "code",
      "source": [
        "dt_clf = DecisionTreeClassifier()"
      ],
      "metadata": {
        "id": "38dfsqkW1ckD"
      },
      "execution_count": 610,
      "outputs": []
    },
    {
      "cell_type": "code",
      "source": [
        "dt_clf.fit(x_train,y_train)"
      ],
      "metadata": {
        "id": "FGPHrYeM1j4D",
        "colab": {
          "base_uri": "https://localhost:8080/",
          "height": 75
        },
        "outputId": "4981725d-2226-4974-ff18-c245cda786d5"
      },
      "execution_count": 611,
      "outputs": [
        {
          "output_type": "execute_result",
          "data": {
            "text/plain": [
              "DecisionTreeClassifier()"
            ],
            "text/html": [
              "<style>#sk-container-id-23 {color: black;background-color: white;}#sk-container-id-23 pre{padding: 0;}#sk-container-id-23 div.sk-toggleable {background-color: white;}#sk-container-id-23 label.sk-toggleable__label {cursor: pointer;display: block;width: 100%;margin-bottom: 0;padding: 0.3em;box-sizing: border-box;text-align: center;}#sk-container-id-23 label.sk-toggleable__label-arrow:before {content: \"▸\";float: left;margin-right: 0.25em;color: #696969;}#sk-container-id-23 label.sk-toggleable__label-arrow:hover:before {color: black;}#sk-container-id-23 div.sk-estimator:hover label.sk-toggleable__label-arrow:before {color: black;}#sk-container-id-23 div.sk-toggleable__content {max-height: 0;max-width: 0;overflow: hidden;text-align: left;background-color: #f0f8ff;}#sk-container-id-23 div.sk-toggleable__content pre {margin: 0.2em;color: black;border-radius: 0.25em;background-color: #f0f8ff;}#sk-container-id-23 input.sk-toggleable__control:checked~div.sk-toggleable__content {max-height: 200px;max-width: 100%;overflow: auto;}#sk-container-id-23 input.sk-toggleable__control:checked~label.sk-toggleable__label-arrow:before {content: \"▾\";}#sk-container-id-23 div.sk-estimator input.sk-toggleable__control:checked~label.sk-toggleable__label {background-color: #d4ebff;}#sk-container-id-23 div.sk-label input.sk-toggleable__control:checked~label.sk-toggleable__label {background-color: #d4ebff;}#sk-container-id-23 input.sk-hidden--visually {border: 0;clip: rect(1px 1px 1px 1px);clip: rect(1px, 1px, 1px, 1px);height: 1px;margin: -1px;overflow: hidden;padding: 0;position: absolute;width: 1px;}#sk-container-id-23 div.sk-estimator {font-family: monospace;background-color: #f0f8ff;border: 1px dotted black;border-radius: 0.25em;box-sizing: border-box;margin-bottom: 0.5em;}#sk-container-id-23 div.sk-estimator:hover {background-color: #d4ebff;}#sk-container-id-23 div.sk-parallel-item::after {content: \"\";width: 100%;border-bottom: 1px solid gray;flex-grow: 1;}#sk-container-id-23 div.sk-label:hover label.sk-toggleable__label {background-color: #d4ebff;}#sk-container-id-23 div.sk-serial::before {content: \"\";position: absolute;border-left: 1px solid gray;box-sizing: border-box;top: 0;bottom: 0;left: 50%;z-index: 0;}#sk-container-id-23 div.sk-serial {display: flex;flex-direction: column;align-items: center;background-color: white;padding-right: 0.2em;padding-left: 0.2em;position: relative;}#sk-container-id-23 div.sk-item {position: relative;z-index: 1;}#sk-container-id-23 div.sk-parallel {display: flex;align-items: stretch;justify-content: center;background-color: white;position: relative;}#sk-container-id-23 div.sk-item::before, #sk-container-id-23 div.sk-parallel-item::before {content: \"\";position: absolute;border-left: 1px solid gray;box-sizing: border-box;top: 0;bottom: 0;left: 50%;z-index: -1;}#sk-container-id-23 div.sk-parallel-item {display: flex;flex-direction: column;z-index: 1;position: relative;background-color: white;}#sk-container-id-23 div.sk-parallel-item:first-child::after {align-self: flex-end;width: 50%;}#sk-container-id-23 div.sk-parallel-item:last-child::after {align-self: flex-start;width: 50%;}#sk-container-id-23 div.sk-parallel-item:only-child::after {width: 0;}#sk-container-id-23 div.sk-dashed-wrapped {border: 1px dashed gray;margin: 0 0.4em 0.5em 0.4em;box-sizing: border-box;padding-bottom: 0.4em;background-color: white;}#sk-container-id-23 div.sk-label label {font-family: monospace;font-weight: bold;display: inline-block;line-height: 1.2em;}#sk-container-id-23 div.sk-label-container {text-align: center;}#sk-container-id-23 div.sk-container {/* jupyter's `normalize.less` sets `[hidden] { display: none; }` but bootstrap.min.css set `[hidden] { display: none !important; }` so we also need the `!important` here to be able to override the default hidden behavior on the sphinx rendered scikit-learn.org. See: https://github.com/scikit-learn/scikit-learn/issues/21755 */display: inline-block !important;position: relative;}#sk-container-id-23 div.sk-text-repr-fallback {display: none;}</style><div id=\"sk-container-id-23\" class=\"sk-top-container\"><div class=\"sk-text-repr-fallback\"><pre>DecisionTreeClassifier()</pre><b>In a Jupyter environment, please rerun this cell to show the HTML representation or trust the notebook. <br />On GitHub, the HTML representation is unable to render, please try loading this page with nbviewer.org.</b></div><div class=\"sk-container\" hidden><div class=\"sk-item\"><div class=\"sk-estimator sk-toggleable\"><input class=\"sk-toggleable__control sk-hidden--visually\" id=\"sk-estimator-id-23\" type=\"checkbox\" checked><label for=\"sk-estimator-id-23\" class=\"sk-toggleable__label sk-toggleable__label-arrow\">DecisionTreeClassifier</label><div class=\"sk-toggleable__content\"><pre>DecisionTreeClassifier()</pre></div></div></div></div></div>"
            ]
          },
          "metadata": {},
          "execution_count": 611
        }
      ]
    },
    {
      "cell_type": "markdown",
      "source": [
        "**Evaluating the model on Training Data:**"
      ],
      "metadata": {
        "id": "Ux2-uGny2Lnt"
      }
    },
    {
      "cell_type": "code",
      "source": [
        "y_pred = dt_clf.predict(x_train)"
      ],
      "metadata": {
        "id": "g9rlik3N1na9"
      },
      "execution_count": 612,
      "outputs": []
    },
    {
      "cell_type": "code",
      "source": [
        "print(f\"Accuracy Score for Training data: {accuracy_score(y_train,y_pred)}\")\n",
        "print(f\"Precision Score for Training data: {precision_score(y_train,y_pred)}\")\n",
        "print(f\"Recall Score for Training data: {recall_score(y_train,y_pred)}\")\n",
        "print(f\"F1 Score for Training data: {f1_score(y_train,y_pred)}\")"
      ],
      "metadata": {
        "id": "SXlaJ1oF1uI0",
        "colab": {
          "base_uri": "https://localhost:8080/"
        },
        "outputId": "01e0e602-3d24-42d9-a978-894d1b679c19"
      },
      "execution_count": 613,
      "outputs": [
        {
          "output_type": "stream",
          "name": "stdout",
          "text": [
            "Accuracy Score for Training data: 0.999981981981982\n",
            "Precision Score for Training data: 1.0\n",
            "Recall Score for Training data: 0.999964027483003\n",
            "F1 Score for Training data: 0.9999820134179902\n"
          ]
        }
      ]
    },
    {
      "cell_type": "markdown",
      "source": [
        "**Evaluating the model on Testing Data:**"
      ],
      "metadata": {
        "id": "d1_R0rpx2PuP"
      }
    },
    {
      "cell_type": "code",
      "source": [
        "y_pred_dt = dt_clf.predict(x_test)"
      ],
      "metadata": {
        "id": "RhkjSEA52U--"
      },
      "execution_count": 614,
      "outputs": []
    },
    {
      "cell_type": "code",
      "source": [
        "print(f\"Accuracy Score for Testing data: {accuracy_score(y_test,y_pred_dt)}\")\n",
        "print(f\"Precision Score for Testing data: {precision_score(y_test,y_pred_dt)}\")\n",
        "print(f\"Recall Score for Testing data: {recall_score(y_test,y_pred_dt)}\")\n",
        "print(f\"F1 Score for Testing data: {f1_score(y_test,y_pred_dt)}\")"
      ],
      "metadata": {
        "id": "8KOhq4EJ2Z3h",
        "colab": {
          "base_uri": "https://localhost:8080/"
        },
        "outputId": "2154f552-fa21-4531-d6e8-cd2f68e2c2e9"
      },
      "execution_count": 615,
      "outputs": [
        {
          "output_type": "stream",
          "name": "stdout",
          "text": [
            "Accuracy Score for Testing data: 0.9819832804842894\n",
            "Precision Score for Testing data: 0.980182265297266\n",
            "Recall Score for Testing data: 0.9835970387574394\n",
            "F1 Score for Testing data: 0.9818866830894073\n"
          ]
        }
      ]
    },
    {
      "cell_type": "markdown",
      "source": [
        "# **Model training using Random Forest**"
      ],
      "metadata": {
        "id": "crDDo9JD3TY2"
      }
    },
    {
      "cell_type": "code",
      "source": [
        "rf_clf = RandomForestClassifier()"
      ],
      "metadata": {
        "id": "zlU_NRQ23dUX"
      },
      "execution_count": 616,
      "outputs": []
    },
    {
      "cell_type": "code",
      "source": [
        "rf_clf.fit(x_train,y_train)"
      ],
      "metadata": {
        "id": "Dr2D8-6t3t3m",
        "colab": {
          "base_uri": "https://localhost:8080/",
          "height": 75
        },
        "outputId": "2cec5b6a-181a-4e09-e084-71fbe29dd94d"
      },
      "execution_count": 617,
      "outputs": [
        {
          "output_type": "execute_result",
          "data": {
            "text/plain": [
              "RandomForestClassifier()"
            ],
            "text/html": [
              "<style>#sk-container-id-24 {color: black;background-color: white;}#sk-container-id-24 pre{padding: 0;}#sk-container-id-24 div.sk-toggleable {background-color: white;}#sk-container-id-24 label.sk-toggleable__label {cursor: pointer;display: block;width: 100%;margin-bottom: 0;padding: 0.3em;box-sizing: border-box;text-align: center;}#sk-container-id-24 label.sk-toggleable__label-arrow:before {content: \"▸\";float: left;margin-right: 0.25em;color: #696969;}#sk-container-id-24 label.sk-toggleable__label-arrow:hover:before {color: black;}#sk-container-id-24 div.sk-estimator:hover label.sk-toggleable__label-arrow:before {color: black;}#sk-container-id-24 div.sk-toggleable__content {max-height: 0;max-width: 0;overflow: hidden;text-align: left;background-color: #f0f8ff;}#sk-container-id-24 div.sk-toggleable__content pre {margin: 0.2em;color: black;border-radius: 0.25em;background-color: #f0f8ff;}#sk-container-id-24 input.sk-toggleable__control:checked~div.sk-toggleable__content {max-height: 200px;max-width: 100%;overflow: auto;}#sk-container-id-24 input.sk-toggleable__control:checked~label.sk-toggleable__label-arrow:before {content: \"▾\";}#sk-container-id-24 div.sk-estimator input.sk-toggleable__control:checked~label.sk-toggleable__label {background-color: #d4ebff;}#sk-container-id-24 div.sk-label input.sk-toggleable__control:checked~label.sk-toggleable__label {background-color: #d4ebff;}#sk-container-id-24 input.sk-hidden--visually {border: 0;clip: rect(1px 1px 1px 1px);clip: rect(1px, 1px, 1px, 1px);height: 1px;margin: -1px;overflow: hidden;padding: 0;position: absolute;width: 1px;}#sk-container-id-24 div.sk-estimator {font-family: monospace;background-color: #f0f8ff;border: 1px dotted black;border-radius: 0.25em;box-sizing: border-box;margin-bottom: 0.5em;}#sk-container-id-24 div.sk-estimator:hover {background-color: #d4ebff;}#sk-container-id-24 div.sk-parallel-item::after {content: \"\";width: 100%;border-bottom: 1px solid gray;flex-grow: 1;}#sk-container-id-24 div.sk-label:hover label.sk-toggleable__label {background-color: #d4ebff;}#sk-container-id-24 div.sk-serial::before {content: \"\";position: absolute;border-left: 1px solid gray;box-sizing: border-box;top: 0;bottom: 0;left: 50%;z-index: 0;}#sk-container-id-24 div.sk-serial {display: flex;flex-direction: column;align-items: center;background-color: white;padding-right: 0.2em;padding-left: 0.2em;position: relative;}#sk-container-id-24 div.sk-item {position: relative;z-index: 1;}#sk-container-id-24 div.sk-parallel {display: flex;align-items: stretch;justify-content: center;background-color: white;position: relative;}#sk-container-id-24 div.sk-item::before, #sk-container-id-24 div.sk-parallel-item::before {content: \"\";position: absolute;border-left: 1px solid gray;box-sizing: border-box;top: 0;bottom: 0;left: 50%;z-index: -1;}#sk-container-id-24 div.sk-parallel-item {display: flex;flex-direction: column;z-index: 1;position: relative;background-color: white;}#sk-container-id-24 div.sk-parallel-item:first-child::after {align-self: flex-end;width: 50%;}#sk-container-id-24 div.sk-parallel-item:last-child::after {align-self: flex-start;width: 50%;}#sk-container-id-24 div.sk-parallel-item:only-child::after {width: 0;}#sk-container-id-24 div.sk-dashed-wrapped {border: 1px dashed gray;margin: 0 0.4em 0.5em 0.4em;box-sizing: border-box;padding-bottom: 0.4em;background-color: white;}#sk-container-id-24 div.sk-label label {font-family: monospace;font-weight: bold;display: inline-block;line-height: 1.2em;}#sk-container-id-24 div.sk-label-container {text-align: center;}#sk-container-id-24 div.sk-container {/* jupyter's `normalize.less` sets `[hidden] { display: none; }` but bootstrap.min.css set `[hidden] { display: none !important; }` so we also need the `!important` here to be able to override the default hidden behavior on the sphinx rendered scikit-learn.org. See: https://github.com/scikit-learn/scikit-learn/issues/21755 */display: inline-block !important;position: relative;}#sk-container-id-24 div.sk-text-repr-fallback {display: none;}</style><div id=\"sk-container-id-24\" class=\"sk-top-container\"><div class=\"sk-text-repr-fallback\"><pre>RandomForestClassifier()</pre><b>In a Jupyter environment, please rerun this cell to show the HTML representation or trust the notebook. <br />On GitHub, the HTML representation is unable to render, please try loading this page with nbviewer.org.</b></div><div class=\"sk-container\" hidden><div class=\"sk-item\"><div class=\"sk-estimator sk-toggleable\"><input class=\"sk-toggleable__control sk-hidden--visually\" id=\"sk-estimator-id-24\" type=\"checkbox\" checked><label for=\"sk-estimator-id-24\" class=\"sk-toggleable__label sk-toggleable__label-arrow\">RandomForestClassifier</label><div class=\"sk-toggleable__content\"><pre>RandomForestClassifier()</pre></div></div></div></div></div>"
            ]
          },
          "metadata": {},
          "execution_count": 617
        }
      ]
    },
    {
      "cell_type": "markdown",
      "source": [
        "**Evaluating the model on Training Data:**"
      ],
      "metadata": {
        "id": "AU7ZL6Pr30wc"
      }
    },
    {
      "cell_type": "code",
      "source": [
        "y_pred1 = rf_clf.predict(x_train)"
      ],
      "metadata": {
        "id": "jzBrBtjb3uSx"
      },
      "execution_count": 618,
      "outputs": []
    },
    {
      "cell_type": "code",
      "source": [
        "print(f\"Accuracy Score for Training data: {accuracy_score(y_train,y_pred1)}\")\n",
        "print(f\"Precision Score for Training data: {precision_score(y_train,y_pred1)}\")\n",
        "print(f\"Recall Score for Training data: {recall_score(y_train,y_pred1)}\")\n",
        "print(f\"F1 Score for Training data: {f1_score(y_train,y_pred1)}\")"
      ],
      "metadata": {
        "id": "_anHf3VQ394I",
        "colab": {
          "base_uri": "https://localhost:8080/"
        },
        "outputId": "5e27a359-4b78-41b4-a4fd-a747ffaf58c6"
      },
      "execution_count": 619,
      "outputs": [
        {
          "output_type": "stream",
          "name": "stdout",
          "text": [
            "Accuracy Score for Training data: 0.999981981981982\n",
            "Precision Score for Training data: 0.9999640287769784\n",
            "Recall Score for Training data: 1.0\n",
            "F1 Score for Training data: 0.9999820140650012\n"
          ]
        }
      ]
    },
    {
      "cell_type": "markdown",
      "source": [
        "**Evaluating the model on Testing Data:**"
      ],
      "metadata": {
        "id": "GCmZjZM14Ch6"
      }
    },
    {
      "cell_type": "code",
      "source": [
        "y_pred_rf = rf_clf.predict(x_test)"
      ],
      "metadata": {
        "id": "DNC_R-7s4EPr"
      },
      "execution_count": 620,
      "outputs": []
    },
    {
      "cell_type": "code",
      "source": [
        "print(f\"Accuracy Score for Testing data: {accuracy_score(y_test,y_pred_rf)}\")\n",
        "print(f\"Precision Score for Testing data: {precision_score(y_test,y_pred_rf)}\")\n",
        "print(f\"Recall Score for Testing data: {recall_score(y_test,y_pred_rf)}\")\n",
        "print(f\"F1 Score for Testing data: {f1_score(y_test,y_pred_rf)}\")"
      ],
      "metadata": {
        "id": "QhFZVSKx4Ifg",
        "colab": {
          "base_uri": "https://localhost:8080/"
        },
        "outputId": "8682445a-e60c-4b81-a470-d3b6067266e3"
      },
      "execution_count": 621,
      "outputs": [
        {
          "output_type": "stream",
          "name": "stdout",
          "text": [
            "Accuracy Score for Testing data: 0.9879648313635053\n",
            "Precision Score for Testing data: 0.9840149769585254\n",
            "Recall Score for Testing data: 0.9918710988532443\n",
            "F1 Score for Testing data: 0.9879274199378298\n"
          ]
        }
      ]
    },
    {
      "cell_type": "markdown",
      "source": [
        "# **Model training using SVC**"
      ],
      "metadata": {
        "id": "by_ij5l75kb1"
      }
    },
    {
      "cell_type": "code",
      "source": [
        "svc_clf = SVC()"
      ],
      "metadata": {
        "id": "QOsGE6fa5nOS"
      },
      "execution_count": 622,
      "outputs": []
    },
    {
      "cell_type": "code",
      "source": [
        "svc_clf.fit(x_train,y_train)"
      ],
      "metadata": {
        "colab": {
          "base_uri": "https://localhost:8080/",
          "height": 75
        },
        "id": "a_gT0sEE5sTD",
        "outputId": "e4a3a7f0-d622-4d9e-f914-87bc5b6803fa"
      },
      "execution_count": 623,
      "outputs": [
        {
          "output_type": "execute_result",
          "data": {
            "text/plain": [
              "SVC()"
            ],
            "text/html": [
              "<style>#sk-container-id-25 {color: black;background-color: white;}#sk-container-id-25 pre{padding: 0;}#sk-container-id-25 div.sk-toggleable {background-color: white;}#sk-container-id-25 label.sk-toggleable__label {cursor: pointer;display: block;width: 100%;margin-bottom: 0;padding: 0.3em;box-sizing: border-box;text-align: center;}#sk-container-id-25 label.sk-toggleable__label-arrow:before {content: \"▸\";float: left;margin-right: 0.25em;color: #696969;}#sk-container-id-25 label.sk-toggleable__label-arrow:hover:before {color: black;}#sk-container-id-25 div.sk-estimator:hover label.sk-toggleable__label-arrow:before {color: black;}#sk-container-id-25 div.sk-toggleable__content {max-height: 0;max-width: 0;overflow: hidden;text-align: left;background-color: #f0f8ff;}#sk-container-id-25 div.sk-toggleable__content pre {margin: 0.2em;color: black;border-radius: 0.25em;background-color: #f0f8ff;}#sk-container-id-25 input.sk-toggleable__control:checked~div.sk-toggleable__content {max-height: 200px;max-width: 100%;overflow: auto;}#sk-container-id-25 input.sk-toggleable__control:checked~label.sk-toggleable__label-arrow:before {content: \"▾\";}#sk-container-id-25 div.sk-estimator input.sk-toggleable__control:checked~label.sk-toggleable__label {background-color: #d4ebff;}#sk-container-id-25 div.sk-label input.sk-toggleable__control:checked~label.sk-toggleable__label {background-color: #d4ebff;}#sk-container-id-25 input.sk-hidden--visually {border: 0;clip: rect(1px 1px 1px 1px);clip: rect(1px, 1px, 1px, 1px);height: 1px;margin: -1px;overflow: hidden;padding: 0;position: absolute;width: 1px;}#sk-container-id-25 div.sk-estimator {font-family: monospace;background-color: #f0f8ff;border: 1px dotted black;border-radius: 0.25em;box-sizing: border-box;margin-bottom: 0.5em;}#sk-container-id-25 div.sk-estimator:hover {background-color: #d4ebff;}#sk-container-id-25 div.sk-parallel-item::after {content: \"\";width: 100%;border-bottom: 1px solid gray;flex-grow: 1;}#sk-container-id-25 div.sk-label:hover label.sk-toggleable__label {background-color: #d4ebff;}#sk-container-id-25 div.sk-serial::before {content: \"\";position: absolute;border-left: 1px solid gray;box-sizing: border-box;top: 0;bottom: 0;left: 50%;z-index: 0;}#sk-container-id-25 div.sk-serial {display: flex;flex-direction: column;align-items: center;background-color: white;padding-right: 0.2em;padding-left: 0.2em;position: relative;}#sk-container-id-25 div.sk-item {position: relative;z-index: 1;}#sk-container-id-25 div.sk-parallel {display: flex;align-items: stretch;justify-content: center;background-color: white;position: relative;}#sk-container-id-25 div.sk-item::before, #sk-container-id-25 div.sk-parallel-item::before {content: \"\";position: absolute;border-left: 1px solid gray;box-sizing: border-box;top: 0;bottom: 0;left: 50%;z-index: -1;}#sk-container-id-25 div.sk-parallel-item {display: flex;flex-direction: column;z-index: 1;position: relative;background-color: white;}#sk-container-id-25 div.sk-parallel-item:first-child::after {align-self: flex-end;width: 50%;}#sk-container-id-25 div.sk-parallel-item:last-child::after {align-self: flex-start;width: 50%;}#sk-container-id-25 div.sk-parallel-item:only-child::after {width: 0;}#sk-container-id-25 div.sk-dashed-wrapped {border: 1px dashed gray;margin: 0 0.4em 0.5em 0.4em;box-sizing: border-box;padding-bottom: 0.4em;background-color: white;}#sk-container-id-25 div.sk-label label {font-family: monospace;font-weight: bold;display: inline-block;line-height: 1.2em;}#sk-container-id-25 div.sk-label-container {text-align: center;}#sk-container-id-25 div.sk-container {/* jupyter's `normalize.less` sets `[hidden] { display: none; }` but bootstrap.min.css set `[hidden] { display: none !important; }` so we also need the `!important` here to be able to override the default hidden behavior on the sphinx rendered scikit-learn.org. See: https://github.com/scikit-learn/scikit-learn/issues/21755 */display: inline-block !important;position: relative;}#sk-container-id-25 div.sk-text-repr-fallback {display: none;}</style><div id=\"sk-container-id-25\" class=\"sk-top-container\"><div class=\"sk-text-repr-fallback\"><pre>SVC()</pre><b>In a Jupyter environment, please rerun this cell to show the HTML representation or trust the notebook. <br />On GitHub, the HTML representation is unable to render, please try loading this page with nbviewer.org.</b></div><div class=\"sk-container\" hidden><div class=\"sk-item\"><div class=\"sk-estimator sk-toggleable\"><input class=\"sk-toggleable__control sk-hidden--visually\" id=\"sk-estimator-id-25\" type=\"checkbox\" checked><label for=\"sk-estimator-id-25\" class=\"sk-toggleable__label sk-toggleable__label-arrow\">SVC</label><div class=\"sk-toggleable__content\"><pre>SVC()</pre></div></div></div></div></div>"
            ]
          },
          "metadata": {},
          "execution_count": 623
        }
      ]
    },
    {
      "cell_type": "markdown",
      "source": [
        "**Evaluating the model on Training Data:**"
      ],
      "metadata": {
        "id": "spnhPAkb6CsG"
      }
    },
    {
      "cell_type": "code",
      "source": [
        "y_pred2 = svc_clf.predict(x_train)"
      ],
      "metadata": {
        "id": "JfsY7PHZ6B4c"
      },
      "execution_count": 624,
      "outputs": []
    },
    {
      "cell_type": "code",
      "source": [
        "print(f\"Accuracy Score for Training data: {accuracy_score(y_train,y_pred2)}\")\n",
        "print(f\"Precision Score for Training data: {precision_score(y_train,y_pred2)}\")\n",
        "print(f\"Recall Score for Training data: {recall_score(y_train,y_pred2)}\")\n",
        "print(f\"F1 Score for Training data: {f1_score(y_train,y_pred2)}\")"
      ],
      "metadata": {
        "colab": {
          "base_uri": "https://localhost:8080/"
        },
        "id": "WtQgG9LF6ISn",
        "outputId": "ae2127ac-cd1b-46e7-bdad-da76a4dcd25c"
      },
      "execution_count": 625,
      "outputs": [
        {
          "output_type": "stream",
          "name": "stdout",
          "text": [
            "Accuracy Score for Training data: 0.8905945945945946\n",
            "Precision Score for Training data: 0.9060969683376322\n",
            "Recall Score for Training data: 0.8719378394906292\n",
            "F1 Score for Training data: 0.8886892758936755\n"
          ]
        }
      ]
    },
    {
      "cell_type": "markdown",
      "source": [
        "**Evaluating the model on Testing Data:**"
      ],
      "metadata": {
        "id": "KGVCBNKI6Sgz"
      }
    },
    {
      "cell_type": "code",
      "source": [
        "y_pred_svc = svc_clf.predict(x_test)"
      ],
      "metadata": {
        "id": "k2GpLubK6UKh"
      },
      "execution_count": 626,
      "outputs": []
    },
    {
      "cell_type": "code",
      "source": [
        "print(f\"Accuracy Score for Testing data: {accuracy_score(y_test,y_pred_svc)}\")\n",
        "print(f\"Precision Score for Testing data: {precision_score(y_test,y_pred_svc)}\")\n",
        "print(f\"Recall Score for Testing data: {recall_score(y_test,y_pred_svc)}\")\n",
        "print(f\"F1 Score for Testing data: {f1_score(y_test,y_pred_svc)}\")"
      ],
      "metadata": {
        "colab": {
          "base_uri": "https://localhost:8080/"
        },
        "id": "FLeN8R3u6aDr",
        "outputId": "e2df82ea-2e45-4490-ae45-df3f057a5fd7"
      },
      "execution_count": 627,
      "outputs": [
        {
          "output_type": "stream",
          "name": "stdout",
          "text": [
            "Accuracy Score for Testing data: 0.8925482848083021\n",
            "Precision Score for Testing data: 0.9004451038575668\n",
            "Recall Score for Testing data: 0.8809696617796487\n",
            "F1 Score for Testing data: 0.8906009244992296\n"
          ]
        }
      ]
    },
    {
      "cell_type": "markdown",
      "source": [
        "# **Model training using KNN**"
      ],
      "metadata": {
        "id": "EGhxDald7Jk6"
      }
    },
    {
      "cell_type": "code",
      "source": [
        "knn_clf = KNeighborsClassifier()"
      ],
      "metadata": {
        "id": "8408kIa57Io1"
      },
      "execution_count": 628,
      "outputs": []
    },
    {
      "cell_type": "code",
      "source": [
        "knn_clf.fit(x_train,y_train)"
      ],
      "metadata": {
        "colab": {
          "base_uri": "https://localhost:8080/",
          "height": 75
        },
        "id": "LNnC45lb7TBe",
        "outputId": "e9994054-30a7-47dc-deab-96d1a852b156"
      },
      "execution_count": 629,
      "outputs": [
        {
          "output_type": "execute_result",
          "data": {
            "text/plain": [
              "KNeighborsClassifier()"
            ],
            "text/html": [
              "<style>#sk-container-id-26 {color: black;background-color: white;}#sk-container-id-26 pre{padding: 0;}#sk-container-id-26 div.sk-toggleable {background-color: white;}#sk-container-id-26 label.sk-toggleable__label {cursor: pointer;display: block;width: 100%;margin-bottom: 0;padding: 0.3em;box-sizing: border-box;text-align: center;}#sk-container-id-26 label.sk-toggleable__label-arrow:before {content: \"▸\";float: left;margin-right: 0.25em;color: #696969;}#sk-container-id-26 label.sk-toggleable__label-arrow:hover:before {color: black;}#sk-container-id-26 div.sk-estimator:hover label.sk-toggleable__label-arrow:before {color: black;}#sk-container-id-26 div.sk-toggleable__content {max-height: 0;max-width: 0;overflow: hidden;text-align: left;background-color: #f0f8ff;}#sk-container-id-26 div.sk-toggleable__content pre {margin: 0.2em;color: black;border-radius: 0.25em;background-color: #f0f8ff;}#sk-container-id-26 input.sk-toggleable__control:checked~div.sk-toggleable__content {max-height: 200px;max-width: 100%;overflow: auto;}#sk-container-id-26 input.sk-toggleable__control:checked~label.sk-toggleable__label-arrow:before {content: \"▾\";}#sk-container-id-26 div.sk-estimator input.sk-toggleable__control:checked~label.sk-toggleable__label {background-color: #d4ebff;}#sk-container-id-26 div.sk-label input.sk-toggleable__control:checked~label.sk-toggleable__label {background-color: #d4ebff;}#sk-container-id-26 input.sk-hidden--visually {border: 0;clip: rect(1px 1px 1px 1px);clip: rect(1px, 1px, 1px, 1px);height: 1px;margin: -1px;overflow: hidden;padding: 0;position: absolute;width: 1px;}#sk-container-id-26 div.sk-estimator {font-family: monospace;background-color: #f0f8ff;border: 1px dotted black;border-radius: 0.25em;box-sizing: border-box;margin-bottom: 0.5em;}#sk-container-id-26 div.sk-estimator:hover {background-color: #d4ebff;}#sk-container-id-26 div.sk-parallel-item::after {content: \"\";width: 100%;border-bottom: 1px solid gray;flex-grow: 1;}#sk-container-id-26 div.sk-label:hover label.sk-toggleable__label {background-color: #d4ebff;}#sk-container-id-26 div.sk-serial::before {content: \"\";position: absolute;border-left: 1px solid gray;box-sizing: border-box;top: 0;bottom: 0;left: 50%;z-index: 0;}#sk-container-id-26 div.sk-serial {display: flex;flex-direction: column;align-items: center;background-color: white;padding-right: 0.2em;padding-left: 0.2em;position: relative;}#sk-container-id-26 div.sk-item {position: relative;z-index: 1;}#sk-container-id-26 div.sk-parallel {display: flex;align-items: stretch;justify-content: center;background-color: white;position: relative;}#sk-container-id-26 div.sk-item::before, #sk-container-id-26 div.sk-parallel-item::before {content: \"\";position: absolute;border-left: 1px solid gray;box-sizing: border-box;top: 0;bottom: 0;left: 50%;z-index: -1;}#sk-container-id-26 div.sk-parallel-item {display: flex;flex-direction: column;z-index: 1;position: relative;background-color: white;}#sk-container-id-26 div.sk-parallel-item:first-child::after {align-self: flex-end;width: 50%;}#sk-container-id-26 div.sk-parallel-item:last-child::after {align-self: flex-start;width: 50%;}#sk-container-id-26 div.sk-parallel-item:only-child::after {width: 0;}#sk-container-id-26 div.sk-dashed-wrapped {border: 1px dashed gray;margin: 0 0.4em 0.5em 0.4em;box-sizing: border-box;padding-bottom: 0.4em;background-color: white;}#sk-container-id-26 div.sk-label label {font-family: monospace;font-weight: bold;display: inline-block;line-height: 1.2em;}#sk-container-id-26 div.sk-label-container {text-align: center;}#sk-container-id-26 div.sk-container {/* jupyter's `normalize.less` sets `[hidden] { display: none; }` but bootstrap.min.css set `[hidden] { display: none !important; }` so we also need the `!important` here to be able to override the default hidden behavior on the sphinx rendered scikit-learn.org. See: https://github.com/scikit-learn/scikit-learn/issues/21755 */display: inline-block !important;position: relative;}#sk-container-id-26 div.sk-text-repr-fallback {display: none;}</style><div id=\"sk-container-id-26\" class=\"sk-top-container\"><div class=\"sk-text-repr-fallback\"><pre>KNeighborsClassifier()</pre><b>In a Jupyter environment, please rerun this cell to show the HTML representation or trust the notebook. <br />On GitHub, the HTML representation is unable to render, please try loading this page with nbviewer.org.</b></div><div class=\"sk-container\" hidden><div class=\"sk-item\"><div class=\"sk-estimator sk-toggleable\"><input class=\"sk-toggleable__control sk-hidden--visually\" id=\"sk-estimator-id-26\" type=\"checkbox\" checked><label for=\"sk-estimator-id-26\" class=\"sk-toggleable__label sk-toggleable__label-arrow\">KNeighborsClassifier</label><div class=\"sk-toggleable__content\"><pre>KNeighborsClassifier()</pre></div></div></div></div></div>"
            ]
          },
          "metadata": {},
          "execution_count": 629
        }
      ]
    },
    {
      "cell_type": "markdown",
      "source": [
        "**Evaluating the model on Training Data:**"
      ],
      "metadata": {
        "id": "qAas1zhW7XP8"
      }
    },
    {
      "cell_type": "code",
      "source": [
        "y_pred3 = knn_clf.predict(x_train)"
      ],
      "metadata": {
        "id": "1qz57Sbw7b17"
      },
      "execution_count": 630,
      "outputs": []
    },
    {
      "cell_type": "code",
      "source": [
        "print(f\"Accuracy Score for Training data: {accuracy_score(y_train,y_pred3)}\")\n",
        "print(f\"Precision Score for Training data: {precision_score(y_train,y_pred3)}\")\n",
        "print(f\"Recall Score for Training data: {recall_score(y_train,y_pred3)}\")\n",
        "print(f\"F1 Score for Training data: {f1_score(y_train,y_pred3)}\")"
      ],
      "metadata": {
        "colab": {
          "base_uri": "https://localhost:8080/"
        },
        "id": "QvUC5QUz7iOk",
        "outputId": "03289c0f-7bd8-474d-9aab-74ee7d56ead6"
      },
      "execution_count": 631,
      "outputs": [
        {
          "output_type": "stream",
          "name": "stdout",
          "text": [
            "Accuracy Score for Training data: 0.9863603603603603\n",
            "Precision Score for Training data: 0.9800468650145565\n",
            "Recall Score for Training data: 0.9929853591855822\n",
            "F1 Score for Training data: 0.9864736889127131\n"
          ]
        }
      ]
    },
    {
      "cell_type": "markdown",
      "source": [
        "**Evaluating the model on Testing Data:**"
      ],
      "metadata": {
        "id": "TQFki4e87mgO"
      }
    },
    {
      "cell_type": "code",
      "source": [
        "y_pred_knn = knn_clf.predict(x_test)"
      ],
      "metadata": {
        "id": "sRKxRKNt7oCd"
      },
      "execution_count": 632,
      "outputs": []
    },
    {
      "cell_type": "code",
      "source": [
        "print(f\"Accuracy Score for Testing data: {accuracy_score(y_test,y_pred_knn)}\")\n",
        "print(f\"Precision Score for Testing data: {precision_score(y_test,y_pred_knn)}\")\n",
        "print(f\"Recall Score for Testing data: {recall_score(y_test,y_pred_knn)}\")\n",
        "print(f\"F1 Score for Testing data: {f1_score(y_test,y_pred_knn)}\")"
      ],
      "metadata": {
        "colab": {
          "base_uri": "https://localhost:8080/"
        },
        "id": "4S_JJaN075rT",
        "outputId": "c52321e4-5b8f-4163-a393-c92cc87e456b"
      },
      "execution_count": 633,
      "outputs": [
        {
          "output_type": "stream",
          "name": "stdout",
          "text": [
            "Accuracy Score for Testing data: 0.9795330066301527\n",
            "Precision Score for Testing data: 0.9726635179619293\n",
            "Recall Score for Testing data: 0.9865002177384236\n",
            "F1 Score for Testing data: 0.9795330066301527\n"
          ]
        }
      ]
    },
    {
      "cell_type": "markdown",
      "source": [
        "## **Checking The Best Accuracy Score using a barplot (For Training Data)**"
      ],
      "metadata": {
        "id": "_y0mpJ4I8kdp"
      }
    },
    {
      "cell_type": "code",
      "source": [
        "def addlabels(x,y):\n",
        "    for i in range(len(x)):\n",
        "        plt.text(i,y[i],y[i])"
      ],
      "metadata": {
        "id": "bf0GmY0UAO17"
      },
      "execution_count": 634,
      "outputs": []
    },
    {
      "cell_type": "code",
      "source": [
        "acc = [0.8402702702702702,0.999981981981982,0.999981981981982,0.8921801801801802,0.9861981981981982]\n",
        "names = ['Logistic','DecisonTrees','RandomForest','SVC','KNN']\n",
        "new_acc = np.around(acc,decimals=5)"
      ],
      "metadata": {
        "id": "SzLHDtTE8qqb"
      },
      "execution_count": 635,
      "outputs": []
    },
    {
      "cell_type": "code",
      "source": [
        "plt.bar(names,new_acc)\n",
        "addlabels(names, new_acc)\n",
        "plt.title('Acc Score for Training Data')\n",
        "plt.xlabel('Models')\n",
        "plt.ylabel('Accuracy')"
      ],
      "metadata": {
        "colab": {
          "base_uri": "https://localhost:8080/",
          "height": 489
        },
        "id": "i5IJGxnF98L4",
        "outputId": "4d6434e1-4aa3-48c2-efd8-15ed21966aee"
      },
      "execution_count": 636,
      "outputs": [
        {
          "output_type": "execute_result",
          "data": {
            "text/plain": [
              "Text(0, 0.5, 'Accuracy')"
            ]
          },
          "metadata": {},
          "execution_count": 636
        },
        {
          "output_type": "display_data",
          "data": {
            "text/plain": [
              "<Figure size 640x480 with 1 Axes>"
            ],
            "image/png": "[encoded data removed]"
          },
          "metadata": {}
        }
      ]
    },
    {
      "cell_type": "markdown",
      "source": [
        "# **Checking The Best Accuracy Score using a barplot (For Testing Data)**"
      ],
      "metadata": {
        "id": "RntzZK8I-z2U"
      }
    },
    {
      "cell_type": "code",
      "source": [
        "acc2 = [0.8399394638224272,0.9835687518016719,0.988108965119631,0.8908186797347939,0.9816229460939752]\n",
        "new_acc2 = np.around(acc2,decimals=5)"
      ],
      "metadata": {
        "id": "Pboym_Xi-jVQ"
      },
      "execution_count": 637,
      "outputs": []
    },
    {
      "cell_type": "code",
      "source": [
        "plt.bar(names,new_acc2)\n",
        "addlabels(names, new_acc2)\n",
        "plt.title('Acc Score for Testing Data')\n",
        "plt.xlabel('Models')\n",
        "plt.ylabel('Accuracy')"
      ],
      "metadata": {
        "colab": {
          "base_uri": "https://localhost:8080/",
          "height": 489
        },
        "id": "3Vn7zGDJ_XBH",
        "outputId": "79e06e32-2a2b-4151-9c3e-f56640897dd1"
      },
      "execution_count": 638,
      "outputs": [
        {
          "output_type": "execute_result",
          "data": {
            "text/plain": [
              "Text(0, 0.5, 'Accuracy')"
            ]
          },
          "metadata": {},
          "execution_count": 638
        },
        {
          "output_type": "display_data",
          "data": {
            "text/plain": [
              "<Figure size 640x480 with 1 Axes>"
            ],
            "image/png": "[encoded data removed]"
          },
          "metadata": {}
        }
      ]
    }
  ]
}